{
 "cells": [
  {
   "cell_type": "code",
   "execution_count": 1,
   "metadata": {},
   "outputs": [],
   "source": [
    "import pandas as pd \n",
    "import numpy as np\n",
    "import matplotlib.pyplot as plt  \n",
    "from copy import deepcopy\n",
    "import time \n",
    "import pickle \n"
   ]
  },
  {
   "cell_type": "markdown",
   "metadata": {},
   "source": [
    "## Stored results from e-AutoMFIS"
   ]
  },
  {
   "cell_type": "code",
   "execution_count": 2,
   "metadata": {
    "tags": []
   },
   "outputs": [],
   "source": [
    "with open ('cis_challenge3.results','rb') as f:\n",
    "    daily_results = pickle.load(f)"
   ]
  },
  {
   "cell_type": "code",
   "execution_count": 3,
   "metadata": {},
   "outputs": [
    {
     "data": {
      "text/plain": [
       "array([[ 0.        ,  0.        ,  0.        , ...,  0.        ,\n",
       "         0.        ,  0.        ],\n",
       "       [ 0.        ,  0.        ,  0.        , ...,  0.        ,\n",
       "         0.        ,  0.        ],\n",
       "       [ 0.        ,  0.        ,  0.        , ...,  0.        ,\n",
       "         0.        ,  0.        ],\n",
       "       ...,\n",
       "       [11.50627073,  9.44817744,  5.42526929, ...,  9.7901334 ,\n",
       "        20.87236497,  6.03259831],\n",
       "       [11.48652824,  8.4248898 ,  3.94626453, ...,  9.7901334 ,\n",
       "        18.19204709,  6.19115494],\n",
       "       [12.29861554,  7.97414887,  4.03017548, ...,  9.7901334 ,\n",
       "         5.75287884,  6.05805527]])"
      ]
     },
     "execution_count": 3,
     "metadata": {},
     "output_type": "execute_result"
    }
   ],
   "source": [
    "daily_results"
   ]
  },
  {
   "cell_type": "code",
   "execution_count": 4,
   "metadata": {},
   "outputs": [],
   "source": [
    "dataset = pd.read_csv('series/consumption.csv')\n",
    "info_ = pd.read_csv('series/addInfo.csv')\n",
    "weather_ = pd.read_csv('series/weather-avg.csv')"
   ]
  },
  {
   "cell_type": "code",
   "execution_count": 5,
   "metadata": {},
   "outputs": [
    {
     "data": {
      "text/html": [
       "<div>\n",
       "<style scoped>\n",
       "    .dataframe tbody tr th:only-of-type {\n",
       "        vertical-align: middle;\n",
       "    }\n",
       "\n",
       "    .dataframe tbody tr th {\n",
       "        vertical-align: top;\n",
       "    }\n",
       "\n",
       "    .dataframe thead th {\n",
       "        text-align: right;\n",
       "    }\n",
       "</style>\n",
       "<table border=\"1\" class=\"dataframe\">\n",
       "  <thead>\n",
       "    <tr style=\"text-align: right;\">\n",
       "      <th></th>\n",
       "      <th>meter_id</th>\n",
       "      <th>2017-01-01 00:00:00</th>\n",
       "      <th>2017-01-01 00:30:00</th>\n",
       "      <th>2017-01-01 01:00:00</th>\n",
       "      <th>2017-01-01 01:30:00</th>\n",
       "      <th>2017-01-01 02:00:00</th>\n",
       "      <th>2017-01-01 02:30:00</th>\n",
       "      <th>2017-01-01 03:00:00</th>\n",
       "      <th>2017-01-01 03:30:00</th>\n",
       "      <th>2017-01-01 04:00:00</th>\n",
       "      <th>...</th>\n",
       "      <th>2017-12-31 19:00:00</th>\n",
       "      <th>2017-12-31 19:30:00</th>\n",
       "      <th>2017-12-31 20:00:00</th>\n",
       "      <th>2017-12-31 20:30:00</th>\n",
       "      <th>2017-12-31 21:00:00</th>\n",
       "      <th>2017-12-31 21:30:00</th>\n",
       "      <th>2017-12-31 22:00:00</th>\n",
       "      <th>2017-12-31 22:30:00</th>\n",
       "      <th>2017-12-31 23:00:00</th>\n",
       "      <th>2017-12-31 23:30:00</th>\n",
       "    </tr>\n",
       "  </thead>\n",
       "  <tbody>\n",
       "    <tr>\n",
       "      <th>0</th>\n",
       "      <td>0xa62b9f23553ff183f61e2bf943aab3d5983d02d7</td>\n",
       "      <td>NaN</td>\n",
       "      <td>NaN</td>\n",
       "      <td>NaN</td>\n",
       "      <td>NaN</td>\n",
       "      <td>NaN</td>\n",
       "      <td>NaN</td>\n",
       "      <td>NaN</td>\n",
       "      <td>NaN</td>\n",
       "      <td>NaN</td>\n",
       "      <td>...</td>\n",
       "      <td>0.052</td>\n",
       "      <td>0.091</td>\n",
       "      <td>0.083</td>\n",
       "      <td>0.082</td>\n",
       "      <td>0.090</td>\n",
       "      <td>0.074</td>\n",
       "      <td>0.092</td>\n",
       "      <td>0.076</td>\n",
       "      <td>0.055</td>\n",
       "      <td>0.036</td>\n",
       "    </tr>\n",
       "    <tr>\n",
       "      <th>1</th>\n",
       "      <td>0x459c834d1f6cfb5b734b82aa9f5410fa97fb70da</td>\n",
       "      <td>NaN</td>\n",
       "      <td>NaN</td>\n",
       "      <td>NaN</td>\n",
       "      <td>NaN</td>\n",
       "      <td>NaN</td>\n",
       "      <td>NaN</td>\n",
       "      <td>NaN</td>\n",
       "      <td>NaN</td>\n",
       "      <td>NaN</td>\n",
       "      <td>...</td>\n",
       "      <td>0.402</td>\n",
       "      <td>0.639</td>\n",
       "      <td>0.537</td>\n",
       "      <td>0.834</td>\n",
       "      <td>0.868</td>\n",
       "      <td>0.394</td>\n",
       "      <td>0.073</td>\n",
       "      <td>0.077</td>\n",
       "      <td>0.049</td>\n",
       "      <td>0.048</td>\n",
       "    </tr>\n",
       "    <tr>\n",
       "      <th>2</th>\n",
       "      <td>0x4a1ed36825360a058cec2bdd409fc2459e1ce54f</td>\n",
       "      <td>NaN</td>\n",
       "      <td>NaN</td>\n",
       "      <td>NaN</td>\n",
       "      <td>NaN</td>\n",
       "      <td>NaN</td>\n",
       "      <td>NaN</td>\n",
       "      <td>NaN</td>\n",
       "      <td>NaN</td>\n",
       "      <td>NaN</td>\n",
       "      <td>...</td>\n",
       "      <td>0.110</td>\n",
       "      <td>0.123</td>\n",
       "      <td>0.012</td>\n",
       "      <td>0.034</td>\n",
       "      <td>0.006</td>\n",
       "      <td>0.027</td>\n",
       "      <td>0.001</td>\n",
       "      <td>0.044</td>\n",
       "      <td>0.004</td>\n",
       "      <td>0.035</td>\n",
       "    </tr>\n",
       "    <tr>\n",
       "      <th>3</th>\n",
       "      <td>0x5b76d3c0e0aefc6e0a8d1d031f96388a23263407</td>\n",
       "      <td>NaN</td>\n",
       "      <td>NaN</td>\n",
       "      <td>NaN</td>\n",
       "      <td>NaN</td>\n",
       "      <td>NaN</td>\n",
       "      <td>NaN</td>\n",
       "      <td>NaN</td>\n",
       "      <td>NaN</td>\n",
       "      <td>NaN</td>\n",
       "      <td>...</td>\n",
       "      <td>0.118</td>\n",
       "      <td>0.096</td>\n",
       "      <td>0.135</td>\n",
       "      <td>0.041</td>\n",
       "      <td>0.018</td>\n",
       "      <td>0.057</td>\n",
       "      <td>0.018</td>\n",
       "      <td>0.038</td>\n",
       "      <td>0.040</td>\n",
       "      <td>0.014</td>\n",
       "    </tr>\n",
       "    <tr>\n",
       "      <th>4</th>\n",
       "      <td>0x943ebe39ef2be6ef807c42c5a647e27112ca5b0f</td>\n",
       "      <td>NaN</td>\n",
       "      <td>NaN</td>\n",
       "      <td>NaN</td>\n",
       "      <td>NaN</td>\n",
       "      <td>NaN</td>\n",
       "      <td>NaN</td>\n",
       "      <td>NaN</td>\n",
       "      <td>NaN</td>\n",
       "      <td>NaN</td>\n",
       "      <td>...</td>\n",
       "      <td>0.022</td>\n",
       "      <td>0.010</td>\n",
       "      <td>0.036</td>\n",
       "      <td>0.006</td>\n",
       "      <td>0.024</td>\n",
       "      <td>0.014</td>\n",
       "      <td>0.028</td>\n",
       "      <td>0.006</td>\n",
       "      <td>0.024</td>\n",
       "      <td>0.025</td>\n",
       "    </tr>\n",
       "    <tr>\n",
       "      <th>...</th>\n",
       "      <td>...</td>\n",
       "      <td>...</td>\n",
       "      <td>...</td>\n",
       "      <td>...</td>\n",
       "      <td>...</td>\n",
       "      <td>...</td>\n",
       "      <td>...</td>\n",
       "      <td>...</td>\n",
       "      <td>...</td>\n",
       "      <td>...</td>\n",
       "      <td>...</td>\n",
       "      <td>...</td>\n",
       "      <td>...</td>\n",
       "      <td>...</td>\n",
       "      <td>...</td>\n",
       "      <td>...</td>\n",
       "      <td>...</td>\n",
       "      <td>...</td>\n",
       "      <td>...</td>\n",
       "      <td>...</td>\n",
       "      <td>...</td>\n",
       "    </tr>\n",
       "    <tr>\n",
       "      <th>3243</th>\n",
       "      <td>0x7dd7a7b8ee1bec7c44b24f738c752482f6161065</td>\n",
       "      <td>0.011</td>\n",
       "      <td>1.089</td>\n",
       "      <td>0.014</td>\n",
       "      <td>0.204</td>\n",
       "      <td>0.015</td>\n",
       "      <td>0.159</td>\n",
       "      <td>0.014</td>\n",
       "      <td>0.013</td>\n",
       "      <td>0.174</td>\n",
       "      <td>...</td>\n",
       "      <td>0.176</td>\n",
       "      <td>0.200</td>\n",
       "      <td>0.184</td>\n",
       "      <td>0.177</td>\n",
       "      <td>0.182</td>\n",
       "      <td>0.201</td>\n",
       "      <td>0.181</td>\n",
       "      <td>0.181</td>\n",
       "      <td>0.177</td>\n",
       "      <td>0.198</td>\n",
       "    </tr>\n",
       "    <tr>\n",
       "      <th>3244</th>\n",
       "      <td>0xfdaf9f857621ec06f2cf801f42a020a322835090</td>\n",
       "      <td>0.015</td>\n",
       "      <td>1.523</td>\n",
       "      <td>0.105</td>\n",
       "      <td>0.296</td>\n",
       "      <td>0.067</td>\n",
       "      <td>0.171</td>\n",
       "      <td>0.025</td>\n",
       "      <td>0.260</td>\n",
       "      <td>0.013</td>\n",
       "      <td>...</td>\n",
       "      <td>0.022</td>\n",
       "      <td>0.009</td>\n",
       "      <td>0.028</td>\n",
       "      <td>0.020</td>\n",
       "      <td>0.010</td>\n",
       "      <td>0.009</td>\n",
       "      <td>0.008</td>\n",
       "      <td>0.033</td>\n",
       "      <td>0.015</td>\n",
       "      <td>0.013</td>\n",
       "    </tr>\n",
       "    <tr>\n",
       "      <th>3245</th>\n",
       "      <td>0xd28f2f001e0cd4d6c121a3cb2e1427207e170e18</td>\n",
       "      <td>0.222</td>\n",
       "      <td>0.276</td>\n",
       "      <td>0.097</td>\n",
       "      <td>0.058</td>\n",
       "      <td>0.045</td>\n",
       "      <td>0.045</td>\n",
       "      <td>0.038</td>\n",
       "      <td>0.034</td>\n",
       "      <td>0.043</td>\n",
       "      <td>...</td>\n",
       "      <td>0.144</td>\n",
       "      <td>0.169</td>\n",
       "      <td>0.145</td>\n",
       "      <td>0.200</td>\n",
       "      <td>0.170</td>\n",
       "      <td>0.127</td>\n",
       "      <td>0.135</td>\n",
       "      <td>0.200</td>\n",
       "      <td>0.118</td>\n",
       "      <td>0.106</td>\n",
       "    </tr>\n",
       "    <tr>\n",
       "      <th>3246</th>\n",
       "      <td>0x47218b46abb2fcaade487a211911406dc6e13730</td>\n",
       "      <td>0.195</td>\n",
       "      <td>2.881</td>\n",
       "      <td>1.765</td>\n",
       "      <td>1.391</td>\n",
       "      <td>1.609</td>\n",
       "      <td>1.362</td>\n",
       "      <td>1.352</td>\n",
       "      <td>1.321</td>\n",
       "      <td>0.701</td>\n",
       "      <td>...</td>\n",
       "      <td>0.186</td>\n",
       "      <td>0.163</td>\n",
       "      <td>0.170</td>\n",
       "      <td>0.175</td>\n",
       "      <td>0.167</td>\n",
       "      <td>0.185</td>\n",
       "      <td>0.171</td>\n",
       "      <td>0.196</td>\n",
       "      <td>0.260</td>\n",
       "      <td>0.318</td>\n",
       "    </tr>\n",
       "    <tr>\n",
       "      <th>3247</th>\n",
       "      <td>0xcd19e6fe3d887bc5dcac7ca18d46199695463fdd</td>\n",
       "      <td>0.023</td>\n",
       "      <td>2.307</td>\n",
       "      <td>1.403</td>\n",
       "      <td>1.471</td>\n",
       "      <td>1.421</td>\n",
       "      <td>1.305</td>\n",
       "      <td>1.299</td>\n",
       "      <td>0.657</td>\n",
       "      <td>0.054</td>\n",
       "      <td>...</td>\n",
       "      <td>0.182</td>\n",
       "      <td>0.182</td>\n",
       "      <td>0.194</td>\n",
       "      <td>0.187</td>\n",
       "      <td>0.170</td>\n",
       "      <td>0.200</td>\n",
       "      <td>0.203</td>\n",
       "      <td>0.203</td>\n",
       "      <td>0.190</td>\n",
       "      <td>0.186</td>\n",
       "    </tr>\n",
       "  </tbody>\n",
       "</table>\n",
       "<p>3248 rows × 17521 columns</p>\n",
       "</div>"
      ],
      "text/plain": [
       "                                        meter_id  2017-01-01 00:00:00  \\\n",
       "0     0xa62b9f23553ff183f61e2bf943aab3d5983d02d7                  NaN   \n",
       "1     0x459c834d1f6cfb5b734b82aa9f5410fa97fb70da                  NaN   \n",
       "2     0x4a1ed36825360a058cec2bdd409fc2459e1ce54f                  NaN   \n",
       "3     0x5b76d3c0e0aefc6e0a8d1d031f96388a23263407                  NaN   \n",
       "4     0x943ebe39ef2be6ef807c42c5a647e27112ca5b0f                  NaN   \n",
       "...                                          ...                  ...   \n",
       "3243  0x7dd7a7b8ee1bec7c44b24f738c752482f6161065                0.011   \n",
       "3244  0xfdaf9f857621ec06f2cf801f42a020a322835090                0.015   \n",
       "3245  0xd28f2f001e0cd4d6c121a3cb2e1427207e170e18                0.222   \n",
       "3246  0x47218b46abb2fcaade487a211911406dc6e13730                0.195   \n",
       "3247  0xcd19e6fe3d887bc5dcac7ca18d46199695463fdd                0.023   \n",
       "\n",
       "      2017-01-01 00:30:00  2017-01-01 01:00:00  2017-01-01 01:30:00  \\\n",
       "0                     NaN                  NaN                  NaN   \n",
       "1                     NaN                  NaN                  NaN   \n",
       "2                     NaN                  NaN                  NaN   \n",
       "3                     NaN                  NaN                  NaN   \n",
       "4                     NaN                  NaN                  NaN   \n",
       "...                   ...                  ...                  ...   \n",
       "3243                1.089                0.014                0.204   \n",
       "3244                1.523                0.105                0.296   \n",
       "3245                0.276                0.097                0.058   \n",
       "3246                2.881                1.765                1.391   \n",
       "3247                2.307                1.403                1.471   \n",
       "\n",
       "      2017-01-01 02:00:00  2017-01-01 02:30:00  2017-01-01 03:00:00  \\\n",
       "0                     NaN                  NaN                  NaN   \n",
       "1                     NaN                  NaN                  NaN   \n",
       "2                     NaN                  NaN                  NaN   \n",
       "3                     NaN                  NaN                  NaN   \n",
       "4                     NaN                  NaN                  NaN   \n",
       "...                   ...                  ...                  ...   \n",
       "3243                0.015                0.159                0.014   \n",
       "3244                0.067                0.171                0.025   \n",
       "3245                0.045                0.045                0.038   \n",
       "3246                1.609                1.362                1.352   \n",
       "3247                1.421                1.305                1.299   \n",
       "\n",
       "      2017-01-01 03:30:00  2017-01-01 04:00:00  ...  2017-12-31 19:00:00  \\\n",
       "0                     NaN                  NaN  ...                0.052   \n",
       "1                     NaN                  NaN  ...                0.402   \n",
       "2                     NaN                  NaN  ...                0.110   \n",
       "3                     NaN                  NaN  ...                0.118   \n",
       "4                     NaN                  NaN  ...                0.022   \n",
       "...                   ...                  ...  ...                  ...   \n",
       "3243                0.013                0.174  ...                0.176   \n",
       "3244                0.260                0.013  ...                0.022   \n",
       "3245                0.034                0.043  ...                0.144   \n",
       "3246                1.321                0.701  ...                0.186   \n",
       "3247                0.657                0.054  ...                0.182   \n",
       "\n",
       "      2017-12-31 19:30:00  2017-12-31 20:00:00  2017-12-31 20:30:00  \\\n",
       "0                   0.091                0.083                0.082   \n",
       "1                   0.639                0.537                0.834   \n",
       "2                   0.123                0.012                0.034   \n",
       "3                   0.096                0.135                0.041   \n",
       "4                   0.010                0.036                0.006   \n",
       "...                   ...                  ...                  ...   \n",
       "3243                0.200                0.184                0.177   \n",
       "3244                0.009                0.028                0.020   \n",
       "3245                0.169                0.145                0.200   \n",
       "3246                0.163                0.170                0.175   \n",
       "3247                0.182                0.194                0.187   \n",
       "\n",
       "      2017-12-31 21:00:00  2017-12-31 21:30:00  2017-12-31 22:00:00  \\\n",
       "0                   0.090                0.074                0.092   \n",
       "1                   0.868                0.394                0.073   \n",
       "2                   0.006                0.027                0.001   \n",
       "3                   0.018                0.057                0.018   \n",
       "4                   0.024                0.014                0.028   \n",
       "...                   ...                  ...                  ...   \n",
       "3243                0.182                0.201                0.181   \n",
       "3244                0.010                0.009                0.008   \n",
       "3245                0.170                0.127                0.135   \n",
       "3246                0.167                0.185                0.171   \n",
       "3247                0.170                0.200                0.203   \n",
       "\n",
       "      2017-12-31 22:30:00  2017-12-31 23:00:00  2017-12-31 23:30:00  \n",
       "0                   0.076                0.055                0.036  \n",
       "1                   0.077                0.049                0.048  \n",
       "2                   0.044                0.004                0.035  \n",
       "3                   0.038                0.040                0.014  \n",
       "4                   0.006                0.024                0.025  \n",
       "...                   ...                  ...                  ...  \n",
       "3243                0.181                0.177                0.198  \n",
       "3244                0.033                0.015                0.013  \n",
       "3245                0.200                0.118                0.106  \n",
       "3246                0.196                0.260                0.318  \n",
       "3247                0.203                0.190                0.186  \n",
       "\n",
       "[3248 rows x 17521 columns]"
      ]
     },
     "execution_count": 5,
     "metadata": {},
     "output_type": "execute_result"
    }
   ],
   "source": [
    "dataset"
   ]
  },
  {
   "cell_type": "code",
   "execution_count": 6,
   "metadata": {},
   "outputs": [
    {
     "data": {
      "text/plain": [
       "array([ 1.,  2.,  3.,  4.,  5., nan])"
      ]
     },
     "execution_count": 6,
     "metadata": {},
     "output_type": "execute_result"
    }
   ],
   "source": [
    "np.unique(info_['num_bedrooms'])"
   ]
  },
  {
   "cell_type": "code",
   "execution_count": 7,
   "metadata": {},
   "outputs": [],
   "source": [
    "null_info = dataset.isna().sum(axis=1)"
   ]
  },
  {
   "cell_type": "code",
   "execution_count": 8,
   "metadata": {},
   "outputs": [
    {
     "data": {
      "text/plain": [
       "0       16416\n",
       "1       16416\n",
       "2       16416\n",
       "3       16416\n",
       "4       16416\n",
       "        ...  \n",
       "3243     1392\n",
       "3244     2400\n",
       "3245     1344\n",
       "3246     1296\n",
       "3247     1392\n",
       "Length: 3248, dtype: int64"
      ]
     },
     "execution_count": 8,
     "metadata": {},
     "output_type": "execute_result"
    }
   ],
   "source": [
    "null_info"
   ]
  },
  {
   "cell_type": "code",
   "execution_count": 9,
   "metadata": {},
   "outputs": [],
   "source": [
    "null_count = {}\n",
    "for val in np.unique(null_info):\n",
    "    idd = np.where(null_info == val)\n",
    "    null_count[val] = len(idd[0])"
   ]
  },
  {
   "cell_type": "code",
   "execution_count": 10,
   "metadata": {
    "tags": []
   },
   "outputs": [
    {
     "data": {
      "text/plain": [
       "{192: 1,\n",
       " 1200: 2,\n",
       " 1248: 15,\n",
       " 1296: 60,\n",
       " 1344: 83,\n",
       " 1392: 62,\n",
       " 1440: 23,\n",
       " 1488: 7,\n",
       " 1536: 1,\n",
       " 1584: 1,\n",
       " 1632: 2,\n",
       " 1709: 1,\n",
       " 1776: 2,\n",
       " 1872: 2,\n",
       " 1920: 2,\n",
       " 1968: 1,\n",
       " 2049: 1,\n",
       " 2112: 1,\n",
       " 2256: 1,\n",
       " 2400: 1,\n",
       " 2640: 3,\n",
       " 2688: 22,\n",
       " 2736: 63,\n",
       " 2784: 77,\n",
       " 2832: 48,\n",
       " 2880: 27,\n",
       " 2928: 3,\n",
       " 2976: 5,\n",
       " 3024: 1,\n",
       " 3072: 3,\n",
       " 3120: 2,\n",
       " 3168: 2,\n",
       " 3264: 1,\n",
       " 3299: 1,\n",
       " 3312: 1,\n",
       " 3360: 2,\n",
       " 3504: 1,\n",
       " 3552: 1,\n",
       " 3600: 2,\n",
       " 3840: 1,\n",
       " 3984: 5,\n",
       " 4032: 21,\n",
       " 4080: 56,\n",
       " 4128: 74,\n",
       " 4176: 64,\n",
       " 4224: 21,\n",
       " 4272: 10,\n",
       " 4320: 2,\n",
       " 4368: 1,\n",
       " 4416: 1,\n",
       " 4464: 1,\n",
       " 4512: 1,\n",
       " 4656: 1,\n",
       " 4704: 2,\n",
       " 4752: 1,\n",
       " 4783: 1,\n",
       " 4800: 1,\n",
       " 4992: 2,\n",
       " 5088: 1,\n",
       " 5280: 1,\n",
       " 5472: 5,\n",
       " 5520: 33,\n",
       " 5568: 76,\n",
       " 5616: 82,\n",
       " 5664: 38,\n",
       " 5712: 8,\n",
       " 5760: 4,\n",
       " 5808: 4,\n",
       " 5856: 1,\n",
       " 5904: 2,\n",
       " 5952: 2,\n",
       " 6000: 2,\n",
       " 6048: 1,\n",
       " 6096: 2,\n",
       " 6144: 1,\n",
       " 6192: 1,\n",
       " 6288: 2,\n",
       " 6336: 1,\n",
       " 6384: 1,\n",
       " 6480: 1,\n",
       " 6576: 1,\n",
       " 6624: 1,\n",
       " 6912: 5,\n",
       " 6960: 25,\n",
       " 7008: 86,\n",
       " 7056: 80,\n",
       " 7104: 36,\n",
       " 7152: 13,\n",
       " 7200: 8,\n",
       " 7248: 3,\n",
       " 7344: 2,\n",
       " 7392: 3,\n",
       " 7440: 1,\n",
       " 7488: 1,\n",
       " 7536: 2,\n",
       " 7584: 1,\n",
       " 7776: 2,\n",
       " 8064: 1,\n",
       " 8112: 1,\n",
       " 8208: 52,\n",
       " 8256: 161,\n",
       " 8304: 34,\n",
       " 8352: 3,\n",
       " 8400: 10,\n",
       " 8448: 1,\n",
       " 8496: 1,\n",
       " 8592: 1,\n",
       " 8640: 2,\n",
       " 8688: 1,\n",
       " 8784: 1,\n",
       " 8832: 1,\n",
       " 8880: 1,\n",
       " 8976: 1,\n",
       " 9072: 1,\n",
       " 9120: 1,\n",
       " 9168: 1,\n",
       " 9216: 1,\n",
       " 9360: 1,\n",
       " 9648: 52,\n",
       " 9696: 157,\n",
       " 9744: 27,\n",
       " 9792: 10,\n",
       " 9840: 3,\n",
       " 9888: 2,\n",
       " 9936: 6,\n",
       " 9984: 2,\n",
       " 10080: 1,\n",
       " 10128: 1,\n",
       " 10272: 2,\n",
       " 10320: 2,\n",
       " 10416: 1,\n",
       " 10464: 1,\n",
       " 10704: 2,\n",
       " 10752: 1,\n",
       " 10800: 1,\n",
       " 10848: 1,\n",
       " 11088: 47,\n",
       " 11136: 179,\n",
       " 11184: 28,\n",
       " 11232: 3,\n",
       " 11280: 2,\n",
       " 11328: 2,\n",
       " 11424: 3,\n",
       " 11520: 1,\n",
       " 11568: 1,\n",
       " 11664: 2,\n",
       " 11812: 1,\n",
       " 11952: 1,\n",
       " 12144: 1,\n",
       " 12192: 1,\n",
       " 12528: 65,\n",
       " 12576: 162,\n",
       " 12624: 25,\n",
       " 12672: 8,\n",
       " 12720: 1,\n",
       " 12768: 1,\n",
       " 12864: 2,\n",
       " 13152: 2,\n",
       " 13248: 1,\n",
       " 13296: 1,\n",
       " 13344: 1,\n",
       " 13392: 2,\n",
       " 13632: 1,\n",
       " 13824: 237,\n",
       " 13872: 22,\n",
       " 13920: 2,\n",
       " 13968: 1,\n",
       " 14016: 1,\n",
       " 14112: 1,\n",
       " 14160: 1,\n",
       " 14208: 1,\n",
       " 14448: 1,\n",
       " 14592: 2,\n",
       " 14640: 1,\n",
       " 14688: 1,\n",
       " 14976: 1,\n",
       " 15024: 250,\n",
       " 15072: 14,\n",
       " 15120: 1,\n",
       " 15168: 1,\n",
       " 15216: 1,\n",
       " 15264: 1,\n",
       " 15312: 2,\n",
       " 15552: 1,\n",
       " 16032: 1,\n",
       " 16176: 1,\n",
       " 16416: 257,\n",
       " 16464: 6,\n",
       " 16512: 3,\n",
       " 16560: 1,\n",
       " 16608: 1,\n",
       " 16944: 1,\n",
       " 17040: 1,\n",
       " 17088: 1}"
      ]
     },
     "execution_count": 10,
     "metadata": {},
     "output_type": "execute_result"
    }
   ],
   "source": [
    "null_count"
   ]
  },
  {
   "cell_type": "code",
   "execution_count": 11,
   "metadata": {
    "tags": []
   },
   "outputs": [],
   "source": [
    "range_list = [0]*(20000//500)\n",
    "for k,v in null_count.items():\n",
    "    i = k // 500\n",
    "    range_list[i] += v"
   ]
  },
  {
   "cell_type": "code",
   "execution_count": 12,
   "metadata": {
    "tags": []
   },
   "outputs": [
    {
     "data": {
      "text/plain": [
       "[1,\n",
       " 0,\n",
       " 252,\n",
       " 12,\n",
       " 4,\n",
       " 248,\n",
       " 13,\n",
       " 10,\n",
       " 251,\n",
       " 9,\n",
       " 7,\n",
       " 250,\n",
       " 12,\n",
       " 32,\n",
       " 233,\n",
       " 5,\n",
       " 264,\n",
       " 8,\n",
       " 5,\n",
       " 259,\n",
       " 8,\n",
       " 5,\n",
       " 264,\n",
       " 6,\n",
       " 2,\n",
       " 264,\n",
       " 7,\n",
       " 263,\n",
       " 5,\n",
       " 5,\n",
       " 270,\n",
       " 1,\n",
       " 265,\n",
       " 6,\n",
       " 2,\n",
       " 0,\n",
       " 0,\n",
       " 0,\n",
       " 0,\n",
       " 0]"
      ]
     },
     "execution_count": 12,
     "metadata": {},
     "output_type": "execute_result"
    }
   ],
   "source": [
    "range_list"
   ]
  },
  {
   "cell_type": "code",
   "execution_count": 13,
   "metadata": {},
   "outputs": [
    {
     "data": {
      "text/plain": [
       "Text(0.5, 1.0, 'Missing values histogram')"
      ]
     },
     "execution_count": 13,
     "metadata": {},
     "output_type": "execute_result"
    },
    {
     "data": {
      "image/png": "[encoded data removed]",
      "text/plain": [
       "<Figure size 1152x720 with 1 Axes>"
      ]
     },
     "metadata": {
      "needs_background": "light"
     },
     "output_type": "display_data"
    }
   ],
   "source": [
    "plt.figure(figsize=(16,10))\n",
    "plt.hist(null_info,bins=35)\n",
    "plt.ylabel('# Series')\n",
    "plt.xlabel('# Missing values')\n",
    "plt.title('Missing values histogram')"
   ]
  },
  {
   "cell_type": "code",
   "execution_count": 14,
   "metadata": {},
   "outputs": [
    {
     "data": {
      "text/html": [
       "<div>\n",
       "<style scoped>\n",
       "    .dataframe tbody tr th:only-of-type {\n",
       "        vertical-align: middle;\n",
       "    }\n",
       "\n",
       "    .dataframe tbody tr th {\n",
       "        vertical-align: top;\n",
       "    }\n",
       "\n",
       "    .dataframe thead th {\n",
       "        text-align: right;\n",
       "    }\n",
       "</style>\n",
       "<table border=\"1\" class=\"dataframe\">\n",
       "  <thead>\n",
       "    <tr style=\"text-align: right;\">\n",
       "      <th></th>\n",
       "      <th>meter_id</th>\n",
       "      <th>dwelling_type</th>\n",
       "      <th>num_occupants</th>\n",
       "      <th>num_bedrooms</th>\n",
       "      <th>heating_fuel</th>\n",
       "      <th>hot_water_fuel</th>\n",
       "      <th>boiler_age</th>\n",
       "      <th>loft_insulation</th>\n",
       "      <th>wall_insulation</th>\n",
       "      <th>heating_temperature</th>\n",
       "      <th>...</th>\n",
       "      <th>refrigerator</th>\n",
       "      <th>tumble_dryer</th>\n",
       "      <th>washing_machine</th>\n",
       "      <th>game_console</th>\n",
       "      <th>laptop</th>\n",
       "      <th>pc</th>\n",
       "      <th>router</th>\n",
       "      <th>set_top_box</th>\n",
       "      <th>tablet</th>\n",
       "      <th>tv</th>\n",
       "    </tr>\n",
       "  </thead>\n",
       "  <tbody>\n",
       "    <tr>\n",
       "      <th>0</th>\n",
       "      <td>0x02b7418b821b2edeeb2baa23ba1580566b4b0e43</td>\n",
       "      <td>semi_detached_house</td>\n",
       "      <td>NaN</td>\n",
       "      <td>3.0</td>\n",
       "      <td>NaN</td>\n",
       "      <td>NaN</td>\n",
       "      <td>NaN</td>\n",
       "      <td>NaN</td>\n",
       "      <td>NaN</td>\n",
       "      <td>NaN</td>\n",
       "      <td>...</td>\n",
       "      <td>NaN</td>\n",
       "      <td>NaN</td>\n",
       "      <td>NaN</td>\n",
       "      <td>NaN</td>\n",
       "      <td>NaN</td>\n",
       "      <td>NaN</td>\n",
       "      <td>NaN</td>\n",
       "      <td>NaN</td>\n",
       "      <td>NaN</td>\n",
       "      <td>NaN</td>\n",
       "    </tr>\n",
       "    <tr>\n",
       "      <th>1</th>\n",
       "      <td>0xaf32b2b497e9eb9c3f3de907aedc6a7914a11f41</td>\n",
       "      <td>terraced_house</td>\n",
       "      <td>NaN</td>\n",
       "      <td>2.0</td>\n",
       "      <td>NaN</td>\n",
       "      <td>NaN</td>\n",
       "      <td>NaN</td>\n",
       "      <td>NaN</td>\n",
       "      <td>NaN</td>\n",
       "      <td>NaN</td>\n",
       "      <td>...</td>\n",
       "      <td>NaN</td>\n",
       "      <td>NaN</td>\n",
       "      <td>NaN</td>\n",
       "      <td>NaN</td>\n",
       "      <td>NaN</td>\n",
       "      <td>NaN</td>\n",
       "      <td>NaN</td>\n",
       "      <td>NaN</td>\n",
       "      <td>NaN</td>\n",
       "      <td>NaN</td>\n",
       "    </tr>\n",
       "    <tr>\n",
       "      <th>2</th>\n",
       "      <td>0xdd45ab28a7a40eadc04607d6da42e5ad923b1339</td>\n",
       "      <td>semi_detached_house</td>\n",
       "      <td>NaN</td>\n",
       "      <td>NaN</td>\n",
       "      <td>NaN</td>\n",
       "      <td>NaN</td>\n",
       "      <td>NaN</td>\n",
       "      <td>NaN</td>\n",
       "      <td>NaN</td>\n",
       "      <td>NaN</td>\n",
       "      <td>...</td>\n",
       "      <td>NaN</td>\n",
       "      <td>NaN</td>\n",
       "      <td>NaN</td>\n",
       "      <td>NaN</td>\n",
       "      <td>NaN</td>\n",
       "      <td>NaN</td>\n",
       "      <td>NaN</td>\n",
       "      <td>NaN</td>\n",
       "      <td>NaN</td>\n",
       "      <td>NaN</td>\n",
       "    </tr>\n",
       "    <tr>\n",
       "      <th>3</th>\n",
       "      <td>0x2b538a5ebfc3780aef25227267063cb6410d943b</td>\n",
       "      <td>detached_house</td>\n",
       "      <td>NaN</td>\n",
       "      <td>4.0</td>\n",
       "      <td>NaN</td>\n",
       "      <td>NaN</td>\n",
       "      <td>NaN</td>\n",
       "      <td>NaN</td>\n",
       "      <td>NaN</td>\n",
       "      <td>NaN</td>\n",
       "      <td>...</td>\n",
       "      <td>NaN</td>\n",
       "      <td>NaN</td>\n",
       "      <td>NaN</td>\n",
       "      <td>NaN</td>\n",
       "      <td>NaN</td>\n",
       "      <td>NaN</td>\n",
       "      <td>NaN</td>\n",
       "      <td>NaN</td>\n",
       "      <td>NaN</td>\n",
       "      <td>NaN</td>\n",
       "    </tr>\n",
       "    <tr>\n",
       "      <th>4</th>\n",
       "      <td>0xee032ed498c9e99a4c65e0f39896fb30e513c6b7</td>\n",
       "      <td>NaN</td>\n",
       "      <td>NaN</td>\n",
       "      <td>NaN</td>\n",
       "      <td>NaN</td>\n",
       "      <td>NaN</td>\n",
       "      <td>NaN</td>\n",
       "      <td>NaN</td>\n",
       "      <td>NaN</td>\n",
       "      <td>NaN</td>\n",
       "      <td>...</td>\n",
       "      <td>NaN</td>\n",
       "      <td>NaN</td>\n",
       "      <td>NaN</td>\n",
       "      <td>NaN</td>\n",
       "      <td>NaN</td>\n",
       "      <td>NaN</td>\n",
       "      <td>NaN</td>\n",
       "      <td>NaN</td>\n",
       "      <td>NaN</td>\n",
       "      <td>NaN</td>\n",
       "    </tr>\n",
       "    <tr>\n",
       "      <th>...</th>\n",
       "      <td>...</td>\n",
       "      <td>...</td>\n",
       "      <td>...</td>\n",
       "      <td>...</td>\n",
       "      <td>...</td>\n",
       "      <td>...</td>\n",
       "      <td>...</td>\n",
       "      <td>...</td>\n",
       "      <td>...</td>\n",
       "      <td>...</td>\n",
       "      <td>...</td>\n",
       "      <td>...</td>\n",
       "      <td>...</td>\n",
       "      <td>...</td>\n",
       "      <td>...</td>\n",
       "      <td>...</td>\n",
       "      <td>...</td>\n",
       "      <td>...</td>\n",
       "      <td>...</td>\n",
       "      <td>...</td>\n",
       "      <td>...</td>\n",
       "    </tr>\n",
       "    <tr>\n",
       "      <th>2138</th>\n",
       "      <td>0xb9c600842cb2d195d461d675f2758ddbf5bb45bb</td>\n",
       "      <td>terraced_house</td>\n",
       "      <td>2.0</td>\n",
       "      <td>2.0</td>\n",
       "      <td>gas</td>\n",
       "      <td>gas</td>\n",
       "      <td>old</td>\n",
       "      <td>y</td>\n",
       "      <td>n</td>\n",
       "      <td>18_to_20</td>\n",
       "      <td>...</td>\n",
       "      <td>0.0</td>\n",
       "      <td>0.0</td>\n",
       "      <td>1.0</td>\n",
       "      <td>1.0</td>\n",
       "      <td>0.0</td>\n",
       "      <td>2.0</td>\n",
       "      <td>1.0</td>\n",
       "      <td>1.0</td>\n",
       "      <td>0.0</td>\n",
       "      <td>1.0</td>\n",
       "    </tr>\n",
       "    <tr>\n",
       "      <th>2139</th>\n",
       "      <td>0x429e76a41f3141d9e62c4975e6b5df303cb45e64</td>\n",
       "      <td>bungalow</td>\n",
       "      <td>NaN</td>\n",
       "      <td>3.0</td>\n",
       "      <td>NaN</td>\n",
       "      <td>NaN</td>\n",
       "      <td>NaN</td>\n",
       "      <td>NaN</td>\n",
       "      <td>NaN</td>\n",
       "      <td>NaN</td>\n",
       "      <td>...</td>\n",
       "      <td>NaN</td>\n",
       "      <td>NaN</td>\n",
       "      <td>NaN</td>\n",
       "      <td>NaN</td>\n",
       "      <td>NaN</td>\n",
       "      <td>NaN</td>\n",
       "      <td>NaN</td>\n",
       "      <td>NaN</td>\n",
       "      <td>NaN</td>\n",
       "      <td>NaN</td>\n",
       "    </tr>\n",
       "    <tr>\n",
       "      <th>2140</th>\n",
       "      <td>0x65fbd9ba598e703d742a32058ea2b323fe4c1fca</td>\n",
       "      <td>NaN</td>\n",
       "      <td>NaN</td>\n",
       "      <td>NaN</td>\n",
       "      <td>NaN</td>\n",
       "      <td>NaN</td>\n",
       "      <td>NaN</td>\n",
       "      <td>NaN</td>\n",
       "      <td>NaN</td>\n",
       "      <td>NaN</td>\n",
       "      <td>...</td>\n",
       "      <td>NaN</td>\n",
       "      <td>NaN</td>\n",
       "      <td>NaN</td>\n",
       "      <td>NaN</td>\n",
       "      <td>NaN</td>\n",
       "      <td>NaN</td>\n",
       "      <td>NaN</td>\n",
       "      <td>NaN</td>\n",
       "      <td>NaN</td>\n",
       "      <td>NaN</td>\n",
       "    </tr>\n",
       "    <tr>\n",
       "      <th>2141</th>\n",
       "      <td>0x101f2dc409b3b95d2bb08ebe5d282f54317e3f8c</td>\n",
       "      <td>bungalow</td>\n",
       "      <td>NaN</td>\n",
       "      <td>4.0</td>\n",
       "      <td>NaN</td>\n",
       "      <td>NaN</td>\n",
       "      <td>NaN</td>\n",
       "      <td>NaN</td>\n",
       "      <td>NaN</td>\n",
       "      <td>NaN</td>\n",
       "      <td>...</td>\n",
       "      <td>NaN</td>\n",
       "      <td>NaN</td>\n",
       "      <td>NaN</td>\n",
       "      <td>NaN</td>\n",
       "      <td>NaN</td>\n",
       "      <td>NaN</td>\n",
       "      <td>NaN</td>\n",
       "      <td>NaN</td>\n",
       "      <td>NaN</td>\n",
       "      <td>NaN</td>\n",
       "    </tr>\n",
       "    <tr>\n",
       "      <th>2142</th>\n",
       "      <td>0x9ad41b18c2be3a845acb599af1dc4570feb88489</td>\n",
       "      <td>bungalow</td>\n",
       "      <td>NaN</td>\n",
       "      <td>3.0</td>\n",
       "      <td>NaN</td>\n",
       "      <td>NaN</td>\n",
       "      <td>NaN</td>\n",
       "      <td>NaN</td>\n",
       "      <td>NaN</td>\n",
       "      <td>NaN</td>\n",
       "      <td>...</td>\n",
       "      <td>NaN</td>\n",
       "      <td>NaN</td>\n",
       "      <td>NaN</td>\n",
       "      <td>NaN</td>\n",
       "      <td>NaN</td>\n",
       "      <td>NaN</td>\n",
       "      <td>NaN</td>\n",
       "      <td>NaN</td>\n",
       "      <td>NaN</td>\n",
       "      <td>NaN</td>\n",
       "    </tr>\n",
       "  </tbody>\n",
       "</table>\n",
       "<p>2143 rows × 24 columns</p>\n",
       "</div>"
      ],
      "text/plain": [
       "                                        meter_id        dwelling_type  \\\n",
       "0     0x02b7418b821b2edeeb2baa23ba1580566b4b0e43  semi_detached_house   \n",
       "1     0xaf32b2b497e9eb9c3f3de907aedc6a7914a11f41       terraced_house   \n",
       "2     0xdd45ab28a7a40eadc04607d6da42e5ad923b1339  semi_detached_house   \n",
       "3     0x2b538a5ebfc3780aef25227267063cb6410d943b       detached_house   \n",
       "4     0xee032ed498c9e99a4c65e0f39896fb30e513c6b7                  NaN   \n",
       "...                                          ...                  ...   \n",
       "2138  0xb9c600842cb2d195d461d675f2758ddbf5bb45bb       terraced_house   \n",
       "2139  0x429e76a41f3141d9e62c4975e6b5df303cb45e64             bungalow   \n",
       "2140  0x65fbd9ba598e703d742a32058ea2b323fe4c1fca                  NaN   \n",
       "2141  0x101f2dc409b3b95d2bb08ebe5d282f54317e3f8c             bungalow   \n",
       "2142  0x9ad41b18c2be3a845acb599af1dc4570feb88489             bungalow   \n",
       "\n",
       "      num_occupants  num_bedrooms heating_fuel hot_water_fuel boiler_age  \\\n",
       "0               NaN           3.0          NaN            NaN        NaN   \n",
       "1               NaN           2.0          NaN            NaN        NaN   \n",
       "2               NaN           NaN          NaN            NaN        NaN   \n",
       "3               NaN           4.0          NaN            NaN        NaN   \n",
       "4               NaN           NaN          NaN            NaN        NaN   \n",
       "...             ...           ...          ...            ...        ...   \n",
       "2138            2.0           2.0          gas            gas        old   \n",
       "2139            NaN           3.0          NaN            NaN        NaN   \n",
       "2140            NaN           NaN          NaN            NaN        NaN   \n",
       "2141            NaN           4.0          NaN            NaN        NaN   \n",
       "2142            NaN           3.0          NaN            NaN        NaN   \n",
       "\n",
       "     loft_insulation wall_insulation heating_temperature  ... refrigerator  \\\n",
       "0                NaN             NaN                 NaN  ...          NaN   \n",
       "1                NaN             NaN                 NaN  ...          NaN   \n",
       "2                NaN             NaN                 NaN  ...          NaN   \n",
       "3                NaN             NaN                 NaN  ...          NaN   \n",
       "4                NaN             NaN                 NaN  ...          NaN   \n",
       "...              ...             ...                 ...  ...          ...   \n",
       "2138               y               n            18_to_20  ...          0.0   \n",
       "2139             NaN             NaN                 NaN  ...          NaN   \n",
       "2140             NaN             NaN                 NaN  ...          NaN   \n",
       "2141             NaN             NaN                 NaN  ...          NaN   \n",
       "2142             NaN             NaN                 NaN  ...          NaN   \n",
       "\n",
       "      tumble_dryer  washing_machine  game_console  laptop   pc  router  \\\n",
       "0              NaN              NaN           NaN     NaN  NaN     NaN   \n",
       "1              NaN              NaN           NaN     NaN  NaN     NaN   \n",
       "2              NaN              NaN           NaN     NaN  NaN     NaN   \n",
       "3              NaN              NaN           NaN     NaN  NaN     NaN   \n",
       "4              NaN              NaN           NaN     NaN  NaN     NaN   \n",
       "...            ...              ...           ...     ...  ...     ...   \n",
       "2138           0.0              1.0           1.0     0.0  2.0     1.0   \n",
       "2139           NaN              NaN           NaN     NaN  NaN     NaN   \n",
       "2140           NaN              NaN           NaN     NaN  NaN     NaN   \n",
       "2141           NaN              NaN           NaN     NaN  NaN     NaN   \n",
       "2142           NaN              NaN           NaN     NaN  NaN     NaN   \n",
       "\n",
       "      set_top_box  tablet   tv  \n",
       "0             NaN     NaN  NaN  \n",
       "1             NaN     NaN  NaN  \n",
       "2             NaN     NaN  NaN  \n",
       "3             NaN     NaN  NaN  \n",
       "4             NaN     NaN  NaN  \n",
       "...           ...     ...  ...  \n",
       "2138          1.0     0.0  1.0  \n",
       "2139          NaN     NaN  NaN  \n",
       "2140          NaN     NaN  NaN  \n",
       "2141          NaN     NaN  NaN  \n",
       "2142          NaN     NaN  NaN  \n",
       "\n",
       "[2143 rows x 24 columns]"
      ]
     },
     "execution_count": 14,
     "metadata": {},
     "output_type": "execute_result"
    }
   ],
   "source": [
    "info_"
   ]
  },
  {
   "cell_type": "code",
   "execution_count": 15,
   "metadata": {},
   "outputs": [
    {
     "data": {
      "text/plain": [
       "array(['semi_detached_house', 'terraced_house', 'detached_house', nan,\n",
       "       'bungalow', 'flat'], dtype=object)"
      ]
     },
     "execution_count": 15,
     "metadata": {},
     "output_type": "execute_result"
    }
   ],
   "source": [
    "info_['dwelling_type'].unique()"
   ]
  },
  {
   "cell_type": "code",
   "execution_count": 16,
   "metadata": {},
   "outputs": [],
   "source": [
    "info_['num_bedrooms'].fillna(0,inplace=True)"
   ]
  },
  {
   "cell_type": "code",
   "execution_count": 17,
   "metadata": {},
   "outputs": [],
   "source": [
    "#explode = (0, 0, 0, 0.1, 0, 0,)\n",
    "#plt.pie(num_bedrooms, explode=explode, labels=np.arange(0,6), autopct='%1.1f%%',shadow=True,radius=2)"
   ]
  },
  {
   "cell_type": "code",
   "execution_count": 18,
   "metadata": {},
   "outputs": [],
   "source": [
    "dataset.fillna(method='pad',inplace=True)"
   ]
  },
  {
   "cell_type": "code",
   "execution_count": 19,
   "metadata": {},
   "outputs": [
    {
     "data": {
      "text/plain": [
       "0       16416\n",
       "1       16416\n",
       "2       16416\n",
       "3       16416\n",
       "4       16416\n",
       "        ...  \n",
       "3243        0\n",
       "3244        0\n",
       "3245        0\n",
       "3246        0\n",
       "3247        0\n",
       "Length: 3248, dtype: int64"
      ]
     },
     "execution_count": 19,
     "metadata": {},
     "output_type": "execute_result"
    }
   ],
   "source": [
    "dataset.isna().sum(axis=1)"
   ]
  },
  {
   "cell_type": "code",
   "execution_count": 20,
   "metadata": {},
   "outputs": [
    {
     "data": {
      "text/plain": [
       "[<matplotlib.lines.Line2D at 0x28f03b90910>]"
      ]
     },
     "execution_count": 20,
     "metadata": {},
     "output_type": "execute_result"
    },
    {
     "data": {
      "image/png": "[encoded data removed]",
      "text/plain": [
       "<Figure size 1152x648 with 1 Axes>"
      ]
     },
     "metadata": {
      "needs_background": "light"
     },
     "output_type": "display_data"
    }
   ],
   "source": [
    "a = dataset.iloc[3246].values\n",
    "aa = pd.Series(data = a[1:], index=pd.date_range(start='2017-01-01 00:00:00',freq='30min',periods=a.shape[0]-1))\n",
    "b = aa.groupby(by=[aa.index.day, aa.index.month, aa.index.year]).sum()\n",
    "plt.figure(figsize=(16,9))\n",
    "plt.plot(b.values)"
   ]
  },
  {
   "cell_type": "code",
   "execution_count": 21,
   "metadata": {},
   "outputs": [
    {
     "data": {
      "text/plain": [
       "(17521,)"
      ]
     },
     "execution_count": 21,
     "metadata": {},
     "output_type": "execute_result"
    }
   ],
   "source": [
    "a.shape"
   ]
  },
  {
   "cell_type": "code",
   "execution_count": 22,
   "metadata": {},
   "outputs": [
    {
     "data": {
      "text/plain": [
       "1   1   2017    23.965\n",
       "    2   2017    21.233\n",
       "    3   2017    23.719\n",
       "    4   2017    12.383\n",
       "    5   2017    13.515\n",
       "                 ...  \n",
       "31  5   2017     6.378\n",
       "    7   2017     5.408\n",
       "    8   2017     7.055\n",
       "    10  2017    33.873\n",
       "    12  2017    24.201\n",
       "Length: 365, dtype: object"
      ]
     },
     "execution_count": 22,
     "metadata": {},
     "output_type": "execute_result"
    }
   ],
   "source": [
    "b"
   ]
  },
  {
   "cell_type": "code",
   "execution_count": 23,
   "metadata": {},
   "outputs": [
    {
     "data": {
      "text/plain": [
       "\"\\na = dataset.iloc[3238].values\\naa = pd.Series(data = a[1:], index=pd.date_range(start='2017-01-01 00:00:00',freq='30min',periods=a.shape[0]-1))\\nb = aa.groupby(by=[aa.index.day, aa.index.month, aa.index.year]).sum()\\nplt.figure(figsize=(16,9))\\nplt.plot(b.values)\\nplt.xlabel('Timestamp (day)')\\nplt.ylabel('Consumption (kWh)')\\n\""
      ]
     },
     "execution_count": 23,
     "metadata": {},
     "output_type": "execute_result"
    }
   ],
   "source": [
    "'''\n",
    "a = dataset.iloc[3238].values\n",
    "aa = pd.Series(data = a[1:], index=pd.date_range(start='2017-01-01 00:00:00',freq='30min',periods=a.shape[0]-1))\n",
    "b = aa.groupby(by=[aa.index.day, aa.index.month, aa.index.year]).sum()\n",
    "plt.figure(figsize=(16,9))\n",
    "plt.plot(b.values)\n",
    "plt.xlabel('Timestamp (day)')\n",
    "plt.ylabel('Consumption (kWh)')\n",
    "'''"
   ]
  },
  {
   "cell_type": "code",
   "execution_count": 24,
   "metadata": {},
   "outputs": [],
   "source": [
    "#aa[:48].sum()"
   ]
  },
  {
   "cell_type": "code",
   "execution_count": 25,
   "metadata": {},
   "outputs": [],
   "source": [
    "#b.values"
   ]
  },
  {
   "cell_type": "code",
   "execution_count": 26,
   "metadata": {},
   "outputs": [],
   "source": [
    "#Treinar com 3246 e testar com 3238\n",
    "c = dataset.iloc[3246].values\n",
    "cc = pd.Series(data = c[1:], index=pd.date_range(start='2017-01-01 00:00:00',freq='30min',periods=a.shape[0]-1))\n",
    "e = aa.groupby(by=[cc.index.day, cc.index.month, cc.index.year]).sum()\n",
    "f = e.values"
   ]
  },
  {
   "cell_type": "code",
   "execution_count": 27,
   "metadata": {},
   "outputs": [
    {
     "data": {
      "text/plain": [
       "1   1   2017    23.965\n",
       "    2   2017    21.233\n",
       "    3   2017    23.719\n",
       "    4   2017    12.383\n",
       "    5   2017    13.515\n",
       "                 ...  \n",
       "31  5   2017     6.378\n",
       "    7   2017     5.408\n",
       "    8   2017     7.055\n",
       "    10  2017    33.873\n",
       "    12  2017    24.201\n",
       "Length: 365, dtype: object"
      ]
     },
     "execution_count": 27,
     "metadata": {},
     "output_type": "execute_result"
    }
   ],
   "source": [
    "e"
   ]
  },
  {
   "cell_type": "code",
   "execution_count": 28,
   "metadata": {},
   "outputs": [
    {
     "data": {
      "text/plain": [
       "array([23.96500000000001, 21.233000000000004, 23.719000000000005,\n",
       "       12.383000000000003, 13.515000000000004, 5.723999999999997,\n",
       "       6.063999999999998, 5.687000000000001, 5.9250000000000025, 7.649,\n",
       "       27.261999999999993, 50.44800000000001, 28.688999999999986, 17.075,\n",
       "       24.966, 13.287999999999995, 14.790999999999999, 5.877,\n",
       "       10.957500000000001, 6.281999999999999, 6.111000000000001,\n",
       "       7.617000000000001, 13.251999999999997, 49.59100000000001,\n",
       "       27.664000000000012, 17.680999999999994, 21.999000000000013,\n",
       "       12.629999999999999, 19.270999999999997, 5.667000000000001,\n",
       "       5.8610000000000015, 5.658999999999997, 6.254000000000001,\n",
       "       9.812999999999999, 18.559, 25.614000000000004, 29.229,\n",
       "       24.427000000000003, 22.927999999999997, 13.274000000000003, 16.087,\n",
       "       5.881000000000002, 5.780999999999997, 5.4319999999999995,\n",
       "       6.020000000000001, 33.25600000000001, 11.579000000000002,\n",
       "       29.317000000000004, 29.54800000000001, 23.037999999999997,\n",
       "       21.746000000000002, 19.457000000000015, 19.123000000000015, 5.749,\n",
       "       6.325000000000003, 5.707999999999999, 6.083000000000002,\n",
       "       12.313000000000002, 18.012999999999998, 49.416, 27.90899999999999,\n",
       "       24.273999999999997, 23.431, 18.38, 5.740000000000004,\n",
       "       5.658999999999999, 6.538000000000003, 5.863000000000001,\n",
       "       6.381999999999999, 14.880999999999998, 25.597000000000005,\n",
       "       28.992000000000004, 26.923000000000002, 20.086, 22.617, 16.803,\n",
       "       9.76899999999999, 6.321000000000001, 5.852999999999998,\n",
       "       6.308999999999999, 6.709, 10.937000000000006, 24.439999999999994,\n",
       "       23.869999999999994, 21.277000000000005, 24.364000000000004,\n",
       "       19.427999999999997, 13.735999999999995, 12.623000000000001,\n",
       "       5.550000000000001, 5.5169999999999995, 5.890999999999999,\n",
       "       6.536999999999998, 13.689, 24.148999999999987, 28.726000000000006,\n",
       "       23.452, 24.352999999999994, 22.157000000000004, 14.074000000000002,\n",
       "       21.198000000000008, 5.822, 5.774000000000001, 6.362000000000001,\n",
       "       5.937, 10.668999999999999, 23.951000000000004, 67.84100000000001,\n",
       "       17.1955, 25.73100000000001, 14.213, 10.935999999999998,\n",
       "       21.021000000000004, 5.6850000000000005, 6.472000000000001,\n",
       "       5.745999999999999, 6.237, 21.560499999999994, 20.743000000000002,\n",
       "       29.844000000000005, 25.92399999999999, 27.208000000000006,\n",
       "       18.81900000000001, 16.517000000000003, 13.322, 6.150000000000001,\n",
       "       6.374000000000002, 5.247, 5.994999999999999, 10.365,\n",
       "       17.488000000000003, 31.898999999999997, 26.834, 28.503999999999998,\n",
       "       12.331000000000001, 18.037000000000006, 8.370999999999999, 5.984,\n",
       "       6.314000000000001, 4.070999999999998, 6.570999999999999, 8.259,\n",
       "       30.116, 76.22699999999996, 30.345999999999986, 29.19, 6.916,\n",
       "       18.884999999999994, 7.962999999999999, 5.455999999999998,\n",
       "       5.404999999999999, 5.212999999999998, 6.716000000000001,\n",
       "       7.425000000000001, 26.579, 30.039000000000005, 30.366999999999997,\n",
       "       23.529000000000003, 15.202, 16.436999999999998, 6.476000000000001,\n",
       "       6.35, 5.861999999999998, 5.952000000000001, 11.425,\n",
       "       6.196999999999999, 23.680000000000003, 30.47000000000001,\n",
       "       26.134999999999994, 20.621999999999993, 18.43999999999999,\n",
       "       13.975000000000007, 5.972, 6.0089999999999995, 5.841,\n",
       "       5.732999999999999, 14.388, 6.610999999999998, 21.561000000000003,\n",
       "       30.044000000000008, 26.84200000000001, 21.255000000000006,\n",
       "       15.843000000000009, 19.372999999999994, 14.2215, 5.726999999999995,\n",
       "       5.293999999999995, 12.046, 15.815, 7.8950000000000005,\n",
       "       18.514000000000003, 28.617000000000004, 25.587999999999997,\n",
       "       21.75200000000001, 22.395000000000003, 17.295999999999992,\n",
       "       15.420999999999996, 5.673999999999999, 5.623999999999998,\n",
       "       6.172999999999998, 12.477, 8.964, 26.070000000000007,\n",
       "       31.578000000000003, 30.267, 20.544000000000008, 19.72600000000001,\n",
       "       19.465000000000018, 7.0209999999999955, 6.045000000000003,\n",
       "       5.871999999999999, 6.037, 5.829000000000005, 9.494,\n",
       "       26.133000000000003, 31.481000000000005, 28.921000000000006,\n",
       "       21.94400000000001, 14.090999999999998, 21.84400000000001,\n",
       "       5.504000000000002, 6.200000000000002, 6.377000000000003,\n",
       "       5.722999999999999, 11.900000000000004, 12.364999999999998, 27.582,\n",
       "       32.123000000000005, 27.53, 14.950999999999999, 15.763999999999998,\n",
       "       16.154, 6.671000000000003, 6.541000000000002, 5.393,\n",
       "       5.455000000000002, 19.0205, 25.261500000000005, 25.26,\n",
       "       29.52399999999999, 28.423999999999996, 15.916999999999998, 23.134,\n",
       "       13.565, 5.933000000000001, 6.463999999999999, 6.062000000000002,\n",
       "       5.783000000000002, 9.816, 23.438500000000005, 19.368999999999996,\n",
       "       22.586000000000006, 28.961000000000002, 19.201000000000004,\n",
       "       22.33200000000001, 15.823999999999998, 6.063999999999998, 6.398,\n",
       "       6.439, 6.166000000000001, 7.522999999999999, 15.403999999999995,\n",
       "       15.835000000000004, 20.746999999999993, 29.346000000000004, 18.207,\n",
       "       21.74800000000001, 14.597000000000007, 5.802999999999996,\n",
       "       5.741999999999998, 5.515000000000001, 6.229, 5.567000000000001,\n",
       "       17.4, 18.356999999999996, 19.979000000000003, 28.640000000000008,\n",
       "       24.003000000000007, 21.504000000000012, 16.185999999999996,\n",
       "       14.167999999999997, 5.759999999999998, 5.944999999999999, 5.979,\n",
       "       7.6419999999999995, 11.534000000000002, 21.357000000000003,\n",
       "       45.93100000000001, 30.517, 21.274000000000008, 21.471000000000004,\n",
       "       22.497999999999994, 8.302499999999998, 6.010000000000003,\n",
       "       5.726999999999999, 5.444000000000002, 9.601, 8.082999999999998,\n",
       "       27.576999999999998, 20.405999999999995, 29.932, 16.057,\n",
       "       22.22500000000001, 23.9, 5.614999999999998, 5.438999999999999,\n",
       "       6.788000000000001, 5.781999999999999, 7.921999999999998,\n",
       "       11.753999999999996, 28.887999999999995, 23.667999999999996,\n",
       "       28.71799999999999, 18.378000000000004, 18.136, 24.045000000000005,\n",
       "       5.718000000000001, 6.295999999999999, 5.647999999999999,\n",
       "       6.121999999999999, 6.768000000000001, 12.06, 28.789000000000012,\n",
       "       67.35799999999999, 28.17600000000001, 23.651, 20.597999999999995,\n",
       "       19.733999999999988, 5.824, 6.052, 6.046999999999998, 6.401,\n",
       "       15.426499999999997, 19.44700000000001, 30.237999999999996,\n",
       "       31.912000000000003, 28.243000000000002, 13.187999999999999,\n",
       "       15.443000000000001, 5.311999999999998, 5.623999999999998,\n",
       "       5.958999999999997, 6.109, 15.423500000000002, 17.343,\n",
       "       30.03999999999999, 57.00700000000001, 21.530000000000005,\n",
       "       11.691999999999997, 14.569, 5.636, 5.749, 5.493, 6.468999999999998,\n",
       "       6.044999999999999, 25.667999999999996, 34.772, 26.313, 21.078,\n",
       "       9.167000000000002, 6.378000000000001, 5.4079999999999995,\n",
       "       7.0550000000000015, 33.873, 24.201000000000004], dtype=object)"
      ]
     },
     "execution_count": 28,
     "metadata": {},
     "output_type": "execute_result"
    }
   ],
   "source": [
    "f"
   ]
  },
  {
   "cell_type": "code",
   "execution_count": 29,
   "metadata": {},
   "outputs": [],
   "source": [
    "d_values = dataset.T.values"
   ]
  },
  {
   "cell_type": "code",
   "execution_count": 30,
   "metadata": {},
   "outputs": [
    {
     "data": {
      "text/plain": [
       "(3248, 17521)"
      ]
     },
     "execution_count": 30,
     "metadata": {},
     "output_type": "execute_result"
    }
   ],
   "source": [
    "v_values_2 = dataset.values\n",
    "v_values_2.shape"
   ]
  },
  {
   "cell_type": "code",
   "execution_count": 31,
   "metadata": {},
   "outputs": [],
   "source": [
    "v_values = d_values.T"
   ]
  },
  {
   "cell_type": "code",
   "execution_count": 32,
   "metadata": {},
   "outputs": [
    {
     "data": {
      "text/plain": [
       "(3248, 17521)"
      ]
     },
     "execution_count": 32,
     "metadata": {},
     "output_type": "execute_result"
    }
   ],
   "source": [
    "v_values.shape"
   ]
  },
  {
   "cell_type": "code",
   "execution_count": 33,
   "metadata": {},
   "outputs": [],
   "source": [
    "v_values = v_values[:,1:]"
   ]
  },
  {
   "cell_type": "code",
   "execution_count": 34,
   "metadata": {},
   "outputs": [
    {
     "data": {
      "text/plain": [
       "(3248, 17520)"
      ]
     },
     "execution_count": 34,
     "metadata": {},
     "output_type": "execute_result"
    }
   ],
   "source": [
    "v_values.shape"
   ]
  },
  {
   "cell_type": "code",
   "execution_count": 35,
   "metadata": {},
   "outputs": [],
   "source": [
    "for k in range(v_values.shape[0]):\n",
    "    aa = pd.Series(data = v_values[k,:], index=pd.date_range(start='2017-12-04 00:00:00',freq='30min',periods=v_values.shape[1]))\n",
    "    b = aa.groupby(by=[aa.index.day, aa.index.month, aa.index.year]).sum()\n",
    "\n",
    "    if k == 0:\n",
    "        daily_values = np.ndarray((b.values.shape[0], v_values.shape[0]))\n",
    "\n",
    "    daily_values[:,k] = b.values"
   ]
  },
  {
   "cell_type": "code",
   "execution_count": 36,
   "metadata": {},
   "outputs": [
    {
     "data": {
      "text/plain": [
       "(365, 3248)"
      ]
     },
     "execution_count": 36,
     "metadata": {},
     "output_type": "execute_result"
    }
   ],
   "source": [
    "daily_values.shape"
   ]
  },
  {
   "cell_type": "code",
   "execution_count": 37,
   "metadata": {},
   "outputs": [
    {
     "data": {
      "text/plain": [
       "array([[ 0.    ,  0.    ,  0.    , ...,  5.956 , 28.243 , 14.353 ],\n",
       "       [ 0.    ,  0.    ,  0.    , ...,  5.271 , 23.719 , 17.493 ],\n",
       "       [ 0.    ,  0.    ,  0.    , ...,  5.582 , 13.188 ,  8.638 ],\n",
       "       ...,\n",
       "       [ 0.    ,  0.    ,  0.    , ..., 15.4265, 15.4265, 15.4265],\n",
       "       [ 0.    ,  0.    ,  0.    , ...,  7.477 , 30.238 , 17.492 ],\n",
       "       [ 0.    ,  0.    ,  0.    , ...,  7.966 , 28.176 , 15.041 ]])"
      ]
     },
     "execution_count": 37,
     "metadata": {},
     "output_type": "execute_result"
    }
   ],
   "source": [
    "daily_values"
   ]
  },
  {
   "cell_type": "code",
   "execution_count": null,
   "metadata": {},
   "outputs": [],
   "source": [
    "from sklearn.preprocessing import StandardScaler"
   ]
  },
  {
   "cell_type": "code",
   "execution_count": null,
   "metadata": {},
   "outputs": [],
   "source": [
    "val = np.where(daily_values == 0, np.nan, daily_values)"
   ]
  },
  {
   "cell_type": "code",
   "execution_count": null,
   "metadata": {},
   "outputs": [],
   "source": [
    "val = np.copy(daily_values)"
   ]
  },
  {
   "cell_type": "code",
   "execution_count": null,
   "metadata": {},
   "outputs": [],
   "source": [
    "val[val == 0] = np.nan"
   ]
  },
  {
   "cell_type": "code",
   "execution_count": null,
   "metadata": {},
   "outputs": [],
   "source": [
    "scal = StandardScaler()"
   ]
  },
  {
   "cell_type": "code",
   "execution_count": null,
   "metadata": {},
   "outputs": [],
   "source": [
    "n_val = scal.fit_transform(val)"
   ]
  },
  {
   "cell_type": "code",
   "execution_count": null,
   "metadata": {},
   "outputs": [],
   "source": [
    "n_val[0]"
   ]
  },
  {
   "cell_type": "code",
   "execution_count": null,
   "metadata": {},
   "outputs": [],
   "source": [
    "np.where(n_val == np.nan)"
   ]
  },
  {
   "cell_type": "code",
   "execution_count": null,
   "metadata": {},
   "outputs": [],
   "source": [
    "n_val[:,-1]"
   ]
  },
  {
   "cell_type": "code",
   "execution_count": null,
   "metadata": {},
   "outputs": [],
   "source": [
    "num_nulls = dataset.isna().sum(axis=1)\n",
    "not_null_index = np.where(num_nulls == 0)[0]\n",
    "\n",
    "for k,i in enumerate(not_null_index):\n",
    "    a = dataset.iloc[i].values\n",
    "    aa = pd.Series(data = a[1:], index=pd.date_range(start='2017-01-01 00:00:00',freq='30min',periods=a.shape[0]-1))\n",
    "    b = aa.groupby(by=[aa.index.day, aa.index.month, aa.index.year]).sum()\n",
    "\n",
    "    if k == 0:\n",
    "        daily_values2 = np.ndarray((b.values.shape[0], not_null_index.shape[0]))\n",
    "\n",
    "    daily_values2[:,k] = b.values\n",
    "\n",
    "\n",
    "daily_dataset = pd.DataFrame(daily_values2)"
   ]
  },
  {
   "cell_type": "code",
   "execution_count": null,
   "metadata": {},
   "outputs": [],
   "source": [
    "num_nulls"
   ]
  },
  {
   "cell_type": "code",
   "execution_count": null,
   "metadata": {},
   "outputs": [],
   "source": [
    "not_null_index.shape"
   ]
  },
  {
   "cell_type": "code",
   "execution_count": null,
   "metadata": {},
   "outputs": [],
   "source": [
    "daily_dataset"
   ]
  },
  {
   "cell_type": "code",
   "execution_count": null,
   "metadata": {},
   "outputs": [],
   "source": [
    "num_nulls = dataset.isna().sum(axis=1)\n",
    "not_null_index = np.where(num_nulls == 0)[0]\n",
    "pivot_numbers = daily_values[:,not_null_index]"
   ]
  },
  {
   "cell_type": "code",
   "execution_count": null,
   "metadata": {},
   "outputs": [],
   "source": [
    "n_val.shape"
   ]
  },
  {
   "cell_type": "code",
   "execution_count": null,
   "metadata": {},
   "outputs": [],
   "source": [
    "n_val[-247:,2800]"
   ]
  },
  {
   "cell_type": "code",
   "execution_count": null,
   "metadata": {},
   "outputs": [],
   "source": [
    "n_val.shape"
   ]
  },
  {
   "cell_type": "code",
   "execution_count": null,
   "metadata": {},
   "outputs": [],
   "source": [
    "mask = np.isnan(n_val[:,0])\n",
    "idx = np.where(mask == False)\n",
    "n_val[idx,]"
   ]
  },
  {
   "cell_type": "code",
   "execution_count": null,
   "metadata": {},
   "outputs": [],
   "source": [
    "n_val.shape"
   ]
  },
  {
   "cell_type": "code",
   "execution_count": null,
   "metadata": {},
   "outputs": [],
   "source": [
    "mmask = np.isnan(n_val[:,-247:])\n",
    "idx = np.where(mmask == True)[0]"
   ]
  },
  {
   "cell_type": "code",
   "execution_count": null,
   "metadata": {},
   "outputs": [],
   "source": [
    "idx"
   ]
  },
  {
   "cell_type": "code",
   "execution_count": null,
   "metadata": {},
   "outputs": [],
   "source": []
  },
  {
   "cell_type": "code",
   "execution_count": null,
   "metadata": {},
   "outputs": [],
   "source": [
    "pivot_val = np.copy(n_val[:,-247:])"
   ]
  },
  {
   "cell_type": "code",
   "execution_count": null,
   "metadata": {},
   "outputs": [],
   "source": [
    "pd_pivot = pd.DataFrame(pivot_val)\n",
    "pd_pivot.fillna(method='pad',inplace=True)\n",
    "pd_pivot.fillna(method='ffill',inplace=True)\n",
    "pd_pivot.fillna(method='bfill',inplace=True)"
   ]
  },
  {
   "cell_type": "code",
   "execution_count": null,
   "metadata": {},
   "outputs": [],
   "source": [
    "pd_pivot"
   ]
  },
  {
   "cell_type": "code",
   "execution_count": null,
   "metadata": {},
   "outputs": [],
   "source": [
    "pd_pivot.isnull().sum()"
   ]
  },
  {
   "cell_type": "code",
   "execution_count": null,
   "metadata": {},
   "outputs": [],
   "source": [
    "pd_val = pd_pivot.values"
   ]
  },
  {
   "cell_type": "code",
   "execution_count": null,
   "metadata": {},
   "outputs": [],
   "source": []
  },
  {
   "cell_type": "code",
   "execution_count": null,
   "metadata": {},
   "outputs": [],
   "source": [
    "daily_values.shape[1] - pivot_numbers.shape[1]"
   ]
  },
  {
   "cell_type": "code",
   "execution_count": null,
   "metadata": {
    "tags": []
   },
   "outputs": [],
   "source": [
    "best_match = np.zeros((daily_values.shape[1] - pivot_numbers.shape[1],2))\n",
    "\n",
    "for i in range(best_match.shape[0]):\n",
    "    mask = np.isnan(n_val[:,i])\n",
    "    idx = np.where(mask == False)\n",
    "\n",
    "    t = n_val[idx,i].reshape(-1,1)\n",
    "\n",
    "    blah = np.repeat(t, pivot_numbers.shape[1], axis=1)\n",
    "    #print(blah.shape)\n",
    "    #print(t.shape)\n",
    "    c = np.mean(abs(blah - pd_val[idx,:]),axis=1).reshape(-1,1)\n",
    "    #print(c)\n",
    "    min_arg = np.argmin(c)\n",
    "    # print(min_arg, c[min_arg], c[min_arg-1], c[min_arg+1])\n",
    "    best_match[i,:] = np.array([min_arg,c[min_arg]])"
   ]
  },
  {
   "cell_type": "code",
   "execution_count": null,
   "metadata": {},
   "outputs": [],
   "source": [
    "daily_results[:31,:] = daily_values2[:31,:]"
   ]
  },
  {
   "cell_type": "code",
   "execution_count": null,
   "metadata": {},
   "outputs": [],
   "source": [
    "real_months = daily_results \n",
    "pred_months = daily_values2\n"
   ]
  },
  {
   "cell_type": "code",
   "execution_count": null,
   "metadata": {},
   "outputs": [],
   "source": [
    "month_rAE = np.mean(np.sum(np.abs(real_months - pred_months), axis=1) / np.sum(np.abs(real_months - np.mean(real_months, axis=1, keepdims=True)), axis=1))\n"
   ]
  },
  {
   "cell_type": "code",
   "execution_count": null,
   "metadata": {},
   "outputs": [],
   "source": [
    "month_rAE"
   ]
  },
  {
   "cell_type": "code",
   "execution_count": null,
   "metadata": {},
   "outputs": [],
   "source": [
    "metrics = np.mean(abs(np.divide((daily_results - daily_values2),daily_values2+0.0001)),axis=0)"
   ]
  },
  {
   "cell_type": "code",
   "execution_count": null,
   "metadata": {},
   "outputs": [],
   "source": [
    "metrics[np.where(metrics > 1.0)]"
   ]
  },
  {
   "cell_type": "code",
   "execution_count": null,
   "metadata": {},
   "outputs": [],
   "source": [
    "daily_results[:,np.where(metrics > 1.0)] = daily_values2[:,np.where(metrics > 1.0)]"
   ]
  },
  {
   "cell_type": "code",
   "execution_count": null,
   "metadata": {},
   "outputs": [],
   "source": [
    "metrics = np.mean(abs(np.divide((daily_results - daily_values2),daily_values2+0.0001)),axis=0)\n",
    "metrics[np.where(metrics > 1.0)]"
   ]
  },
  {
   "cell_type": "code",
   "execution_count": null,
   "metadata": {},
   "outputs": [],
   "source": [
    "all_daily_results = np.zeros((daily_results.shape[0],daily_values.shape[1]))"
   ]
  },
  {
   "cell_type": "code",
   "execution_count": null,
   "metadata": {},
   "outputs": [],
   "source": [
    "daily_values.shape"
   ]
  },
  {
   "cell_type": "code",
   "execution_count": null,
   "metadata": {},
   "outputs": [],
   "source": [
    "norm_daily_results = (np.copy(daily_results) - scal.mean_[-247:])/ scal.scale_[-247:]"
   ]
  },
  {
   "cell_type": "code",
   "execution_count": null,
   "metadata": {},
   "outputs": [],
   "source": [
    "norm_daily_results"
   ]
  },
  {
   "cell_type": "code",
   "execution_count": null,
   "metadata": {},
   "outputs": [],
   "source": []
  },
  {
   "cell_type": "code",
   "execution_count": null,
   "metadata": {},
   "outputs": [],
   "source": []
  },
  {
   "cell_type": "code",
   "execution_count": null,
   "metadata": {},
   "outputs": [],
   "source": []
  },
  {
   "cell_type": "code",
   "execution_count": null,
   "metadata": {},
   "outputs": [],
   "source": []
  },
  {
   "cell_type": "code",
   "execution_count": null,
   "metadata": {},
   "outputs": [],
   "source": [
    "for i in range(best_match.shape[0]):\n",
    "    all_daily_results[:,i] = norm_daily_results[:,int(best_match[i,0])]"
   ]
  },
  {
   "cell_type": "code",
   "execution_count": null,
   "metadata": {},
   "outputs": [],
   "source": [
    "all_daily_results[:,not_null_index] = norm_daily_results"
   ]
  },
  {
   "cell_type": "code",
   "execution_count": null,
   "metadata": {},
   "outputs": [],
   "source": [
    "all_daily_results"
   ]
  },
  {
   "cell_type": "code",
   "execution_count": null,
   "metadata": {},
   "outputs": [],
   "source": [
    "preds = scal.inverse_transform(all_daily_results)"
   ]
  },
  {
   "cell_type": "code",
   "execution_count": null,
   "metadata": {},
   "outputs": [],
   "source": [
    "preds"
   ]
  },
  {
   "cell_type": "code",
   "execution_count": null,
   "metadata": {},
   "outputs": [],
   "source": [
    "for i in range(best_match.shape[0]):\n",
    "    f = 1/(1.0 - best_match[i,1])\n",
    "    preds[:,i] = (preds[:,i] + scal.mean_[i]*f)/(f+1)"
   ]
  },
  {
   "cell_type": "code",
   "execution_count": null,
   "metadata": {},
   "outputs": [],
   "source": [
    "preds"
   ]
  },
  {
   "cell_type": "code",
   "execution_count": null,
   "metadata": {},
   "outputs": [],
   "source": []
  },
  {
   "cell_type": "code",
   "execution_count": null,
   "metadata": {},
   "outputs": [],
   "source": []
  },
  {
   "cell_type": "code",
   "execution_count": null,
   "metadata": {},
   "outputs": [],
   "source": [
    "month_results = np.zeros((12,preds.shape[1]))\n",
    "\n",
    "for i in range(preds.shape[1]):\n",
    "    ser = pd.Series(data=preds[:,i], index=pd.date_range(start='2017-01-01 00:00:00',freq='1D',periods=365))\n",
    "    month_results[:,i] = ser.groupby(by=[ser.index.month, ser.index.year]).sum().values"
   ]
  },
  {
   "cell_type": "code",
   "execution_count": null,
   "metadata": {},
   "outputs": [],
   "source": [
    "#submission2 = pd.read_csv('series/cis-competition/sample_submission2.csv')\n",
    "submission2 = pd.read_csv('fuzzy_results3.csv')"
   ]
  },
  {
   "cell_type": "code",
   "execution_count": null,
   "metadata": {},
   "outputs": [],
   "source": [
    "submission2['AnnualPRED']"
   ]
  },
  {
   "cell_type": "code",
   "execution_count": null,
   "metadata": {},
   "outputs": [],
   "source": [
    "submission2['AnnualPRED'] = np.sum(month_results,axis=0)"
   ]
  },
  {
   "cell_type": "code",
   "execution_count": null,
   "metadata": {},
   "outputs": [],
   "source": [
    "submission2['AnnualPRED']"
   ]
  },
  {
   "cell_type": "code",
   "execution_count": null,
   "metadata": {},
   "outputs": [],
   "source": [
    "columns = ['JanPRED','FebPRED','MarPRED','AprPRED','MayPRED','JunPRED','JulPRED','AugPRED','SepPRED','OctPRED','NovPRED','DecPRED']\n",
    "\n",
    "for i,name in enumerate(columns):\n",
    "    submission2[name] = month_results[i,:]"
   ]
  },
  {
   "cell_type": "code",
   "execution_count": null,
   "metadata": {},
   "outputs": [],
   "source": [
    "submission2"
   ]
  },
  {
   "cell_type": "code",
   "execution_count": null,
   "metadata": {},
   "outputs": [],
   "source": [
    "#submission2.to_excel('sample_submission_fuzzy5.xlsx',index=False)"
   ]
  },
  {
   "cell_type": "code",
   "execution_count": null,
   "metadata": {},
   "outputs": [],
   "source": [
    "# submission2.to_csv('fuzzy_results3.csv',index=False)"
   ]
  },
  {
   "cell_type": "code",
   "execution_count": null,
   "metadata": {},
   "outputs": [],
   "source": []
  },
  {
   "cell_type": "code",
   "execution_count": null,
   "metadata": {},
   "outputs": [],
   "source": []
  },
  {
   "cell_type": "code",
   "execution_count": null,
   "metadata": {},
   "outputs": [],
   "source": []
  },
  {
   "cell_type": "code",
   "execution_count": null,
   "metadata": {},
   "outputs": [],
   "source": []
  },
  {
   "cell_type": "code",
   "execution_count": null,
   "metadata": {},
   "outputs": [],
   "source": [
    "# %pip install tslearn\n",
    "from tslearn.clustering import TimeSeriesKMeans\n",
    "model = TimeSeriesKMeans(n_clusters=6, metric=\"dtw\", max_iter=10)\n",
    "blah = model.fit_predict(daily_values[-30:,:].T)\n",
    "\n",
    "inertias = []\n",
    "distortion = []\n",
    "\n",
    "for i in range(1,30):\n",
    "    model = TimeSeriesKMeans(n_clusters=i, metric=\"dtw\", max_iter=10)\n",
    "    blah = model.fit_predict(daily_values[-30:,:].T)\n",
    "    inertias.append(model.inertia_)\n",
    "\n",
    "\n",
    "plt.plot(inertias,linewidth=2)\n",
    "plt.xlabel('Clusters')\n",
    "plt.ylabel('Distância')"
   ]
  },
  {
   "cell_type": "code",
   "execution_count": null,
   "metadata": {},
   "outputs": [],
   "source": [
    "\n"
   ]
  },
  {
   "cell_type": "code",
   "execution_count": null,
   "metadata": {},
   "outputs": [],
   "source": [
    "daily_results[:,20]"
   ]
  },
  {
   "cell_type": "code",
   "execution_count": null,
   "metadata": {},
   "outputs": [],
   "source": []
  },
  {
   "cell_type": "code",
   "execution_count": null,
   "metadata": {},
   "outputs": [],
   "source": [
    "plt.figure(figsize=(20,10))\n",
    "for i,v in enumerate(blah):\n",
    "    if v == 0:\n",
    "        plt.subplot(321)\n",
    "        plt.plot(daily_values[:,i])\n",
    "    if v == 1:\n",
    "        plt.subplot(322)\n",
    "        plt.plot(daily_values[:,i])\n",
    "    if v == 2:\n",
    "        plt.subplot(323)\n",
    "        plt.plot(daily_values[:,i])\n",
    "    if v == 3:\n",
    "        plt.subplot(324)\n",
    "        plt.plot(daily_values[:,i])\n",
    "    if v == 4:\n",
    "        plt.subplot(325)\n",
    "        plt.plot(daily_values[:,i])\n",
    "    if v == 5:\n",
    "        plt.subplot(326)\n",
    "        plt.plot(daily_values[:,i])"
   ]
  },
  {
   "cell_type": "code",
   "execution_count": null,
   "metadata": {},
   "outputs": [],
   "source": []
  },
  {
   "cell_type": "code",
   "execution_count": 38,
   "metadata": {},
   "outputs": [],
   "source": [
    "import pandas as pd \n",
    "import numpy as np\n",
    "import matplotlib.pyplot as plt  \n",
    "from copy import deepcopy\n",
    "from preprocessing import Preprocess"
   ]
  },
  {
   "cell_type": "markdown",
   "metadata": {},
   "source": [
    "# e-AutoMFIS for the 247 series"
   ]
  },
  {
   "cell_type": "code",
   "execution_count": 39,
   "metadata": {},
   "outputs": [
    {
     "name": "stderr",
     "output_type": "stream",
     "text": [
      "C:\\Users\\Diego\\AppData\\Local\\Temp\\ipykernel_2336\\2299202716.py:6: VisibleDeprecationWarning: Creating an ndarray from ragged nested sequences (which is a list-or-tuple of lists-or-tuples-or ndarrays with different lengths or shapes) is deprecated. If you meant to do this, you must specify 'dtype=object' when creating the ndarray.\n",
      "  lag_notused = np.array([[4,5],[4,5],[4],[4,5]])\n"
     ]
    }
   ],
   "source": [
    "#Basic informations \n",
    "\n",
    "num_predictors = 15\n",
    "num_input = 15\n",
    "lag = 30\n",
    "lag_notused = np.array([[4,5],[4,5],[4],[4,5]])\n",
    "not_used_lag = False\n",
    "\n",
    "h_val = 30\n",
    "#Actually, lag stands for all inputs for each serie. Example, lag = 2 uses s(t) and s(t-1) to predict s(t+1)\n",
    "diff_series = False\n",
    "detrend_series = False"
   ]
  },
  {
   "cell_type": "code",
   "execution_count": 40,
   "metadata": {},
   "outputs": [],
   "source": [
    "#training_data = d[:h_val]\n",
    "#test_data = d[h_val:]"
   ]
  },
  {
   "cell_type": "code",
   "execution_count": 41,
   "metadata": {},
   "outputs": [],
   "source": [
    "#bin_values = 12; #Representação da binarização do tempo.\n",
    "num_series = 1  #Numero de series do problema, extraído dos dados\n",
    "\n",
    "max_rulesize = 5 #Max numbers of premises rules.\n",
    "min_activation = 0.7 #Minimum activation\n",
    "\n",
    "form_method = 'nmean'\n",
    "#####Definicao de funcoes######\n",
    "#detrend_method = ''\n",
    "#bin_method = ''\n",
    "\n",
    "fuzzy_method = 'mfdef_cluster'\n",
    "num_groups = 7\n",
    "\n",
    "defuzz_method = 'height'\n",
    "\n",
    "ensemble_rules = None\n",
    "\n",
    "total_number = lag\n",
    "\n",
    "\n",
    "filepath = 'cis-challenge'"
   ]
  },
  {
   "cell_type": "code",
   "execution_count": 42,
   "metadata": {},
   "outputs": [],
   "source": [
    "import seaborn as sns\n",
    "from copy import deepcopy\n",
    "from utils import *\n",
    "\n",
    "import itertools\n",
    "import json\n",
    "import os\n",
    "\n",
    "#For e-autoMFIS, we import all of them.\n",
    "from autoMFIS_test import autoMFIS\n",
    "import numpy as np\n",
    "import scipy.io\n",
    "from reweight import Reweight\n",
    "from fuzzyfication import Fuzzification\n",
    "from defuzzification import Defuzzification\n",
    "import matplotlib.pyplot as plt\n",
    "from predict import predict, predict_pattern\n",
    "\n",
    "\n",
    "\n",
    "def convert_object_to_float(data,datanames):\n",
    "    \n",
    "    for name in datanames:\n",
    "        dname = data[name].values.astype('str')\n",
    "        dname = [new_value.replace(',','.') for new_value in dname]\n",
    "        data[name] = dname\n",
    "        data[name] = data[name].astype(float)\n",
    "    return data\n",
    "\n",
    "##Assertion for ensemble rules\n",
    "#Somehow, when appending rules, ensemble_rules[:,1] has a erroneous form. This part seems to normalize it.\n",
    "\n",
    "#This module correct this error. Also, we are going to use some assertion to check if rules contains the same antecedents.\n",
    "def correct_bug(ensemble_rules,max_rulesize=0):\n",
    "    correct_rule = []\n",
    "    d_stacked_rules = []\n",
    "    new_ensemble_rules = np.zeros(shape=ensemble_rules.shape, dtype=object)\n",
    "\n",
    "\n",
    "    for  n_times in range(ensemble_rules.shape[1]):\n",
    "        t_rules = ensemble_rules[:,n_times]\n",
    "        correct_rule = []\n",
    "        d_stacked_rules = []\n",
    "        k = 0\n",
    "        for rule in t_rules:\n",
    "            #print(rule)\n",
    "            #print(len(rule))\n",
    "            #Check if there's a rule bigger than max_rulesize + 1 (#antecedents + #consequent)\n",
    "            if len(rule) > max_rulesize + 1:\n",
    "                #print(rule)\n",
    "                for i in rule:\n",
    "                    #k += 1\n",
    "                    if isinstance(i,tuple):\n",
    "                        #print(i)\n",
    "                        correct_rule.append(i)\n",
    "                    else:\n",
    "                        if len(correct_rule) == 0:\n",
    "                            #print(i)\n",
    "                            pass\n",
    "                            #d_stacked_rules.append(i)\n",
    "                        else:\n",
    "                            #print(correct_rule)\n",
    "                            new_ensemble_rules[k,n_times] = correct_rule\n",
    "                            k += 1\n",
    "                            #d_stacked_rules.append(correct_rule)\n",
    "                            correct_rule = []\n",
    "                            #d_stacked_rules.append(i)\n",
    "            else:\n",
    "                new_ensemble_rules[k,n_times] = rule\n",
    "                k += 1\n",
    "                #d_stacked_rules.append(rule)\n",
    "            \n",
    "        #new_ensemble_rules[:,i] = np.array(d_stacked_rules)\n",
    "\n",
    "    return new_ensemble_rules\n",
    "\n",
    "def remove_duplicates(new_ensemble_rules,ensemble_prem_terms, ensemble_antecedents):\n",
    "    t_rules = deepcopy(new_ensemble_rules[:,0])\n",
    "    no_duplicated_ensemble = np.zeros(new_ensemble_rules.shape,dtype=object)\n",
    "    no_duplicated_prem_terms = np.zeros(ensemble_prem_terms.shape)\n",
    "    no_duplicated_antecedents = np.zeros(ensemble_antecedents.shape,dtype=object)\n",
    "    new_t_rules = None\n",
    "\n",
    "    k = 0\n",
    "    j = 0\n",
    "    for rule in t_rules:\n",
    "        if new_t_rules is None:\n",
    "            new_t_rules = [rule]\n",
    "            no_duplicated_ensemble[k,:] = deepcopy(new_ensemble_rules[j,:])\n",
    "            no_duplicated_prem_terms[k,:] = deepcopy(ensemble_prem_terms[j,:])\n",
    "            no_duplicated_antecedents[k,:] = deepcopy(ensemble_antecedents[j,:])\n",
    "            k += 1\n",
    "\n",
    "        elif not check_duplicate_rules(rule,new_t_rules):\n",
    "            new_t_rules.append(rule)\n",
    "            no_duplicated_ensemble[k,:] = deepcopy(new_ensemble_rules[j,:])\n",
    "            no_duplicated_prem_terms[k,:] = deepcopy(ensemble_prem_terms[j,:])\n",
    "            no_duplicated_antecedents[k,:] = deepcopy(ensemble_antecedents[j,:])\n",
    "            k += 1\n",
    "        j += 1\n",
    "\n",
    "    new_rules = deepcopy(no_duplicated_ensemble[:k,:])\n",
    "    new_prem_terms = deepcopy(no_duplicated_prem_terms[:k,:])\n",
    "    new_antecedents = deepcopy(no_duplicated_antecedents[:k,:])\n",
    "\n",
    "    return new_rules, new_prem_terms, new_antecedents\n",
    "\n"
   ]
  },
  {
   "cell_type": "code",
   "execution_count": 43,
   "metadata": {},
   "outputs": [],
   "source": [
    "#daily_results.shape"
   ]
  },
  {
   "cell_type": "code",
   "execution_count": 44,
   "metadata": {},
   "outputs": [],
   "source": [
    "#f_preprocess_data = Preprocess(f.reshape(-1,1),h_prev=h_val,num_series=num_series)\n",
    "#f_yt, f_yp, f_yp_lagged = f_preprocess_data.delay_input(in_sample = f.reshape(-1,1), lag = lag)\n",
    "\n",
    "\n",
    "#daily_results = np.zeros_like(daily_values)\n"
   ]
  },
  {
   "cell_type": "code",
   "execution_count": 45,
   "metadata": {},
   "outputs": [
    {
     "data": {
      "text/plain": [
       "(365, 3248)"
      ]
     },
     "execution_count": 45,
     "metadata": {},
     "output_type": "execute_result"
    }
   ],
   "source": [
    "daily_values.shape"
   ]
  },
  {
   "cell_type": "code",
   "execution_count": null,
   "metadata": {},
   "outputs": [
    {
     "name": "stdout",
     "output_type": "stream",
     "text": [
      "Step 1 - Fuzzification\n",
      "Step 2 - Formulation\n",
      "Step 3 - Split\n",
      "Step 4 - Reweight\n",
      "Unable to allocate 112. GiB for an array with shape (14988855439,) and data type float64\n",
      "Time exceeded. STOP\n",
      "name 'best_output' is not defined\n"
     ]
    }
   ],
   "source": [
    "# missing_values = np.where(daily_results[50,:] == 0)[0]\n",
    "for jj in range(12,daily_values.shape[1]):\n",
    "# for jj in missing_values:\n",
    "    data_ = daily_values[:,jj].reshape(-1,1)\n",
    "    val_data_ = daily_values[:,jj].reshape(-1,1)\n",
    "    # min_activation = 0.1\n",
    "\n",
    "    preprocess_data = Preprocess(data_,h_prev=h_val,num_series=num_series)\n",
    "    yt, yp, yp_lagged = preprocess_data.delay_input(in_sample = data_, lag = lag)\n",
    "\n",
    "    val_yt, _, val_yp_lagged = preprocess_data.delay_input(in_sample = val_data_, lag = lag)\n",
    "\n",
    "    training_set = data_\n",
    "    ###############Fuzzificacao\n",
    "\n",
    "    Fuzzyfy = Fuzzification(fuzzy_method)\n",
    "\n",
    "    #Lembrete: \n",
    "    #axis 0 - Registros da série\n",
    "    #axis 1 - Valor de pertinência ao conjunto Fuzzy\n",
    "    #axis 2 - Numero de séries\n",
    "\n",
    "    first_time = True\n",
    "    for n in range(num_series):\n",
    "        \n",
    "        _, mf_params = Fuzzyfy.fuzzify(training_set[:,n],np.array([]),num_groups=num_groups)\n",
    "        mX, _ = Fuzzyfy.fuzzify(yp[:,n],mf_params,num_groups=num_groups)\n",
    "        mY, _ = Fuzzyfy.fuzzify(yt[:,n],mf_params,num_groups=num_groups)\n",
    "        if first_time:\n",
    "            mX_ = np.ndarray([mX.shape[0],mX.shape[1], num_series])\n",
    "            mY_ = np.ndarray([mY.shape[0],mY.shape[1], num_series])\n",
    "            mf_params_ = np.ndarray([mf_params.shape[0],num_series])\n",
    "            first_time = False\n",
    "        mX_[:,:,n] = mX\n",
    "        mY_[:,:,n] = mY\n",
    "        mf_params_[:,n] = mf_params.ravel()\n",
    "        #print(mf_params)\n",
    "        #print(mX.shape)\n",
    "\n",
    "\n",
    "    mX_lagged_ = np.ndarray([mX_.shape[0],mX_.shape[1],yp_lagged.shape[1]])\n",
    "    for i in range(num_series):\n",
    "        mf_params = mf_params_[:,i]\n",
    "        for j in range(lag):\n",
    "            mX, _ = Fuzzyfy.fuzzify(yp_lagged[:,i*lag+j],mf_params,num_groups=num_groups)\n",
    "            mX_lagged_[:,:,i*lag+j] = mX\n",
    "            #print(i*lag+j)\n",
    "\n",
    "\n",
    "    #mX_lagged_[:,:,not_select_subsample] = 0\n",
    "\n",
    "    #print(mX_lagged_[:,:,not_select_subsample])\n",
    "    ############## Formulacao\n",
    "    if not_used_lag:\n",
    "        new_mX, lags_used = remove_lags(mX_lagged_,lag_notused,num_series,lag)\n",
    "    else:\n",
    "        new_mX = mX_lagged_\n",
    "\n",
    "\n",
    "\n",
    "\n",
    "\n",
    "    min_error = 300.0\n",
    "\n",
    "    initial_values = val_yp_lagged[:,0].reshape(-1,1)\n",
    "    in_sample = deepcopy(yt)\n",
    "    out_sample = deepcopy(val_yt)\n",
    "\n",
    "\n",
    "    #print('='*89)\n",
    "\n",
    "    #print(f'Shape of in-sample is {in_sample.shape[0]}')\n",
    "    #assert in_sample.shape[0] == h_train//7\n",
    "    #print(f'Shape of lagged data is {yp_lagged.shape[0]}')\n",
    "    #assert yp_lagged1.shape[0] == h_train//manual_pattern\n",
    "    #print(f'Shape of validation set is {out_sample.shape[0]}')\n",
    "\n",
    "    #print('='*89)\n",
    "\n",
    "\n",
    "\n",
    "    try:\n",
    "        #Concatenate rules\n",
    "        init_time = time.time()\n",
    "        for i in range(num_predictors):\n",
    "            not_select_subsample = np.random.choice(total_number,total_number-num_input,replace=False)\n",
    "            try:\n",
    "                \n",
    "                model = autoMFIS(diff_series=diff_series,detrend_series=detrend_series,fuzzy_method=fuzzy_method,solve_method='mqr',defuzz_method=defuzz_method, num_groups = num_groups, h_prev = in_sample.shape[0], num_series = num_series, max_rulesize = max_rulesize, min_activation = min_activation, lag = lag, hide_values = False, form_method = form_method,show=False)\n",
    "\n",
    "                t_mX_lagged = deepcopy(mX_lagged_)\n",
    "                t_mX_lagged[:,:,not_select_subsample] = 0\n",
    "\n",
    "                model.set_fuzzification(Fuzzyfy, mf_params_, mX_, mY_, t_mX_lagged)        \n",
    "\n",
    "                \n",
    "                complete_rules, prem_terms, rules, agg_training, wd_ = model.train(training_set, yt=yt,yp=yp,yp_lagged=yp_lagged,in_sample=in_sample,out_sample=out_sample,not_select_subsample=not_select_subsample, lag_notused=[], debug=True)\n",
    "\n",
    "\n",
    "                #print(f'Predict on validation set - #{i}')\n",
    "                #Prediction of a single subset\n",
    "                yt_totest, errors = model.predict(initial_values.reshape(1,-1), data=data_, in_sample = in_sample,out_sample=out_sample, agg_training=agg_training,h_prev=out_sample.shape[0],n_attempt=f'p_subsample_{i}',wd_=wd_,ensemble_antecedents=rules,ensemble_rules=complete_rules, filepath=filepath, lim=30.0, fig_axis=[1,1],ndata=dataset)\n",
    "\n",
    "\n",
    "                #print('RMSE Errors = {}'.format(errors[0,:]))\n",
    "                print('RRSE Errors = {}'.format(errors[1,:]))\n",
    "                if errors[1,0] < min_error:\n",
    "                    best_output = yt_totest\n",
    "                    ensemble_rules = deepcopy(complete_rules)\n",
    "                    ensemble_prem_terms = deepcopy(prem_terms)\n",
    "                    ensemble_antecedents = deepcopy(rules)\n",
    "                    wd__ = wd_\n",
    "                    min_error = errors[1,0]\n",
    "\n",
    "            except Exception as e:\n",
    "                print(e)\n",
    "                pass\n",
    "\n",
    "            if (time.time() - init_time) > 60*10:\n",
    "                print('Time exceeded. STOP')\n",
    "                break\n",
    "\n",
    "        daily_results[31:,jj] = best_output.flatten()\n",
    "\n",
    "        #plt.figure(figsize=(8,5))\n",
    "\n",
    "\n",
    "    except Exception as e:\n",
    "        print(e)\n"
   ]
  },
  {
   "cell_type": "code",
   "execution_count": null,
   "metadata": {},
   "outputs": [],
   "source": [
    "plt.figure(figsize=(8,5))\n",
    "plt.plot(best_output)\n",
    "#plt.plot(out_sample)\n",
    "plt.plot(daily_values[:,-1])\n",
    "plt.legend(['Previsto','Real'])\n",
    "plt.title('Previsão de energia (365 passos)')\n",
    "plt.xlabel('Tempo (dia)')\n",
    "plt.ylabel('Consumo')"
   ]
  },
  {
   "cell_type": "code",
   "execution_count": null,
   "metadata": {},
   "outputs": [],
   "source": [
    "#daily_results[31:,11] = best_output.flatten()\n"
   ]
  },
  {
   "cell_type": "code",
   "execution_count": null,
   "metadata": {},
   "outputs": [],
   "source": [
    "#import pickle \n",
    "with open('cis_challenge3.results','wb') as cis_challenge:\n",
    "    pickle.dump(daily_results, cis_challenge)"
   ]
  },
  {
   "cell_type": "code",
   "execution_count": null,
   "metadata": {},
   "outputs": [],
   "source": [
    "time.time() - a"
   ]
  },
  {
   "cell_type": "code",
   "execution_count": null,
   "metadata": {},
   "outputs": [],
   "source": [
    "np.where(daily_results[50,:] == 0)"
   ]
  },
  {
   "cell_type": "code",
   "execution_count": null,
   "metadata": {},
   "outputs": [],
   "source": [
    "for i in range(12,daily_values.shape[1]):\n",
    "    print(i)"
   ]
  },
  {
   "cell_type": "code",
   "execution_count": null,
   "metadata": {},
   "outputs": [],
   "source": [
    "semi_detached_house = info_['dwelling_type'] == 'semi_detached_house'\n",
    "\n",
    "a = info_[semi_detached_house]"
   ]
  },
  {
   "cell_type": "code",
   "execution_count": null,
   "metadata": {},
   "outputs": [],
   "source": [
    "a.hist(column='game_console')"
   ]
  },
  {
   "cell_type": "code",
   "execution_count": null,
   "metadata": {},
   "outputs": [],
   "source": [
    "a.shape"
   ]
  },
  {
   "cell_type": "code",
   "execution_count": null,
   "metadata": {},
   "outputs": [],
   "source": []
  },
  {
   "cell_type": "code",
   "execution_count": null,
   "metadata": {},
   "outputs": [],
   "source": []
  },
  {
   "cell_type": "code",
   "execution_count": null,
   "metadata": {},
   "outputs": [],
   "source": [
    "not_null_index.shape"
   ]
  },
  {
   "cell_type": "code",
   "execution_count": null,
   "metadata": {},
   "outputs": [],
   "source": []
  },
  {
   "cell_type": "code",
   "execution_count": null,
   "metadata": {},
   "outputs": [],
   "source": []
  },
  {
   "cell_type": "code",
   "execution_count": null,
   "metadata": {},
   "outputs": [],
   "source": [
    "num_nulls = dataset.isna().sum(axis=1)\n",
    "not_null_index = np.where(num_nulls == 0)[0]\n",
    "\n",
    "for k,i in enumerate(not_null_index):\n",
    "    a = dataset.iloc[i].values\n",
    "    aa = pd.Series(data = a[1:], index=pd.date_range(start='2017-01-01 00:00:00',freq='30min',periods=a.shape[0]-1))\n",
    "    b = aa.groupby(by=[aa.index.day, aa.index.month, aa.index.year]).sum()\n",
    "\n",
    "    if k == 0:\n",
    "        daily_values = np.ndarray((b.values.shape[0], not_null_index.shape[0]))\n",
    "\n",
    "    daily_values[:,k] = b.values\n",
    "\n",
    "\n",
    "daily_dataset = pd.DataFrame(daily_values)"
   ]
  },
  {
   "cell_type": "code",
   "execution_count": null,
   "metadata": {},
   "outputs": [],
   "source": [
    "plt.plot(daily_values[:,245])\n",
    "plt.plot(daily_values[:,237])\n",
    "plt.plot(daily_values[:,230])\n",
    "plt.plot(daily_values[:,31])"
   ]
  },
  {
   "cell_type": "code",
   "execution_count": null,
   "metadata": {},
   "outputs": [],
   "source": [
    "daily_values.sum(axis=0)"
   ]
  },
  {
   "cell_type": "code",
   "execution_count": null,
   "metadata": {},
   "outputs": [],
   "source": [
    "k = 8\n",
    "for i in range(10*k,10*k+4):\n",
    "    plt.plot(daily_values[:,i])"
   ]
  },
  {
   "cell_type": "code",
   "execution_count": null,
   "metadata": {},
   "outputs": [],
   "source": [
    "weather_data = weather_.values"
   ]
  },
  {
   "cell_type": "code",
   "execution_count": null,
   "metadata": {},
   "outputs": [],
   "source": []
  },
  {
   "cell_type": "code",
   "execution_count": null,
   "metadata": {},
   "outputs": [],
   "source": [
    "weather_"
   ]
  },
  {
   "cell_type": "code",
   "execution_count": null,
   "metadata": {},
   "outputs": [],
   "source": [
    "plt.plot(weather_data[500,1:])\n",
    "plt.plot(daily_values[:,3])"
   ]
  },
  {
   "cell_type": "code",
   "execution_count": null,
   "metadata": {},
   "outputs": [],
   "source": [
    "dataset['meter_id']"
   ]
  },
  {
   "cell_type": "code",
   "execution_count": null,
   "metadata": {},
   "outputs": [],
   "source": [
    "submission = pd.read_csv('series/cis-competition/sample_submission.csv')\n"
   ]
  },
  {
   "cell_type": "code",
   "execution_count": null,
   "metadata": {},
   "outputs": [],
   "source": [
    "submission"
   ]
  }
 ],
 "metadata": {
  "kernelspec": {
   "display_name": "Python 3 (ipykernel)",
   "language": "python",
   "name": "python3"
  },
  "language_info": {
   "codemirror_mode": {
    "name": "ipython",
    "version": 3
   },
   "file_extension": ".py",
   "mimetype": "text/x-python",
   "name": "python",
   "nbconvert_exporter": "python",
   "pygments_lexer": "ipython3",
   "version": "3.10.4"
  }
 },
 "nbformat": 4,
 "nbformat_minor": 4
}
