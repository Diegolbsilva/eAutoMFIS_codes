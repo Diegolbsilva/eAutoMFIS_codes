{
 "cells": [
  {
   "cell_type": "code",
   "execution_count": 1,
   "metadata": {},
   "outputs": [],
   "source": [
    "import pandas as pd \n",
    "import numpy as np\n",
    "import matplotlib.pyplot as plt  \n",
    "from copy import deepcopy\n",
    "from preprocessing import Preprocess\n",
    "from sklearn.preprocessing import StandardScaler, MinMaxScaler\n",
    "from math import sqrt"
   ]
  },
  {
   "cell_type": "code",
   "execution_count": 2,
   "metadata": {},
   "outputs": [],
   "source": [
    "#Rule Object structure\n",
    "class rule_object():\n",
    "    def __init__(self,complete_rules,prem_terms,rules,wd_,index):\n",
    "        self.complete_rules = complete_rules\n",
    "        self.prem_terms = prem_terms\n",
    "        self.rules = rules\n",
    "        self.index = index\n",
    "        self.wd_ = wd_"
   ]
  },
  {
   "cell_type": "code",
   "execution_count": 3,
   "metadata": {},
   "outputs": [
    {
     "name": "stderr",
     "output_type": "stream",
     "text": [
      "C:\\Users\\Diego\\AppData\\Local\\Temp\\ipykernel_3596\\3785800700.py:6: VisibleDeprecationWarning: Creating an ndarray from ragged nested sequences (which is a list-or-tuple of lists-or-tuples-or ndarrays with different lengths or shapes) is deprecated. If you meant to do this, you must specify 'dtype=object' when creating the ndarray.\n",
      "  lag_notused = np.array([[4,5],[4,5],[4],[4,5]])\n"
     ]
    }
   ],
   "source": [
    "#Basic informations \n",
    "\n",
    "num_predictors = 10\n",
    "num_input = 35\n",
    "lag = 30\n",
    "lag_notused = np.array([[4,5],[4,5],[4],[4,5]])\n",
    "not_used_lag = False\n",
    "\n",
    "\n",
    "\n",
    "#Actually, lag stands for all inputs for each serie. Example, lag = 2 uses s(t) and s(t-1) to predict s(t+1)\n",
    "diff_series = False\n",
    "detrend_series = False"
   ]
  },
  {
   "cell_type": "code",
   "execution_count": 5,
   "metadata": {},
   "outputs": [],
   "source": [
    "dataset = pd.read_csv('exchange_rate.txt',header=None)"
   ]
  },
  {
   "cell_type": "code",
   "execution_count": 6,
   "metadata": {},
   "outputs": [
    {
     "data": {
      "text/html": [
       "<div>\n",
       "<style scoped>\n",
       "    .dataframe tbody tr th:only-of-type {\n",
       "        vertical-align: middle;\n",
       "    }\n",
       "\n",
       "    .dataframe tbody tr th {\n",
       "        vertical-align: top;\n",
       "    }\n",
       "\n",
       "    .dataframe thead th {\n",
       "        text-align: right;\n",
       "    }\n",
       "</style>\n",
       "<table border=\"1\" class=\"dataframe\">\n",
       "  <thead>\n",
       "    <tr style=\"text-align: right;\">\n",
       "      <th></th>\n",
       "      <th>0</th>\n",
       "      <th>1</th>\n",
       "      <th>2</th>\n",
       "      <th>3</th>\n",
       "      <th>4</th>\n",
       "      <th>5</th>\n",
       "      <th>6</th>\n",
       "      <th>7</th>\n",
       "    </tr>\n",
       "  </thead>\n",
       "  <tbody>\n",
       "    <tr>\n",
       "      <th>0</th>\n",
       "      <td>0.7855</td>\n",
       "      <td>1.6110</td>\n",
       "      <td>0.861698</td>\n",
       "      <td>0.634196</td>\n",
       "      <td>0.211242</td>\n",
       "      <td>0.006838</td>\n",
       "      <td>0.5930</td>\n",
       "      <td>0.525486</td>\n",
       "    </tr>\n",
       "    <tr>\n",
       "      <th>1</th>\n",
       "      <td>0.7818</td>\n",
       "      <td>1.6100</td>\n",
       "      <td>0.861104</td>\n",
       "      <td>0.633513</td>\n",
       "      <td>0.211242</td>\n",
       "      <td>0.006863</td>\n",
       "      <td>0.5940</td>\n",
       "      <td>0.523972</td>\n",
       "    </tr>\n",
       "    <tr>\n",
       "      <th>2</th>\n",
       "      <td>0.7867</td>\n",
       "      <td>1.6293</td>\n",
       "      <td>0.861030</td>\n",
       "      <td>0.648508</td>\n",
       "      <td>0.211242</td>\n",
       "      <td>0.006975</td>\n",
       "      <td>0.5973</td>\n",
       "      <td>0.526316</td>\n",
       "    </tr>\n",
       "    <tr>\n",
       "      <th>3</th>\n",
       "      <td>0.7860</td>\n",
       "      <td>1.6370</td>\n",
       "      <td>0.862069</td>\n",
       "      <td>0.650618</td>\n",
       "      <td>0.211242</td>\n",
       "      <td>0.006953</td>\n",
       "      <td>0.5970</td>\n",
       "      <td>0.523834</td>\n",
       "    </tr>\n",
       "    <tr>\n",
       "      <th>4</th>\n",
       "      <td>0.7849</td>\n",
       "      <td>1.6530</td>\n",
       "      <td>0.861995</td>\n",
       "      <td>0.656254</td>\n",
       "      <td>0.211242</td>\n",
       "      <td>0.006940</td>\n",
       "      <td>0.5985</td>\n",
       "      <td>0.527426</td>\n",
       "    </tr>\n",
       "  </tbody>\n",
       "</table>\n",
       "</div>"
      ],
      "text/plain": [
       "        0       1         2         3         4         5       6         7\n",
       "0  0.7855  1.6110  0.861698  0.634196  0.211242  0.006838  0.5930  0.525486\n",
       "1  0.7818  1.6100  0.861104  0.633513  0.211242  0.006863  0.5940  0.523972\n",
       "2  0.7867  1.6293  0.861030  0.648508  0.211242  0.006975  0.5973  0.526316\n",
       "3  0.7860  1.6370  0.862069  0.650618  0.211242  0.006953  0.5970  0.523834\n",
       "4  0.7849  1.6530  0.861995  0.656254  0.211242  0.006940  0.5985  0.527426"
      ]
     },
     "execution_count": 6,
     "metadata": {},
     "output_type": "execute_result"
    }
   ],
   "source": [
    "dataset.head()"
   ]
  },
  {
   "cell_type": "code",
   "execution_count": 7,
   "metadata": {},
   "outputs": [
    {
     "data": {
      "text/html": [
       "<div>\n",
       "<style scoped>\n",
       "    .dataframe tbody tr th:only-of-type {\n",
       "        vertical-align: middle;\n",
       "    }\n",
       "\n",
       "    .dataframe tbody tr th {\n",
       "        vertical-align: top;\n",
       "    }\n",
       "\n",
       "    .dataframe thead th {\n",
       "        text-align: right;\n",
       "    }\n",
       "</style>\n",
       "<table border=\"1\" class=\"dataframe\">\n",
       "  <thead>\n",
       "    <tr style=\"text-align: right;\">\n",
       "      <th></th>\n",
       "      <th>0</th>\n",
       "      <th>1</th>\n",
       "      <th>2</th>\n",
       "      <th>3</th>\n",
       "      <th>4</th>\n",
       "      <th>5</th>\n",
       "      <th>6</th>\n",
       "      <th>7</th>\n",
       "    </tr>\n",
       "  </thead>\n",
       "  <tbody>\n",
       "    <tr>\n",
       "      <th>0</th>\n",
       "      <td>1.000000</td>\n",
       "      <td>0.211263</td>\n",
       "      <td>0.913903</td>\n",
       "      <td>0.811949</td>\n",
       "      <td>0.422523</td>\n",
       "      <td>0.661676</td>\n",
       "      <td>0.900563</td>\n",
       "      <td>0.819556</td>\n",
       "    </tr>\n",
       "    <tr>\n",
       "      <th>1</th>\n",
       "      <td>0.211263</td>\n",
       "      <td>1.000000</td>\n",
       "      <td>0.346885</td>\n",
       "      <td>-0.054231</td>\n",
       "      <td>0.041920</td>\n",
       "      <td>-0.199195</td>\n",
       "      <td>0.201379</td>\n",
       "      <td>-0.172660</td>\n",
       "    </tr>\n",
       "    <tr>\n",
       "      <th>2</th>\n",
       "      <td>0.913903</td>\n",
       "      <td>0.346885</td>\n",
       "      <td>1.000000</td>\n",
       "      <td>0.709560</td>\n",
       "      <td>0.508899</td>\n",
       "      <td>0.552243</td>\n",
       "      <td>0.776043</td>\n",
       "      <td>0.656708</td>\n",
       "    </tr>\n",
       "    <tr>\n",
       "      <th>3</th>\n",
       "      <td>0.811949</td>\n",
       "      <td>-0.054231</td>\n",
       "      <td>0.709560</td>\n",
       "      <td>1.000000</td>\n",
       "      <td>0.344609</td>\n",
       "      <td>0.633852</td>\n",
       "      <td>0.878720</td>\n",
       "      <td>0.907193</td>\n",
       "    </tr>\n",
       "    <tr>\n",
       "      <th>4</th>\n",
       "      <td>0.422523</td>\n",
       "      <td>0.041920</td>\n",
       "      <td>0.508899</td>\n",
       "      <td>0.344609</td>\n",
       "      <td>1.000000</td>\n",
       "      <td>-0.030113</td>\n",
       "      <td>0.255796</td>\n",
       "      <td>0.237887</td>\n",
       "    </tr>\n",
       "    <tr>\n",
       "      <th>5</th>\n",
       "      <td>0.661676</td>\n",
       "      <td>-0.199195</td>\n",
       "      <td>0.552243</td>\n",
       "      <td>0.633852</td>\n",
       "      <td>-0.030113</td>\n",
       "      <td>1.000000</td>\n",
       "      <td>0.555616</td>\n",
       "      <td>0.708835</td>\n",
       "    </tr>\n",
       "    <tr>\n",
       "      <th>6</th>\n",
       "      <td>0.900563</td>\n",
       "      <td>0.201379</td>\n",
       "      <td>0.776043</td>\n",
       "      <td>0.878720</td>\n",
       "      <td>0.255796</td>\n",
       "      <td>0.555616</td>\n",
       "      <td>1.000000</td>\n",
       "      <td>0.851381</td>\n",
       "    </tr>\n",
       "    <tr>\n",
       "      <th>7</th>\n",
       "      <td>0.819556</td>\n",
       "      <td>-0.172660</td>\n",
       "      <td>0.656708</td>\n",
       "      <td>0.907193</td>\n",
       "      <td>0.237887</td>\n",
       "      <td>0.708835</td>\n",
       "      <td>0.851381</td>\n",
       "      <td>1.000000</td>\n",
       "    </tr>\n",
       "  </tbody>\n",
       "</table>\n",
       "</div>"
      ],
      "text/plain": [
       "          0         1         2         3         4         5         6   \n",
       "0  1.000000  0.211263  0.913903  0.811949  0.422523  0.661676  0.900563  \\\n",
       "1  0.211263  1.000000  0.346885 -0.054231  0.041920 -0.199195  0.201379   \n",
       "2  0.913903  0.346885  1.000000  0.709560  0.508899  0.552243  0.776043   \n",
       "3  0.811949 -0.054231  0.709560  1.000000  0.344609  0.633852  0.878720   \n",
       "4  0.422523  0.041920  0.508899  0.344609  1.000000 -0.030113  0.255796   \n",
       "5  0.661676 -0.199195  0.552243  0.633852 -0.030113  1.000000  0.555616   \n",
       "6  0.900563  0.201379  0.776043  0.878720  0.255796  0.555616  1.000000   \n",
       "7  0.819556 -0.172660  0.656708  0.907193  0.237887  0.708835  0.851381   \n",
       "\n",
       "          7  \n",
       "0  0.819556  \n",
       "1 -0.172660  \n",
       "2  0.656708  \n",
       "3  0.907193  \n",
       "4  0.237887  \n",
       "5  0.708835  \n",
       "6  0.851381  \n",
       "7  1.000000  "
      ]
     },
     "execution_count": 7,
     "metadata": {},
     "output_type": "execute_result"
    }
   ],
   "source": [
    "dataset.corr()"
   ]
  },
  {
   "cell_type": "code",
   "execution_count": 8,
   "metadata": {},
   "outputs": [],
   "source": [
    "MA = 5\n",
    "MA_values = np.zeros((dataset.shape[0]-MA,dataset.shape[1]))\n",
    "for i in range(dataset.shape[1]):\n",
    "    a = dataset[i].rolling(window=MA).mean().values\n",
    "    MA_values[:,i] = a[5:]"
   ]
  },
  {
   "cell_type": "code",
   "execution_count": 9,
   "metadata": {},
   "outputs": [],
   "source": [
    "MA_dataset = pd.DataFrame(MA_values)"
   ]
  },
  {
   "cell_type": "code",
   "execution_count": 10,
   "metadata": {},
   "outputs": [],
   "source": [
    "#We are going to split between training, validation and test set.\n",
    "#Training set: 2 months of data (168*60) + lag\n",
    "#Validation set: 168 steps (1 week)\n",
    "#Test set: 168 steps (1 week)\n",
    "\n",
    "h_test = int(0.2*dataset.shape[0])\n",
    "h_val = 24\n",
    "#h_train = dataset.shape[0] - h_val - h_test - lag - 2\n",
    "h_train = 24*30\n",
    "\n",
    "a = MA_dataset.shape[0]\n",
    "all_data = MA_dataset[a - h_train - lag - 1 - h_val - h_test:]\n",
    "training_data = MA_dataset[a - h_train - lag - 1 - h_val - h_test:a-h_test]\n",
    "test_data = MA_dataset[a - h_test:a]"
   ]
  },
  {
   "cell_type": "code",
   "execution_count": 11,
   "metadata": {},
   "outputs": [
    {
     "data": {
      "text/plain": [
       "720"
      ]
     },
     "execution_count": 11,
     "metadata": {},
     "output_type": "execute_result"
    }
   ],
   "source": [
    "h_train"
   ]
  },
  {
   "cell_type": "code",
   "execution_count": 12,
   "metadata": {},
   "outputs": [],
   "source": [
    "training_values = training_data.values"
   ]
  },
  {
   "cell_type": "code",
   "execution_count": 13,
   "metadata": {},
   "outputs": [
    {
     "data": {
      "image/png": "[encoded data removed]",
      "text/plain": [
       "<Figure size 1600x900 with 8 Axes>"
      ]
     },
     "metadata": {},
     "output_type": "display_data"
    }
   ],
   "source": [
    "plt.figure(figsize=(16,9))\n",
    "for n in range(8):\n",
    "    plt.subplot(4,2,n+1)\n",
    "    plt.plot(training_values[:,n])"
   ]
  },
  {
   "cell_type": "code",
   "execution_count": 14,
   "metadata": {},
   "outputs": [],
   "source": [
    "#data = data1[:,[0, 61, 147, 241]]\n",
    "#data_ = training_values[:,[0,6]]\n",
    "#data_ = training_values[:,[0,2,6,7]]\n",
    "data_ = training_values\n",
    "#data_ = training_values[:,[0, 61, 147, 241]]"
   ]
  },
  {
   "cell_type": "code",
   "execution_count": 14,
   "metadata": {},
   "outputs": [
    {
     "data": {
      "text/plain": [
       "(775, 8)"
      ]
     },
     "execution_count": 14,
     "metadata": {},
     "output_type": "execute_result"
    }
   ],
   "source": [
    "data_.shape"
   ]
  },
  {
   "cell_type": "code",
   "execution_count": 15,
   "metadata": {},
   "outputs": [],
   "source": [
    "#bin_values = 12; #Representação da binarização do tempo.\n",
    "num_series = data_.shape[1]  #Numero de series do problema, extraído dos dados\n",
    "\n",
    "max_rulesize = 3 #Max numbers of premises rules.\n",
    "min_activation = 0.15 #Minimum activation\n",
    "\n",
    "form_method = 'mean'\n",
    "split_method = 'voting'\n",
    "solve_method = 'mqr'\n",
    "#####Definicao de funcoes######\n",
    "#detrend_method = ''\n",
    "#bin_method = ''\n",
    "\n",
    "fuzzy_method = 'mfdef_triangle'\n",
    "num_groups = 7\n",
    "\n",
    "defuzz_method = 'cog'\n",
    "\n",
    "ensemble_rules = None\n",
    "\n",
    "total_number = data_.shape[1]*lag\n",
    "\n",
    "\n",
    "filepath = 'exchange-rate'\n",
    "\n"
   ]
  },
  {
   "cell_type": "code",
   "execution_count": 17,
   "metadata": {},
   "outputs": [],
   "source": [
    "#Normalize data \n",
    "scaler = StandardScaler()\n",
    "#scaler = MinMaxScaler()\n",
    "preprocess_data = Preprocess(data_,h_prev=h_val,num_series=num_series, lag=lag)\n",
    "\n",
    "#For training set\n",
    "#training_set_orig, val_set_orig = preprocess_data.diff_series()\n",
    "#training_set_orig, val_set_orig = preprocess_data.split_data()\n",
    "training_set_orig, val_set_orig, trends = preprocess_data.detrend_series()\n",
    "\n",
    "diff_data = np.concatenate((training_set_orig, val_set_orig))\n",
    "\n",
    "norm_data = scaler.fit_transform(diff_data)\n",
    "training_set = scaler.transform(training_set_orig)\n",
    "val_set = scaler.transform(val_set_orig)\n",
    "\n",
    "training_set[abs(training_set) > 3] = 0\n",
    "\n",
    "yt, yp, yp_lagged = preprocess_data.delay_input(in_sample = training_set, lag = lag)\n",
    "#For all set. This will be useful for initial values of prediction\n",
    "all_yt, all_yp, all_lagged = preprocess_data.delay_input(in_sample = norm_data, lag = lag)"
   ]
  },
  {
   "cell_type": "code",
   "execution_count": 18,
   "metadata": {},
   "outputs": [],
   "source": [
    "process_all = Preprocess(all_data.values, h_prev = h_test, num_series=num_series, lag=lag)\n",
    "train_val_org, test_set_orig, a_trends = process_all.detrend_series()\n",
    "detrend_data = np.concatenate((train_val_org, test_set_orig))\n",
    "\n",
    "norm_data = scaler.fit_transform(detrend_data)\n",
    "training_set = scaler.transform(train_val_org)\n",
    "#val_set = scaler.transform(val_set_orig)\n",
    "\n",
    "test_set_norm = scaler.transform(test_set_orig)\n",
    "#all_data_norm = scaler.transform(all_data)\n",
    "\n",
    "test_all_yt, test_all_yp, test_all_lagged = preprocess_data.delay_input(in_sample = norm_data, lag = lag)"
   ]
  },
  {
   "cell_type": "code",
   "execution_count": 18,
   "metadata": {},
   "outputs": [
    {
     "data": {
      "text/plain": [
       "(2261, 240)"
      ]
     },
     "execution_count": 18,
     "metadata": {},
     "output_type": "execute_result"
    }
   ],
   "source": [
    "test_all_lagged.shape"
   ]
  },
  {
   "cell_type": "code",
   "execution_count": 19,
   "metadata": {},
   "outputs": [],
   "source": [
    "#diff_data.shape\n",
    "#diff_data = data_"
   ]
  },
  {
   "cell_type": "code",
   "execution_count": 20,
   "metadata": {},
   "outputs": [],
   "source": [
    "#plt.plot(yt[:,2])\n",
    "#plt.ylabel('Diff values')\n",
    "#plt.xlabel('Timestamp (h)')"
   ]
  },
  {
   "cell_type": "code",
   "execution_count": 21,
   "metadata": {},
   "outputs": [],
   "source": [
    "#plt.plot(norm_data[:,2])\n",
    "#plt.ylabel('Diff values')\n",
    "#plt.xlabel('Timestamp (h)')"
   ]
  },
  {
   "cell_type": "code",
   "execution_count": 22,
   "metadata": {},
   "outputs": [],
   "source": [
    "#For all set. This will be useful for initial values of prediction\n",
    "#all_yt, all_yp, all_lagged = preprocess_data.delay_input(in_sample = diff_data, lag = lag)"
   ]
  },
  {
   "cell_type": "code",
   "execution_count": 23,
   "metadata": {},
   "outputs": [],
   "source": [
    "#plt.plot(yt[200:,1])"
   ]
  },
  {
   "cell_type": "code",
   "execution_count": null,
   "metadata": {},
   "outputs": [],
   "source": []
  },
  {
   "cell_type": "code",
   "execution_count": 24,
   "metadata": {},
   "outputs": [],
   "source": [
    "#assert val_set.shape[0] == h_val\n",
    "#assert yp_lagged.shape[0] == h_train\n",
    "#assert yt.shape[0] == h_train"
   ]
  },
  {
   "cell_type": "code",
   "execution_count": 25,
   "metadata": {},
   "outputs": [],
   "source": [
    "#dataset.shape"
   ]
  },
  {
   "cell_type": "code",
   "execution_count": 19,
   "metadata": {
    "tags": []
   },
   "outputs": [],
   "source": [
    "import seaborn as sns\n",
    "from copy import deepcopy\n",
    "from utils import *\n",
    "\n",
    "import itertools\n",
    "import json\n",
    "import os\n",
    "\n",
    "#For e-autoMFIS, we import all of them.\n",
    "from eautoMFIS_V2 import autoMFIS\n",
    "import numpy as np\n",
    "import scipy.io\n",
    "from reweight import Reweight\n",
    "from fuzzyfication import Fuzzification\n",
    "from defuzzification import Defuzzification\n",
    "import matplotlib.pyplot as plt\n",
    "from predict import predict, predict_pattern\n",
    "\n",
    "\n",
    "\n",
    "def convert_object_to_float(data,datanames):\n",
    "    \n",
    "    for name in datanames:\n",
    "        dname = data[name].values.astype('str')\n",
    "        dname = [new_value.replace(',','.') for new_value in dname]\n",
    "        data[name] = dname\n",
    "        data[name] = data[name].astype(float)\n",
    "    return data\n",
    "\n",
    "##Assertion for ensemble rules\n",
    "#Somehow, when appending rules, ensemble_rules[:,1] has a erroneous form. This part seems to normalize it.\n",
    "\n",
    "#This module correct this error. Also, we are going to use some assertion to check if rules contains the same antecedents.\n",
    "def correct_bug(ensemble_rules,max_rulesize=0):\n",
    "    correct_rule = []\n",
    "    d_stacked_rules = []\n",
    "    new_ensemble_rules = np.zeros(shape=ensemble_rules.shape, dtype=object)\n",
    "\n",
    "\n",
    "    for  n_times in range(ensemble_rules.shape[1]):\n",
    "        t_rules = ensemble_rules[:,n_times]\n",
    "        correct_rule = []\n",
    "        d_stacked_rules = []\n",
    "        k = 0\n",
    "        for rule in t_rules:\n",
    "            #print(rule)\n",
    "            #print(len(rule))\n",
    "            #Check if there's a rule bigger than max_rulesize + 1 (#antecedents + #consequent)\n",
    "            if len(rule) > max_rulesize + 1:\n",
    "                #print(rule)\n",
    "                for i in rule:\n",
    "                    #k += 1\n",
    "                    if isinstance(i,tuple):\n",
    "                        #print(i)\n",
    "                        correct_rule.append(i)\n",
    "                    else:\n",
    "                        if len(correct_rule) == 0:\n",
    "                            #print(i)\n",
    "                            pass\n",
    "                            #d_stacked_rules.append(i)\n",
    "                        else:\n",
    "                            #print(correct_rule)\n",
    "                            new_ensemble_rules[k,n_times] = correct_rule\n",
    "                            k += 1\n",
    "                            #d_stacked_rules.append(correct_rule)\n",
    "                            correct_rule = []\n",
    "                            #d_stacked_rules.append(i)\n",
    "            else:\n",
    "                new_ensemble_rules[k,n_times] = rule\n",
    "                k += 1\n",
    "                #d_stacked_rules.append(rule)\n",
    "            \n",
    "        #new_ensemble_rules[:,i] = np.array(d_stacked_rules)\n",
    "\n",
    "    return new_ensemble_rules\n",
    "\n",
    "def remove_duplicates(new_ensemble_rules,ensemble_prem_terms, ensemble_antecedents):\n",
    "    t_rules = deepcopy(new_ensemble_rules[:,0])\n",
    "    no_duplicated_ensemble = np.zeros(new_ensemble_rules.shape,dtype=object)\n",
    "    no_duplicated_prem_terms = np.zeros(ensemble_prem_terms.shape)\n",
    "    no_duplicated_antecedents = np.zeros(ensemble_antecedents.shape,dtype=object)\n",
    "    new_t_rules = None\n",
    "\n",
    "    k = 0\n",
    "    j = 0\n",
    "    for rule in t_rules:\n",
    "        if new_t_rules is None:\n",
    "            new_t_rules = [rule]\n",
    "            no_duplicated_ensemble[k,:] = deepcopy(new_ensemble_rules[j,:])\n",
    "            no_duplicated_prem_terms[k,:] = deepcopy(ensemble_prem_terms[j,:])\n",
    "            no_duplicated_antecedents[k,:] = deepcopy(ensemble_antecedents[j,:])\n",
    "            k += 1\n",
    "\n",
    "        elif not check_duplicate_rules(rule,new_t_rules):\n",
    "            new_t_rules.append(rule)\n",
    "            no_duplicated_ensemble[k,:] = deepcopy(new_ensemble_rules[j,:])\n",
    "            no_duplicated_prem_terms[k,:] = deepcopy(ensemble_prem_terms[j,:])\n",
    "            no_duplicated_antecedents[k,:] = deepcopy(ensemble_antecedents[j,:])\n",
    "            k += 1\n",
    "        j += 1\n",
    "\n",
    "    new_rules = deepcopy(no_duplicated_ensemble[:k,:])\n",
    "    new_prem_terms = deepcopy(no_duplicated_prem_terms[:k,:])\n",
    "    new_antecedents = deepcopy(no_duplicated_antecedents[:k,:])\n",
    "\n",
    "    return new_rules, new_prem_terms, new_antecedents\n",
    "\n"
   ]
  },
  {
   "cell_type": "code",
   "execution_count": 27,
   "metadata": {},
   "outputs": [],
   "source": [
    "#t = [a + n for n in range(0,data.shape[0]-168,168) for a in range(24)]\n",
    "#t_lagged = [v - lag for v in t if (v-lag) > 0 and (v-lag) < yp.shape[0]]\n",
    "#yp = deepcopy(yp[t_lagged,:])\n",
    "#yt = deepcopy(yt[t_lagged,:])\n",
    "#yp_lagged = deepcopy(yp_lagged[t_lagged,:])\n",
    "\n",
    "#data = deepcopy(data[t[len(t)-len(t_lagged):],:])\n",
    "#in_sample = data[:data.shape[0]-h_prev,:]\n",
    "#out_sample = data[data.shape[0]-h_prev:,:]\n",
    "\n",
    "#print(len(t_lagged))"
   ]
  },
  {
   "cell_type": "code",
   "execution_count": 20,
   "metadata": {
    "tags": []
   },
   "outputs": [],
   "source": [
    "def fuzzy_external(fuzzy_method, num_series, training_set, num_groups, yp, yt, yp_lagged, lag):\n",
    "    ###############Fuzzificacao\n",
    "\n",
    "    Fuzzyfy = Fuzzification(fuzzy_method)\n",
    "\n",
    "    #Lembrete: \n",
    "    #axis 0 - Registros da série\n",
    "    #axis 1 - Valor de pertinência ao conjunto Fuzzy\n",
    "    #axis 2 - Numero de séries\n",
    "\n",
    "    first_time = True\n",
    "    print(f'Serie fuzzification')\n",
    "    for n in range(num_series):\n",
    "        _, mf_params = Fuzzyfy.fuzzify(training_set[:,n],np.array([]),num_groups=num_groups)\n",
    "        mX, _ = Fuzzyfy.fuzzify(yp[:,n],mf_params,num_groups=num_groups)\n",
    "        mY, _ = Fuzzyfy.fuzzify(yt[:,n],mf_params,num_groups=num_groups)\n",
    "        if first_time:\n",
    "            mX_ = np.ndarray([mX.shape[0],mX.shape[1], num_series])\n",
    "            mY_ = np.ndarray([mY.shape[0],mY.shape[1], num_series])\n",
    "            mf_params_ = np.ndarray([mf_params.shape[0],num_series])\n",
    "            first_time = False\n",
    "        mX_[:,:,n] = mX\n",
    "        mY_[:,:,n] = mY\n",
    "        mf_params_[:,n] = mf_params.ravel()\n",
    "        #print(mf_params)\n",
    "        #print(mX.shape)\n",
    "\n",
    "    print('Creating for lag values')\n",
    "    mX_lagged_ = np.ndarray([mX_.shape[0],mX_.shape[1],yp_lagged.shape[1]])\n",
    "    for i in range(num_series):\n",
    "        # print(f'Serie {i}')\n",
    "        mf_params = mf_params_[:,i]\n",
    "        for j in range(lag):\n",
    "            mX, _ = Fuzzyfy.fuzzify(yp_lagged[:,i*lag+j],mf_params,num_groups=num_groups)\n",
    "            mX_lagged_[:,:,i*lag+j] = mX\n",
    "            #print(i*lag+j)\n",
    "\n",
    "\n",
    "    #mX_lagged_[:,:,not_select_subsample] = 0\n",
    "\n",
    "    #print(mX_lagged_[:,:,not_select_subsample])\n",
    "    ############## Formulacao\n",
    "    if not_used_lag:\n",
    "        new_mX, lags_used = remove_lags(mX_lagged_,lag_notused,num_series,lag)\n",
    "    else:\n",
    "        new_mX = mX_lagged_\n",
    "\n",
    "    return Fuzzyfy, mX_, mY_, mf_params_, mX_lagged_\n"
   ]
  },
  {
   "cell_type": "code",
   "execution_count": 29,
   "metadata": {
    "tags": []
   },
   "outputs": [
    {
     "name": "stdout",
     "output_type": "stream",
     "text": [
      "=========================================================================================\n",
      "Shape of in-sample is 775\n",
      "Shape of lagged data is 720\n",
      "Shape of validation set is 24\n",
      "=========================================================================================\n",
      "Step 1 - Fuzzification\n",
      "Step 2 - Formulation\n",
      "Using mean on formulation\n",
      "Step 3 - Split\n",
      "Step 4 - Reweight\n",
      "Attempt #20000\n",
      "Residual = 0.16068629685516014\n"
     ]
    }
   ],
   "source": [
    "\n",
    "min_error = 300.0\n",
    "\n",
    "bres = min_error\n",
    "\n",
    "initial_values = all_lagged[yp_lagged.shape[0],:].reshape(1,-1)\n",
    "in_sample = deepcopy(training_set)\n",
    "out_sample = deepcopy(val_set)\n",
    "\n",
    "best_list_rules = [rule_object(None,None,None,None,i) for i in range(in_sample.shape[1])]\n",
    "\n",
    "best_t_mX_lagged_list = [None]*in_sample.shape[1]\n",
    "\n",
    "best_agg_training_list = [None]*in_sample.shape[1]\n",
    "\n",
    "\n",
    "print('='*89)\n",
    "\n",
    "print(f'Shape of in-sample is {in_sample.shape[0]}')\n",
    "#assert in_sample.shape[0] == h_train//7\n",
    "print(f'Shape of lagged data is {yp_lagged.shape[0]}')\n",
    "#assert yp_lagged1.shape[0] == h_train//manual_pattern\n",
    "print(f'Shape of validation set is {out_sample.shape[0]}')\n",
    "\n",
    "print('='*89)\n",
    "for target in range(in_sample.shape[1]):\n",
    "    linear_auto_corr = preprocess_data.linear_acf_weights(in_sample = in_sample)\n",
    "\n",
    "    linear_cross_corr = preprocess_data.spearman_corr_weights(in_sample = in_sample, target_position=target)\n",
    "\n",
    "    #Concatenate rules\n",
    "    for i in range(num_predictors):\n",
    "        try:\n",
    "            _, _, yp_lagged_ = preprocess_data.generate_subsamples(correlation_array=deepcopy(linear_cross_corr),\n",
    "                                                                    autocorrelation_matrix=linear_auto_corr,\n",
    "                                                                    num_inputs=num_input, \n",
    "                                                                    in_sample=in_sample, \n",
    "                                                                    yt = yt, \n",
    "                                                                    yp = yp, \n",
    "                                                                    yp_lagged = deepcopy(yp_lagged))\n",
    "            \n",
    "            Fuzzyfy, mX_, mY_, mf_params_, mX_lagged_ = fuzzy_external(fuzzy_method, num_series, training_set, num_groups, yp, yt, deepcopy(yp_lagged_), lag)\n",
    "\n",
    "            model = autoMFIS(diff_series=diff_series,detrend_series=detrend_series,fuzzy_method=fuzzy_method,solve_method=solve_method,defuzz_method=defuzz_method, num_groups = num_groups, h_prev = out_sample.shape[0], num_series = num_series, max_rulesize = max_rulesize, min_activation = min_activation, lag = lag, hide_values = False, form_method = form_method, split_method = split_method, show=False)\n",
    "            \n",
    "            # not_select_subsample = np.random.choice(total_number,total_number-num_input,replace=False)\n",
    "            t_mX_lagged = deepcopy(mX_lagged_)\n",
    "            # t_mX_lagged[:,:,not_select_subsample] = 0\n",
    "\n",
    "            model.set_fuzzification(Fuzzyfy, mf_params_, mX_, mY_, t_mX_lagged)        \n",
    "\n",
    "            complete_rules, prem_terms, rules, agg_training, wd_ = model.train(norm_data, yt=yt,yp=yp,yp_lagged=yp_lagged,correlation_array=linear_cross_corr, autocorrelation_matrix=linear_auto_corr,in_sample=in_sample,out_sample=out_sample, lag_notused=[],debug=True)\n",
    "\n",
    "\n",
    "\n",
    "            #complete_rules, prem_terms, rules, agg_training, wd_ = autoMFIS(data_,lag=lag, lag_notused=lag_notused, not_used_lag=not_used_lag,not_select_subsample=not_select_subsample, h_prev = out_sample.shape[0], diff_series=diff_series, detrend_series=detrend_series, num_series=num_series, max_rulesize=max_rulesize, min_activation=min_activation, fuzzy_method=fuzzy_method, num_groups=num_groups,solve_method='mqr',defuzz_method=defuzz_method,yt=yt1,yp=yp1,yp_lagged=yp_lagged1,in_sample=in_sample,out_sample=out_sample)\n",
    "            print(f'Predict on validation set - #{i}')\n",
    "            #Prediction of a single subset\n",
    "            #yt_totest, errors = model.predict(initial_values, data=norm_data, in_sample = yt, out_sample=val_set, agg_training=agg_training,h_prev=out_sample.shape[0],n_attempt=f'p_subsample_{i}',wd_=wd_,ensemble_antecedents=rules,ensemble_rules=complete_rules, filepath=filepath, lim=min_error, fig_axis=[4,2],ndata=MA_dataset,show=False)\n",
    "            predicted_values = np.zeros(test_data.values.shape)\n",
    "            init = in_sample.shape[0]\n",
    "            for k in range(0,h_test,24):\n",
    "\n",
    "                initial_values = test_all_lagged[yp_lagged.shape[0]+k,:].reshape(1,-1)\n",
    "                yt_totest, errors = model.predict(initial_values, \n",
    "                                             data=norm_data, \n",
    "                                             in_sample = yt, \n",
    "                                             out_sample=val_set, \n",
    "                                             agg_training=agg_training,\n",
    "                                             h_prev=24,\n",
    "                                             n_attempt=f'p_subsample_{i}',\n",
    "                                             wd_=wd_,\n",
    "                                             ensemble_antecedents=rules,\n",
    "                                             ensemble_rules=complete_rules, \n",
    "                                             filepath=filepath, \n",
    "                                             lim=min_error, \n",
    "                                             fig_axis=[4,2],\n",
    "                                             ndata=MA_dataset,\n",
    "                                             show=False)\n",
    "                \n",
    "                a = scaler.inverse_transform(yt_totest)\n",
    "                #print(k)\n",
    "                if (k+24 > predicted_values.shape[0]):\n",
    "                    bb = predicted_values.shape[0] - k\n",
    "                    b = a[-bb:,:] + a_trends[init+k:init+k+bb,:]\n",
    "                    predicted_values[k:k+bb,:] = b\n",
    "                else:\n",
    "                    b = a + a_trends[init+k:init+k+24,:]\n",
    "                    predicted_values[k:k+24,:] = b\n",
    "            F = predicted_values\n",
    "            A = test_data.values     \n",
    "            num = sqrt(np.sum((F-A)**2))\n",
    "            den = sqrt(np.sum((A-np.mean(A))**2))\n",
    "            rrse = num/(den+0.0000001)\n",
    "            print(rrse)\n",
    "            #errors = predict(Fuzzyfy, lags_used = [], num_groups=num_groups, ndata=dataset, data=data_,in_sample=in_sample,out_sample=out_sample, lag = lag, mf_params_=mf_params_,num_series=num_series,agg_training=agg_training,yp_lagged=yp_lagged1,h_prev=out_sample.shape[0],not_used_lag=not_used_lag,n_attempt=f'p_{n_pattern}_subsample_{i}',wd_=wd_,ensemble_antecedents=rules,ensemble_rules=complete_rules,filepath=filepath,lim=3.0,defuzz_method=defuzz_method,fig_axis=[2,2])\n",
    "            #print(errors)\n",
    "            #print(complete_rules)\n",
    "            \n",
    "            if rrse < bres:\n",
    "                bres = rrse \n",
    "                best_list_rules[target].complete_rules = deepcopy(complete_rules)\n",
    "                best_list_rules[target].prem_terms = deepcopy(prem_terms)\n",
    "                best_list_rules[target].rules = deepcopy(rules) \n",
    "                best_list_rules[target].wd_ = deepcopy(wd_)\n",
    "                best_agg_training_list[target] = deepcopy(agg_training)\n",
    "                best_t_mX_lagged_list[target] = deepcopy(t_mX_lagged)\n",
    "\n",
    "\n",
    "            if rrse < 0.1:\n",
    "                if ensemble_rules is None:\n",
    "                    ensemble_rules = complete_rules\n",
    "                    ensemble_prem_terms = prem_terms\n",
    "                    ensemble_antecedents = rules\n",
    "                    #print(ensemble_rules.shape)\n",
    "                else:\n",
    "                    ensemble_rules = np.concatenate((ensemble_rules, complete_rules))\n",
    "                    \n",
    "                    ensemble_prem_terms = np.concatenate((ensemble_prem_terms,prem_terms))\n",
    "                    ensemble_antecedents = np.concatenate((ensemble_antecedents,rules))\n",
    "                    #print(ensemble_rules.shape)\n",
    "                    #print(ensemble_prem_terms.shape)\n",
    "                #print(ensemble_rules[:,0])\n",
    "            elif ensemble_rules is None and i == num_predictors - 1:\n",
    "                ensemble_rules = complete_rules\n",
    "                ensemble_prem_terms = prem_terms\n",
    "                ensemble_antecedents = rules\n",
    "                print('No rules match criteria. Using rules to fill the gap')\n",
    "            '''  \n",
    "            #print('RMSE Errors = {}'.format(errors[0,:]))\n",
    "            print('RRSE Errors = {}'.format(errors[1,:]))\n",
    "            #print('Mean RRSE Error = {}'.format(np.mean(errors[1,:])))\n",
    "          \n",
    "            print('RRSE Errors = {}'.format(errors[1,:]))\n",
    "            if errors[1,0] < min_error:\n",
    "                ensemble_rules = deepcopy(complete_rules)\n",
    "                ensemble_prem_terms = deepcopy(prem_terms)\n",
    "                ensemble_antecedents = deepcopy(rules)\n",
    "                wd__ = wd_\n",
    "                min_error = errors[1,0]\n",
    "        '''\n",
    "        except Exception as e:\n",
    "            print(e)\n",
    "            pass\n",
    "        "
   ]
  },
  {
   "cell_type": "code",
   "execution_count": null,
   "metadata": {},
   "outputs": [],
   "source": [
    "rrse"
   ]
  },
  {
   "cell_type": "code",
   "execution_count": null,
   "metadata": {},
   "outputs": [],
   "source": [
    "bb"
   ]
  },
  {
   "cell_type": "code",
   "execution_count": null,
   "metadata": {},
   "outputs": [],
   "source": []
  },
  {
   "cell_type": "code",
   "execution_count": null,
   "metadata": {},
   "outputs": [],
   "source": [
    "predicted_values = np.zeros(test_data.values.shape)\n",
    "init = in_sample.shape[0]\n",
    "for k in range(0,h_test,24):\n",
    "    print(k)\n",
    "    initial_values = test_all_lagged[yp_lagged.shape[0]+k,:].reshape(1,-1)\n",
    "    yt_totest, _ = model.predict(initial_values, data=norm_data, in_sample = yt, out_sample=val_set, agg_training=agg_training,h_prev=24,n_attempt=f'p_subsample_{i}',wd_=wd_,ensemble_antecedents=rules,ensemble_rules=complete_rules, filepath=filepath, lim=min_error, fig_axis=[4,2],ndata=MA_dataset,show=False)\n",
    "    a = scaler.inverse_transform(yt_totest)\n",
    "    b = a + a_trends[init+k:init+k+24,:]\n",
    "    predicted_values[k:k+24,:] = b"
   ]
  },
  {
   "cell_type": "code",
   "execution_count": null,
   "metadata": {},
   "outputs": [],
   "source": [
    "from math import sqrt\n",
    "\n",
    "F = predicted_values[:1510,:]\n",
    "A = test_data.values[:1510,:]     \n",
    "num = sqrt(np.sum((F-A)**2))\n",
    "den = sqrt(np.sum((A-np.mean(A))**2))\n",
    "rrse = num/(den+0.0000001)"
   ]
  },
  {
   "cell_type": "code",
   "execution_count": null,
   "metadata": {},
   "outputs": [],
   "source": [
    "num = sqrt(np.sum((F-A)**2))\n",
    "den = sqrt(np.sum((A-np.mean(A))**2))\n",
    "rrse = num/(den+0.0000001)"
   ]
  },
  {
   "cell_type": "code",
   "execution_count": null,
   "metadata": {},
   "outputs": [],
   "source": [
    "rrse "
   ]
  },
  {
   "cell_type": "code",
   "execution_count": null,
   "metadata": {},
   "outputs": [],
   "source": []
  },
  {
   "cell_type": "code",
   "execution_count": null,
   "metadata": {},
   "outputs": [],
   "source": []
  },
  {
   "cell_type": "code",
   "execution_count": null,
   "metadata": {},
   "outputs": [],
   "source": [
    "for i in range(F.shape[1]):\n",
    "    plt.figure()\n",
    "    plt.plot(F[:,i])\n",
    "    plt.plot(A[:,i])"
   ]
  },
  {
   "cell_type": "code",
   "execution_count": null,
   "metadata": {},
   "outputs": [],
   "source": [
    "for i in range(data_.shape[1]):\n",
    "    plt.figure()\n",
    "    plt.plot(b[:,i])\n",
    "    plt.plot(data_[-24:,i])\n",
    "    plt.legend(['Predicted','Actual'])"
   ]
  },
  {
   "cell_type": "code",
   "execution_count": null,
   "metadata": {},
   "outputs": [],
   "source": [
    "in_sample.shape"
   ]
  },
  {
   "cell_type": "code",
   "execution_count": null,
   "metadata": {},
   "outputs": [],
   "source": [
    "complete_rules[:,1]"
   ]
  },
  {
   "cell_type": "code",
   "execution_count": null,
   "metadata": {},
   "outputs": [],
   "source": [
    "k = 0\n",
    "i = 0\n",
    "\n",
    "prems_activated = np.where(prem_terms[k,:] > min_activation)[0]\n",
    "mask_mY = mY_[prems_activated,:,i]\n",
    "max_index = np.argmax(mY_[prems_activated,:,i],axis=1)\n",
    "index, count_index = np.unique(max_index, return_counts = True)\n",
    "#print(count_index)\n",
    "max_id = index[np.argmax(count_index)]"
   ]
  },
  {
   "cell_type": "code",
   "execution_count": null,
   "metadata": {},
   "outputs": [],
   "source": [
    "mask_mY[:,2][np.where(max_index == 2)[0]].mean()"
   ]
  },
  {
   "cell_type": "code",
   "execution_count": null,
   "metadata": {},
   "outputs": [],
   "source": []
  },
  {
   "cell_type": "code",
   "execution_count": null,
   "metadata": {},
   "outputs": [],
   "source": []
  },
  {
   "cell_type": "code",
   "execution_count": null,
   "metadata": {},
   "outputs": [],
   "source": []
  },
  {
   "cell_type": "code",
   "execution_count": null,
   "metadata": {},
   "outputs": [],
   "source": [
    "max_index[max_index==1].shape"
   ]
  },
  {
   "cell_type": "code",
   "execution_count": null,
   "metadata": {},
   "outputs": [],
   "source": [
    "a,b = np.unique(max_index, return_counts=True)"
   ]
  },
  {
   "cell_type": "code",
   "execution_count": null,
   "metadata": {},
   "outputs": [],
   "source": [
    "blah = np.array([0, 0, 1, 1])\n",
    "a, b = np.unique(blah, return_counts=True)\n",
    "np.argmax(b)"
   ]
  },
  {
   "cell_type": "code",
   "execution_count": null,
   "metadata": {},
   "outputs": [],
   "source": [
    "from utils import nmean_activation, check_if_inside, check_duplicate_rules, rearranje_rules, freq_activation, mean_activation\n",
    "from tnorm import tnorm_product"
   ]
  },
  {
   "cell_type": "code",
   "execution_count": null,
   "metadata": {},
   "outputs": [],
   "source": [
    "count_tnorm = np.vstack((mX_lagged_[:,2,16],mX_lagged_[:,0,16]))\n",
    "tnorm_ = tnorm_product(count_tnorm)\n",
    "a,b,c = mean_activation(tnorm_,0.5)\n",
    "print(a)\n",
    "print(b)\n",
    "print(c)"
   ]
  },
  {
   "cell_type": "code",
   "execution_count": null,
   "metadata": {},
   "outputs": [],
   "source": [
    "complete_rules[:,0].shape"
   ]
  },
  {
   "cell_type": "code",
   "execution_count": null,
   "metadata": {},
   "outputs": [],
   "source": [
    "np.unique(mX_lagged_)"
   ]
  },
  {
   "cell_type": "code",
   "execution_count": null,
   "metadata": {},
   "outputs": [],
   "source": [
    "a,b,c = nmean_activation(mX_lagged_[:,3,70],0.5)\n",
    "print(a)\n",
    "print(b)\n",
    "print(c)"
   ]
  },
  {
   "cell_type": "code",
   "execution_count": null,
   "metadata": {},
   "outputs": [],
   "source": [
    "complete_rules"
   ]
  },
  {
   "cell_type": "code",
   "execution_count": null,
   "metadata": {},
   "outputs": [],
   "source": []
  },
  {
   "cell_type": "code",
   "execution_count": null,
   "metadata": {
    "tags": []
   },
   "outputs": [],
   "source": [
    "'''\n",
    "init = 0\n",
    "for i,a in enumerate(list_rules):\n",
    "    try:\n",
    "        ensemble_rules = a.complete_rules\n",
    "        ensemble_prem_terms = a.prem_terms\n",
    "        ensemble_antecedents = a.rules\n",
    "        \n",
    "        new_ensemble_rules = correct_bug(ensemble_rules,max_rulesize=max_rulesize)\n",
    "\n",
    "        new_rules, new_prem_terms, new_antecedents = remove_duplicates(new_ensemble_rules,ensemble_prem_terms,            ensemble_antecedents)\n",
    "\n",
    "        wd_, _ = model.reweight_mf(mY_[init:init+ensemble_prem_terms.shape[1],:,:], new_rules, new_prem_terms)\n",
    "        \n",
    "        list_rules[i].complete_rules = new_rules\n",
    "        list_rules[i].prem_terms = new_prem_terms\n",
    "        list_rules[i].rules = new_antecedents\n",
    "        list_rules[i].wd_ = wd_\n",
    "\n",
    "        init += ensemble_prem_terms.shape[1]\n",
    "\n",
    "    except Exception as e:\n",
    "        print(e)\n",
    "'''"
   ]
  },
  {
   "cell_type": "code",
   "execution_count": null,
   "metadata": {
    "tags": []
   },
   "outputs": [],
   "source": [
    "initial_values = all_lagged[yp_lagged.shape[0]-1,:].reshape(1,-1)\n",
    "\n",
    "test_values = test_data.values\n",
    "\n"
   ]
  },
  {
   "cell_type": "code",
   "execution_count": null,
   "metadata": {},
   "outputs": [],
   "source": [
    "errors1"
   ]
  },
  {
   "cell_type": "code",
   "execution_count": null,
   "metadata": {
    "tags": []
   },
   "outputs": [],
   "source": [
    "#errors = predict_pattern(Fuzzyfy, lags_used = [], num_groups=num_groups, ndata=dataset, data=data_, lag = lag, mf_params_=mf_params_,num_series=num_series,h_prev=h_test,not_used_lag=not_used_lag,n_attempt=f'_predict_',wd_=wd_,filepath=filepath,lim=3.0,defuzz_method=defuzz_method,fig_axis=[2,2], n_patterns=n_pattern, list_rules = list_rules)\n",
    "\n"
   ]
  },
  {
   "cell_type": "code",
   "execution_count": null,
   "metadata": {},
   "outputs": [],
   "source": [
    "errors1"
   ]
  },
  {
   "cell_type": "code",
   "execution_count": null,
   "metadata": {},
   "outputs": [],
   "source": [
    "#new_ensemble_rules = correct_bug(ensemble_rules,max_rulesize=max_rulesize)\n",
    "\n",
    "#new_rules, new_prem_terms, new_antecedents = remove_duplicates(new_ensemble_rules,ensemble_prem_terms, ensemble_antecedents)\n",
    "\n",
    "#rw = Reweight(mY_,new_rules,new_prem_terms)\n",
    "#wd_, agg_training = rw.run('mqr',debug=False)\n",
    "\n",
    "#predict(Fuzzyfy, lags_used = [], num_groups=num_groups, ndata=dataset, data=data,in_sample=in_sample,out_sample=out_sample, lag = lag, mf_params_=mf_params_,num_series=num_series,agg_training=agg_training,yp_lagged=yp_lagged,h_prev=h_prev,not_used_lag=not_used_lag,n_attempt='_{}'.format(i),wd_=wd_,ensemble_antecedents=new_antecedents,ensemble_rules=new_rules,filepath=filepath,lim=3.0,defuzz_method=defuzz_method,fig_axis=[2,2])"
   ]
  },
  {
   "cell_type": "code",
   "execution_count": null,
   "metadata": {},
   "outputs": [],
   "source": [
    "#rw = Reweight(mY_,complete_rules,prem_terms)\n",
    "#wd_, agg_training = rw.run('mqr',debug=False)\n",
    "#defuzz = Defuzzification(mf_params_,num_series)\n",
    "#y_predict_ = defuzz.run('mom',agg_training,show=True)"
   ]
  },
  {
   "cell_type": "code",
   "execution_count": null,
   "metadata": {},
   "outputs": [],
   "source": []
  },
  {
   "cell_type": "code",
   "execution_count": null,
   "metadata": {
    "tags": []
   },
   "outputs": [],
   "source": [
    "k = 2\n",
    "t = [a + n for n in range(0,data.shape[0]-168,168) for a in range(24*k,24*(k+1))]\n",
    "t_lagged = [v - lag for v in t if (v-lag) > 0 and (v-lag) < yp.shape[0]]\n",
    "yp1 = deepcopy(yp[t_lagged,:])\n",
    "yt1 = deepcopy(yt[t_lagged,:])\n",
    "yp_lagged1 = deepcopy(yp_lagged[t_lagged,:])\n",
    "\n",
    "data1 = deepcopy(data[t[len(t)-len(t_lagged):],:])\n",
    "in_sample = data1[:data1.shape[0]-h_prev,:]\n",
    "out_sample = data1[data1.shape[0]-h_prev:,:]\n",
    "\n",
    "print(len(t_lagged))\n"
   ]
  },
  {
   "cell_type": "code",
   "execution_count": null,
   "metadata": {},
   "outputs": [],
   "source": [
    "ll = [rule_object(None,None,None,k) for k in range(7)]"
   ]
  },
  {
   "cell_type": "code",
   "execution_count": null,
   "metadata": {},
   "outputs": [],
   "source": []
  },
  {
   "cell_type": "code",
   "execution_count": null,
   "metadata": {},
   "outputs": [],
   "source": [
    "wd_.shape"
   ]
  },
  {
   "cell_type": "code",
   "execution_count": null,
   "metadata": {},
   "outputs": [],
   "source": [
    "complete_rules.shape"
   ]
  },
  {
   "cell_type": "code",
   "execution_count": null,
   "metadata": {
    "tags": []
   },
   "outputs": [],
   "source": [
    "list_rules[1].complete_rules"
   ]
  },
  {
   "cell_type": "code",
   "execution_count": null,
   "metadata": {},
   "outputs": [],
   "source": [
    "all_lagged.shape"
   ]
  },
  {
   "cell_type": "code",
   "execution_count": null,
   "metadata": {},
   "outputs": [],
   "source": [
    "all_yt[yp_lagged.shape[0] + t_val[0],:]"
   ]
  },
  {
   "cell_type": "code",
   "execution_count": null,
   "metadata": {},
   "outputs": [],
   "source": [
    "out_sample[0,:]"
   ]
  },
  {
   "cell_type": "code",
   "execution_count": null,
   "metadata": {},
   "outputs": [],
   "source": [
    "test_set = test_data.values"
   ]
  },
  {
   "cell_type": "code",
   "execution_count": null,
   "metadata": {},
   "outputs": [],
   "source": [
    "plt.plot(np.arange(0,training_set.shape[0]),training_set[:,0],label='Train')\n",
    "plt.plot(np.arange(training_set.shape[0],training_set.shape[0]+val_set.shape[0]),val_set[:,0],color='r',label='Validation')\n",
    "plt.plot(np.arange(training_set.shape[0]+val_set.shape[0], training_set.shape[0]+val_set.shape[0] + test_set.shape[0]),test_set[:,0],label='Test')\n",
    "plt.xlabel('Time')\n",
    "plt.ylabel('Traffic rate')\n",
    "plt.title('Data split')\n",
    "plt.legend(['Train','Validation','Test'])"
   ]
  },
  {
   "cell_type": "code",
   "execution_count": null,
   "metadata": {},
   "outputs": [],
   "source": [
    "a = dataset.corr()"
   ]
  },
  {
   "cell_type": "code",
   "execution_count": null,
   "metadata": {},
   "outputs": [],
   "source": [
    "np.sort(a[0].values)[-5:]"
   ]
  },
  {
   "cell_type": "code",
   "execution_count": null,
   "metadata": {},
   "outputs": [],
   "source": [
    "b = a[0].values"
   ]
  },
  {
   "cell_type": "code",
   "execution_count": null,
   "metadata": {},
   "outputs": [],
   "source": [
    "for i in np.sort(a[0].values)[-5:]:\n",
    "    print(np.where(np.isclose(b,i)))"
   ]
  },
  {
   "cell_type": "code",
   "execution_count": null,
   "metadata": {},
   "outputs": [],
   "source": [
    "type(b)"
   ]
  },
  {
   "cell_type": "code",
   "execution_count": null,
   "metadata": {},
   "outputs": [],
   "source": []
  }
 ],
 "metadata": {
  "kernelspec": {
   "display_name": "Python 3 (ipykernel)",
   "language": "python",
   "name": "python3"
  },
  "language_info": {
   "codemirror_mode": {
    "name": "ipython",
    "version": 3
   },
   "file_extension": ".py",
   "mimetype": "text/x-python",
   "name": "python",
   "nbconvert_exporter": "python",
   "pygments_lexer": "ipython3",
   "version": "3.8.16"
  }
 },
 "nbformat": 4,
 "nbformat_minor": 4
}
