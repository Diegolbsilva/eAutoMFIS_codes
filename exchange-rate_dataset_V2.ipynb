{
 "cells": [
  {
   "cell_type": "code",
   "execution_count": 1,
   "metadata": {},
   "outputs": [],
   "source": [
    "import pandas as pd \n",
    "import numpy as np\n",
    "import matplotlib.pyplot as plt  \n",
    "from copy import deepcopy\n",
    "from preprocessing import Preprocess"
   ]
  },
  {
   "cell_type": "code",
   "execution_count": 2,
   "metadata": {},
   "outputs": [],
   "source": [
    "dataset = pd.read_csv('exchange_rate.txt',header=None)"
   ]
  },
  {
   "cell_type": "code",
   "execution_count": 3,
   "metadata": {},
   "outputs": [
    {
     "data": {
      "text/html": [
       "<div>\n",
       "<style scoped>\n",
       "    .dataframe tbody tr th:only-of-type {\n",
       "        vertical-align: middle;\n",
       "    }\n",
       "\n",
       "    .dataframe tbody tr th {\n",
       "        vertical-align: top;\n",
       "    }\n",
       "\n",
       "    .dataframe thead th {\n",
       "        text-align: right;\n",
       "    }\n",
       "</style>\n",
       "<table border=\"1\" class=\"dataframe\">\n",
       "  <thead>\n",
       "    <tr style=\"text-align: right;\">\n",
       "      <th></th>\n",
       "      <th>0</th>\n",
       "      <th>1</th>\n",
       "      <th>2</th>\n",
       "      <th>3</th>\n",
       "      <th>4</th>\n",
       "      <th>5</th>\n",
       "      <th>6</th>\n",
       "      <th>7</th>\n",
       "    </tr>\n",
       "  </thead>\n",
       "  <tbody>\n",
       "    <tr>\n",
       "      <th>5588</th>\n",
       "      <td>0.995025</td>\n",
       "      <td>1.623377</td>\n",
       "      <td>1.016033</td>\n",
       "      <td>1.109755</td>\n",
       "      <td>0.152221</td>\n",
       "      <td>0.012340</td>\n",
       "      <td>0.730407</td>\n",
       "      <td>0.785484</td>\n",
       "    </tr>\n",
       "    <tr>\n",
       "      <th>5589</th>\n",
       "      <td>0.995025</td>\n",
       "      <td>1.623377</td>\n",
       "      <td>1.016033</td>\n",
       "      <td>1.109755</td>\n",
       "      <td>0.152221</td>\n",
       "      <td>0.012340</td>\n",
       "      <td>0.730407</td>\n",
       "      <td>0.785484</td>\n",
       "    </tr>\n",
       "    <tr>\n",
       "      <th>5590</th>\n",
       "      <td>1.004853</td>\n",
       "      <td>1.629912</td>\n",
       "      <td>1.023123</td>\n",
       "      <td>1.104033</td>\n",
       "      <td>0.152323</td>\n",
       "      <td>0.012344</td>\n",
       "      <td>0.733460</td>\n",
       "      <td>0.789359</td>\n",
       "    </tr>\n",
       "    <tr>\n",
       "      <th>5591</th>\n",
       "      <td>1.010509</td>\n",
       "      <td>1.637197</td>\n",
       "      <td>1.020721</td>\n",
       "      <td>1.107174</td>\n",
       "      <td>0.152614</td>\n",
       "      <td>0.012348</td>\n",
       "      <td>0.740521</td>\n",
       "      <td>0.791452</td>\n",
       "    </tr>\n",
       "    <tr>\n",
       "      <th>5592</th>\n",
       "      <td>1.012545</td>\n",
       "      <td>1.625382</td>\n",
       "      <td>1.020106</td>\n",
       "      <td>1.101928</td>\n",
       "      <td>0.152486</td>\n",
       "      <td>0.012366</td>\n",
       "      <td>0.741730</td>\n",
       "      <td>0.790952</td>\n",
       "    </tr>\n",
       "    <tr>\n",
       "      <th>...</th>\n",
       "      <td>...</td>\n",
       "      <td>...</td>\n",
       "      <td>...</td>\n",
       "      <td>...</td>\n",
       "      <td>...</td>\n",
       "      <td>...</td>\n",
       "      <td>...</td>\n",
       "      <td>...</td>\n",
       "    </tr>\n",
       "    <tr>\n",
       "      <th>7367</th>\n",
       "      <td>0.719632</td>\n",
       "      <td>1.470415</td>\n",
       "      <td>0.764965</td>\n",
       "      <td>1.008985</td>\n",
       "      <td>0.152576</td>\n",
       "      <td>0.009074</td>\n",
       "      <td>0.676064</td>\n",
       "      <td>0.725189</td>\n",
       "    </tr>\n",
       "    <tr>\n",
       "      <th>7368</th>\n",
       "      <td>0.721605</td>\n",
       "      <td>1.465438</td>\n",
       "      <td>0.769882</td>\n",
       "      <td>1.010285</td>\n",
       "      <td>0.152509</td>\n",
       "      <td>0.009112</td>\n",
       "      <td>0.673650</td>\n",
       "      <td>0.727691</td>\n",
       "    </tr>\n",
       "    <tr>\n",
       "      <th>7369</th>\n",
       "      <td>0.718649</td>\n",
       "      <td>1.462758</td>\n",
       "      <td>0.767519</td>\n",
       "      <td>1.007389</td>\n",
       "      <td>0.152362</td>\n",
       "      <td>0.009086</td>\n",
       "      <td>0.670488</td>\n",
       "      <td>0.725718</td>\n",
       "    </tr>\n",
       "    <tr>\n",
       "      <th>7370</th>\n",
       "      <td>0.719399</td>\n",
       "      <td>1.461913</td>\n",
       "      <td>0.767530</td>\n",
       "      <td>1.005394</td>\n",
       "      <td>0.152362</td>\n",
       "      <td>0.009072</td>\n",
       "      <td>0.669411</td>\n",
       "      <td>0.724719</td>\n",
       "    </tr>\n",
       "    <tr>\n",
       "      <th>7371</th>\n",
       "      <td>0.718494</td>\n",
       "      <td>1.462544</td>\n",
       "      <td>0.767530</td>\n",
       "      <td>1.005834</td>\n",
       "      <td>0.152362</td>\n",
       "      <td>0.009072</td>\n",
       "      <td>0.669546</td>\n",
       "      <td>0.724719</td>\n",
       "    </tr>\n",
       "  </tbody>\n",
       "</table>\n",
       "<p>1784 rows × 8 columns</p>\n",
       "</div>"
      ],
      "text/plain": [
       "             0         1         2         3         4         5         6  \\\n",
       "5588  0.995025  1.623377  1.016033  1.109755  0.152221  0.012340  0.730407   \n",
       "5589  0.995025  1.623377  1.016033  1.109755  0.152221  0.012340  0.730407   \n",
       "5590  1.004853  1.629912  1.023123  1.104033  0.152323  0.012344  0.733460   \n",
       "5591  1.010509  1.637197  1.020721  1.107174  0.152614  0.012348  0.740521   \n",
       "5592  1.012545  1.625382  1.020106  1.101928  0.152486  0.012366  0.741730   \n",
       "...        ...       ...       ...       ...       ...       ...       ...   \n",
       "7367  0.719632  1.470415  0.764965  1.008985  0.152576  0.009074  0.676064   \n",
       "7368  0.721605  1.465438  0.769882  1.010285  0.152509  0.009112  0.673650   \n",
       "7369  0.718649  1.462758  0.767519  1.007389  0.152362  0.009086  0.670488   \n",
       "7370  0.719399  1.461913  0.767530  1.005394  0.152362  0.009072  0.669411   \n",
       "7371  0.718494  1.462544  0.767530  1.005834  0.152362  0.009072  0.669546   \n",
       "\n",
       "             7  \n",
       "5588  0.785484  \n",
       "5589  0.785484  \n",
       "5590  0.789359  \n",
       "5591  0.791452  \n",
       "5592  0.790952  \n",
       "...        ...  \n",
       "7367  0.725189  \n",
       "7368  0.727691  \n",
       "7369  0.725718  \n",
       "7370  0.724719  \n",
       "7371  0.724719  \n",
       "\n",
       "[1784 rows x 8 columns]"
      ]
     },
     "execution_count": 3,
     "metadata": {},
     "output_type": "execute_result"
    }
   ],
   "source": [
    "data = dataset[dataset.shape[0]-2000:dataset.shape[0]-24*9]\n",
    "data"
   ]
  },
  {
   "cell_type": "code",
   "execution_count": 4,
   "metadata": {},
   "outputs": [],
   "source": [
    "data1 = data.values"
   ]
  },
  {
   "cell_type": "code",
   "execution_count": 5,
   "metadata": {},
   "outputs": [
    {
     "data": {
      "text/plain": [
       "array([[0.995025, 1.623377, 1.016033, 1.109755],\n",
       "       [0.995025, 1.623377, 1.016033, 1.109755],\n",
       "       [1.004853, 1.629912, 1.023123, 1.104033],\n",
       "       ...,\n",
       "       [0.718649, 1.462758, 0.767519, 1.007389],\n",
       "       [0.719399, 1.461913, 0.76753 , 1.005394],\n",
       "       [0.718494, 1.462544, 0.76753 , 1.005834]])"
      ]
     },
     "execution_count": 5,
     "metadata": {},
     "output_type": "execute_result"
    }
   ],
   "source": [
    "#data = data1[:,[0, 61, 147, 241]]\n",
    "data = data1[:,:4]\n",
    "data"
   ]
  },
  {
   "cell_type": "code",
   "execution_count": 6,
   "metadata": {},
   "outputs": [
    {
     "data": {
      "text/plain": [
       "(1784, 4)"
      ]
     },
     "execution_count": 6,
     "metadata": {},
     "output_type": "execute_result"
    }
   ],
   "source": [
    "data.shape"
   ]
  },
  {
   "cell_type": "code",
   "execution_count": 7,
   "metadata": {},
   "outputs": [
    {
     "name": "stderr",
     "output_type": "stream",
     "text": [
      "C:\\Users\\Diego\\AppData\\Local\\Temp\\ipykernel_13104\\1836716845.py:6: VisibleDeprecationWarning: Creating an ndarray from ragged nested sequences (which is a list-or-tuple of lists-or-tuples-or ndarrays with different lengths or shapes) is deprecated. If you meant to do this, you must specify 'dtype=object' when creating the ndarray.\n",
      "  lag_notused = np.array([[4,5],[4,5],[4],[4,5]])\n"
     ]
    }
   ],
   "source": [
    "#Basic informations \n",
    "\n",
    "num_predictors = 70\n",
    "num_input = 15\n",
    "lag = 24*3\n",
    "lag_notused = np.array([[4,5],[4,5],[4],[4,5]])\n",
    "not_used_lag = False\n",
    "h_prev = 24\n",
    "#Actually, lag stands for all inputs for each serie. Example, lag = 2 uses s(t) and s(t-1) to predict s(t+1)\n",
    "diff_series = False\n",
    "detrend_series = False\n",
    "\n",
    "#bin_values = 12; #Representação da binarização do tempo.\n",
    "num_series = data.shape[1]  #Numero de series do problema, extraído dos dados\n",
    "\n",
    "max_rulesize = 4 #Max numbers of premises rules.\n",
    "min_activation = 0.6 #Minimum activation\n",
    "\n",
    "#####Definicao de funcoes######\n",
    "#detrend_method = ''\n",
    "#bin_method = ''\n",
    "\n",
    "fuzzy_method = 'mfdef_cluster'\n",
    "num_groups = 9\n",
    "\n",
    "defuzz_method = 'cog'\n",
    "\n",
    "ensemble_rules = None\n",
    "\n",
    "total_number = data.shape[1]*lag\n",
    "\n",
    "\n",
    "filepath = 'exchange-rate'\n",
    "\n"
   ]
  },
  {
   "cell_type": "code",
   "execution_count": 8,
   "metadata": {},
   "outputs": [],
   "source": [
    "preprocess_data = Preprocess(data,h_prev=h_prev,num_series=num_series)"
   ]
  },
  {
   "cell_type": "code",
   "execution_count": 9,
   "metadata": {},
   "outputs": [],
   "source": [
    "in_sample, out_sample = preprocess_data.split_data()\n",
    "yt, yp, yp_lagged = preprocess_data.delay_input(in_sample = in_sample, lag = lag)"
   ]
  },
  {
   "cell_type": "code",
   "execution_count": 10,
   "metadata": {},
   "outputs": [
    {
     "data": {
      "text/plain": [
       "(1687, 4)"
      ]
     },
     "execution_count": 10,
     "metadata": {},
     "output_type": "execute_result"
    }
   ],
   "source": [
    "yt.shape"
   ]
  },
  {
   "cell_type": "code",
   "execution_count": 11,
   "metadata": {},
   "outputs": [
    {
     "data": {
      "text/html": [
       "<div>\n",
       "<style scoped>\n",
       "    .dataframe tbody tr th:only-of-type {\n",
       "        vertical-align: middle;\n",
       "    }\n",
       "\n",
       "    .dataframe tbody tr th {\n",
       "        vertical-align: top;\n",
       "    }\n",
       "\n",
       "    .dataframe thead th {\n",
       "        text-align: right;\n",
       "    }\n",
       "</style>\n",
       "<table border=\"1\" class=\"dataframe\">\n",
       "  <thead>\n",
       "    <tr style=\"text-align: right;\">\n",
       "      <th></th>\n",
       "      <th>0</th>\n",
       "      <th>1</th>\n",
       "      <th>2</th>\n",
       "      <th>3</th>\n",
       "      <th>4</th>\n",
       "      <th>5</th>\n",
       "      <th>6</th>\n",
       "      <th>7</th>\n",
       "    </tr>\n",
       "  </thead>\n",
       "  <tbody>\n",
       "    <tr>\n",
       "      <th>0</th>\n",
       "      <td>0.785500</td>\n",
       "      <td>1.611000</td>\n",
       "      <td>0.861698</td>\n",
       "      <td>0.634196</td>\n",
       "      <td>0.211242</td>\n",
       "      <td>0.006838</td>\n",
       "      <td>0.593000</td>\n",
       "      <td>0.525486</td>\n",
       "    </tr>\n",
       "    <tr>\n",
       "      <th>1</th>\n",
       "      <td>0.781800</td>\n",
       "      <td>1.610000</td>\n",
       "      <td>0.861104</td>\n",
       "      <td>0.633513</td>\n",
       "      <td>0.211242</td>\n",
       "      <td>0.006863</td>\n",
       "      <td>0.594000</td>\n",
       "      <td>0.523972</td>\n",
       "    </tr>\n",
       "    <tr>\n",
       "      <th>2</th>\n",
       "      <td>0.786700</td>\n",
       "      <td>1.629300</td>\n",
       "      <td>0.861030</td>\n",
       "      <td>0.648508</td>\n",
       "      <td>0.211242</td>\n",
       "      <td>0.006975</td>\n",
       "      <td>0.597300</td>\n",
       "      <td>0.526316</td>\n",
       "    </tr>\n",
       "    <tr>\n",
       "      <th>3</th>\n",
       "      <td>0.786000</td>\n",
       "      <td>1.637000</td>\n",
       "      <td>0.862069</td>\n",
       "      <td>0.650618</td>\n",
       "      <td>0.211242</td>\n",
       "      <td>0.006953</td>\n",
       "      <td>0.597000</td>\n",
       "      <td>0.523834</td>\n",
       "    </tr>\n",
       "    <tr>\n",
       "      <th>4</th>\n",
       "      <td>0.784900</td>\n",
       "      <td>1.653000</td>\n",
       "      <td>0.861995</td>\n",
       "      <td>0.656254</td>\n",
       "      <td>0.211242</td>\n",
       "      <td>0.006940</td>\n",
       "      <td>0.598500</td>\n",
       "      <td>0.527426</td>\n",
       "    </tr>\n",
       "    <tr>\n",
       "      <th>...</th>\n",
       "      <td>...</td>\n",
       "      <td>...</td>\n",
       "      <td>...</td>\n",
       "      <td>...</td>\n",
       "      <td>...</td>\n",
       "      <td>...</td>\n",
       "      <td>...</td>\n",
       "      <td>...</td>\n",
       "    </tr>\n",
       "    <tr>\n",
       "      <th>7583</th>\n",
       "      <td>0.718494</td>\n",
       "      <td>1.222195</td>\n",
       "      <td>0.737485</td>\n",
       "      <td>0.969974</td>\n",
       "      <td>0.143697</td>\n",
       "      <td>0.008500</td>\n",
       "      <td>0.690846</td>\n",
       "      <td>0.688565</td>\n",
       "    </tr>\n",
       "    <tr>\n",
       "      <th>7584</th>\n",
       "      <td>0.721839</td>\n",
       "      <td>1.223459</td>\n",
       "      <td>0.741155</td>\n",
       "      <td>0.977297</td>\n",
       "      <td>0.143763</td>\n",
       "      <td>0.008595</td>\n",
       "      <td>0.695701</td>\n",
       "      <td>0.690288</td>\n",
       "    </tr>\n",
       "    <tr>\n",
       "      <th>7585</th>\n",
       "      <td>0.723197</td>\n",
       "      <td>1.234111</td>\n",
       "      <td>0.745184</td>\n",
       "      <td>0.984446</td>\n",
       "      <td>0.143997</td>\n",
       "      <td>0.008562</td>\n",
       "      <td>0.695943</td>\n",
       "      <td>0.691419</td>\n",
       "    </tr>\n",
       "    <tr>\n",
       "      <th>7586</th>\n",
       "      <td>0.720825</td>\n",
       "      <td>1.233905</td>\n",
       "      <td>0.744131</td>\n",
       "      <td>0.980344</td>\n",
       "      <td>0.143993</td>\n",
       "      <td>0.008555</td>\n",
       "      <td>0.692689</td>\n",
       "      <td>0.690942</td>\n",
       "    </tr>\n",
       "    <tr>\n",
       "      <th>7587</th>\n",
       "      <td>0.720825</td>\n",
       "      <td>1.233905</td>\n",
       "      <td>0.744131</td>\n",
       "      <td>0.980344</td>\n",
       "      <td>0.143993</td>\n",
       "      <td>0.008555</td>\n",
       "      <td>0.692689</td>\n",
       "      <td>0.690942</td>\n",
       "    </tr>\n",
       "  </tbody>\n",
       "</table>\n",
       "<p>7588 rows × 8 columns</p>\n",
       "</div>"
      ],
      "text/plain": [
       "             0         1         2         3         4         5         6  \\\n",
       "0     0.785500  1.611000  0.861698  0.634196  0.211242  0.006838  0.593000   \n",
       "1     0.781800  1.610000  0.861104  0.633513  0.211242  0.006863  0.594000   \n",
       "2     0.786700  1.629300  0.861030  0.648508  0.211242  0.006975  0.597300   \n",
       "3     0.786000  1.637000  0.862069  0.650618  0.211242  0.006953  0.597000   \n",
       "4     0.784900  1.653000  0.861995  0.656254  0.211242  0.006940  0.598500   \n",
       "...        ...       ...       ...       ...       ...       ...       ...   \n",
       "7583  0.718494  1.222195  0.737485  0.969974  0.143697  0.008500  0.690846   \n",
       "7584  0.721839  1.223459  0.741155  0.977297  0.143763  0.008595  0.695701   \n",
       "7585  0.723197  1.234111  0.745184  0.984446  0.143997  0.008562  0.695943   \n",
       "7586  0.720825  1.233905  0.744131  0.980344  0.143993  0.008555  0.692689   \n",
       "7587  0.720825  1.233905  0.744131  0.980344  0.143993  0.008555  0.692689   \n",
       "\n",
       "             7  \n",
       "0     0.525486  \n",
       "1     0.523972  \n",
       "2     0.526316  \n",
       "3     0.523834  \n",
       "4     0.527426  \n",
       "...        ...  \n",
       "7583  0.688565  \n",
       "7584  0.690288  \n",
       "7585  0.691419  \n",
       "7586  0.690942  \n",
       "7587  0.690942  \n",
       "\n",
       "[7588 rows x 8 columns]"
      ]
     },
     "execution_count": 11,
     "metadata": {},
     "output_type": "execute_result"
    }
   ],
   "source": [
    "dataset[0:]"
   ]
  },
  {
   "cell_type": "code",
   "execution_count": 12,
   "metadata": {},
   "outputs": [
    {
     "data": {
      "text/plain": [
       "[<matplotlib.lines.Line2D at 0x173afc96b30>]"
      ]
     },
     "execution_count": 12,
     "metadata": {},
     "output_type": "execute_result"
    },
    {
     "data": {
      "image/png": "[encoded data removed]",
      "text/plain": [
       "<Figure size 432x288 with 1 Axes>"
      ]
     },
     "metadata": {
      "needs_background": "light"
     },
     "output_type": "display_data"
    }
   ],
   "source": [
    "plt.plot(dataset[0][0:700])"
   ]
  },
  {
   "cell_type": "code",
   "execution_count": null,
   "metadata": {},
   "outputs": [],
   "source": []
  },
  {
   "cell_type": "code",
   "execution_count": 13,
   "metadata": {
    "tags": []
   },
   "outputs": [
    {
     "name": "stderr",
     "output_type": "stream",
     "text": [
      "D:\\Users\\lemos\\Dissertacao\\Exchange_Rate\\tnorm.py:4: SyntaxWarning: \"is\" with a literal. Did you mean \"==\"?\n",
      "  if name is 'min':\n",
      "D:\\Users\\lemos\\Dissertacao\\Exchange_Rate\\tnorm.py:6: SyntaxWarning: \"is\" with a literal. Did you mean \"==\"?\n",
      "  elif name is 'prod':\n",
      "D:\\Users\\lemos\\Dissertacao\\Exchange_Rate\\fuzzyfication.py:17: SyntaxWarning: \"is\" with a literal. Did you mean \"==\"?\n",
      "  if self.name is 'mfdef_triangle':\n",
      "D:\\Users\\lemos\\Dissertacao\\Exchange_Rate\\fuzzyfication.py:21: SyntaxWarning: \"is\" with a literal. Did you mean \"==\"?\n",
      "  elif self.name is 'mfdef_tukkey':\n",
      "D:\\Users\\lemos\\Dissertacao\\Exchange_Rate\\fuzzyfication.py:25: SyntaxWarning: \"is\" with a literal. Did you mean \"==\"?\n",
      "  elif self.name is 'mfdef_cluster':\n"
     ]
    }
   ],
   "source": [
    "import seaborn as sns\n",
    "from copy import deepcopy\n",
    "from utils import *\n",
    "\n",
    "import itertools\n",
    "import json\n",
    "import os\n",
    "\n",
    "#For e-autoMFIS, we import all of them.\n",
    "from autoMFIS import *\n",
    "import numpy as np\n",
    "import scipy.io\n",
    "from reweight import Reweight\n",
    "from fuzzyfication import Fuzzification\n",
    "from defuzzification import Defuzzification\n",
    "import matplotlib.pyplot as plt\n",
    "from predict import predict\n",
    "\n",
    "\n",
    "\n",
    "def convert_object_to_float(data,datanames):\n",
    "    \n",
    "    for name in datanames:\n",
    "        dname = data[name].values.astype('str')\n",
    "        dname = [new_value.replace(',','.') for new_value in dname]\n",
    "        data[name] = dname\n",
    "        data[name] = data[name].astype(float)\n",
    "    return data\n",
    "\n",
    "##Assertion for ensemble rules\n",
    "#Somehow, when appending rules, ensemble_rules[:,1] has a erroneous form. This part seems to normalize it.\n",
    "\n",
    "#This module correct this error. Also, we are going to use some assertion to check if rules contains the same antecedents.\n",
    "def correct_bug(ensemble_rules,max_rulesize=0):\n",
    "    correct_rule = []\n",
    "    d_stacked_rules = []\n",
    "    new_ensemble_rules = np.zeros(shape=ensemble_rules.shape, dtype=object)\n",
    "\n",
    "\n",
    "    for  n_times in range(ensemble_rules.shape[1]):\n",
    "        t_rules = ensemble_rules[:,n_times]\n",
    "        correct_rule = []\n",
    "        d_stacked_rules = []\n",
    "        k = 0\n",
    "        for rule in t_rules:\n",
    "            #print(rule)\n",
    "            #print(len(rule))\n",
    "            #Check if there's a rule bigger than max_rulesize + 1 (#antecedents + #consequent)\n",
    "            if len(rule) > max_rulesize + 1:\n",
    "                #print(rule)\n",
    "                for i in rule:\n",
    "                    #k += 1\n",
    "                    if isinstance(i,tuple):\n",
    "                        #print(i)\n",
    "                        correct_rule.append(i)\n",
    "                    else:\n",
    "                        if len(correct_rule) == 0:\n",
    "                            #print(i)\n",
    "                            pass\n",
    "                            #d_stacked_rules.append(i)\n",
    "                        else:\n",
    "                            #print(correct_rule)\n",
    "                            new_ensemble_rules[k,n_times] = correct_rule\n",
    "                            k += 1\n",
    "                            #d_stacked_rules.append(correct_rule)\n",
    "                            correct_rule = []\n",
    "                            #d_stacked_rules.append(i)\n",
    "            else:\n",
    "                new_ensemble_rules[k,n_times] = rule\n",
    "                k += 1\n",
    "                #d_stacked_rules.append(rule)\n",
    "            \n",
    "        #new_ensemble_rules[:,i] = np.array(d_stacked_rules)\n",
    "\n",
    "    return new_ensemble_rules\n",
    "\n",
    "def remove_duplicates(new_ensemble_rules,ensemble_prem_terms, ensemble_antecedents):\n",
    "    t_rules = deepcopy(new_ensemble_rules[:,0])\n",
    "    no_duplicated_ensemble = np.zeros(new_ensemble_rules.shape,dtype=object)\n",
    "    no_duplicated_prem_terms = np.zeros(ensemble_prem_terms.shape)\n",
    "    no_duplicated_antecedents = np.zeros(ensemble_antecedents.shape,dtype=object)\n",
    "    new_t_rules = None\n",
    "\n",
    "    k = 0\n",
    "    j = 0\n",
    "    for rule in t_rules:\n",
    "        if new_t_rules is None:\n",
    "            new_t_rules = [rule]\n",
    "            no_duplicated_ensemble[k,:] = deepcopy(new_ensemble_rules[j,:])\n",
    "            no_duplicated_prem_terms[k,:] = deepcopy(ensemble_prem_terms[j,:])\n",
    "            no_duplicated_antecedents[k,:] = deepcopy(ensemble_antecedents[j,:])\n",
    "            k += 1\n",
    "\n",
    "        elif not check_duplicate_rules(rule,new_t_rules):\n",
    "            new_t_rules.append(rule)\n",
    "            no_duplicated_ensemble[k,:] = deepcopy(new_ensemble_rules[j,:])\n",
    "            no_duplicated_prem_terms[k,:] = deepcopy(ensemble_prem_terms[j,:])\n",
    "            no_duplicated_antecedents[k,:] = deepcopy(ensemble_antecedents[j,:])\n",
    "            k += 1\n",
    "        j += 1\n",
    "\n",
    "    new_rules = deepcopy(no_duplicated_ensemble[:k,:])\n",
    "    new_prem_terms = deepcopy(no_duplicated_prem_terms[:k,:])\n",
    "    new_antecedents = deepcopy(no_duplicated_antecedents[:k,:])\n",
    "\n",
    "    return new_rules, new_prem_terms, new_antecedents\n",
    "\n"
   ]
  },
  {
   "cell_type": "code",
   "execution_count": 14,
   "metadata": {},
   "outputs": [
    {
     "data": {
      "text/plain": [
       "'\\nt = [a + n for n in range(0,data.shape[0]-168,168) for a in range(24)]\\nt_lagged = [v - lag for v in t if (v-lag) > 0 and (v-lag) < yp.shape[0]]\\nyp = deepcopy(yp[t_lagged,:])\\nyt = deepcopy(yt[t_lagged,:])\\nyp_lagged = deepcopy(yp_lagged[t_lagged,:])\\n\\ndata = deepcopy(data[t[len(t)-len(t_lagged):],:])\\nin_sample = data[:data.shape[0]-h_prev,:]\\nout_sample = data[data.shape[0]-h_prev:,:]\\n\\nprint(len(t_lagged))\\n'"
      ]
     },
     "execution_count": 14,
     "metadata": {},
     "output_type": "execute_result"
    }
   ],
   "source": [
    "'''\n",
    "t = [a + n for n in range(0,data.shape[0]-168,168) for a in range(24)]\n",
    "t_lagged = [v - lag for v in t if (v-lag) > 0 and (v-lag) < yp.shape[0]]\n",
    "yp = deepcopy(yp[t_lagged,:])\n",
    "yt = deepcopy(yt[t_lagged,:])\n",
    "yp_lagged = deepcopy(yp_lagged[t_lagged,:])\n",
    "\n",
    "data = deepcopy(data[t[len(t)-len(t_lagged):],:])\n",
    "in_sample = data[:data.shape[0]-h_prev,:]\n",
    "out_sample = data[data.shape[0]-h_prev:,:]\n",
    "\n",
    "print(len(t_lagged))\n",
    "'''"
   ]
  },
  {
   "cell_type": "code",
   "execution_count": 15,
   "metadata": {
    "tags": []
   },
   "outputs": [
    {
     "name": "stdout",
     "output_type": "stream",
     "text": [
      "Predict number 0\n"
     ]
    },
    {
     "ename": "FileNotFoundError",
     "evalue": "[Errno 2] No such file or directory: 'results/exchange-rate/Outsample subsample_0.txt'",
     "output_type": "error",
     "traceback": [
      "\u001b[1;31m---------------------------------------------------------------------------\u001b[0m",
      "\u001b[1;31mFileNotFoundError\u001b[0m                         Traceback (most recent call last)",
      "Input \u001b[1;32mIn [15]\u001b[0m, in \u001b[0;36m<cell line: 48>\u001b[1;34m()\u001b[0m\n\u001b[0;32m     52\u001b[0m \u001b[38;5;28mprint\u001b[39m(\u001b[38;5;124m'\u001b[39m\u001b[38;5;124mPredict number \u001b[39m\u001b[38;5;132;01m{}\u001b[39;00m\u001b[38;5;124m'\u001b[39m\u001b[38;5;241m.\u001b[39mformat(i))\n\u001b[0;32m     53\u001b[0m \u001b[38;5;66;03m#Prediction of a single subset\u001b[39;00m\n\u001b[1;32m---> 54\u001b[0m errors \u001b[38;5;241m=\u001b[39m \u001b[43mpredict\u001b[49m\u001b[43m(\u001b[49m\u001b[43mFuzzyfy\u001b[49m\u001b[43m,\u001b[49m\u001b[43m \u001b[49m\u001b[43mlags_used\u001b[49m\u001b[43m \u001b[49m\u001b[38;5;241;43m=\u001b[39;49m\u001b[43m \u001b[49m\u001b[43m[\u001b[49m\u001b[43m]\u001b[49m\u001b[43m,\u001b[49m\u001b[43m \u001b[49m\u001b[43mnum_groups\u001b[49m\u001b[38;5;241;43m=\u001b[39;49m\u001b[43mnum_groups\u001b[49m\u001b[43m,\u001b[49m\u001b[43m \u001b[49m\u001b[43mndata\u001b[49m\u001b[38;5;241;43m=\u001b[39;49m\u001b[43mdataset\u001b[49m\u001b[43m,\u001b[49m\u001b[43m \u001b[49m\u001b[43mdata\u001b[49m\u001b[38;5;241;43m=\u001b[39;49m\u001b[43mdata\u001b[49m\u001b[43m,\u001b[49m\u001b[43min_sample\u001b[49m\u001b[38;5;241;43m=\u001b[39;49m\u001b[43min_sample\u001b[49m\u001b[43m,\u001b[49m\u001b[43mout_sample\u001b[49m\u001b[38;5;241;43m=\u001b[39;49m\u001b[43mout_sample\u001b[49m\u001b[43m,\u001b[49m\u001b[43m \u001b[49m\u001b[43mlag\u001b[49m\u001b[43m \u001b[49m\u001b[38;5;241;43m=\u001b[39;49m\u001b[43m \u001b[49m\u001b[43mlag\u001b[49m\u001b[43m,\u001b[49m\u001b[43m \u001b[49m\u001b[43mmf_params_\u001b[49m\u001b[38;5;241;43m=\u001b[39;49m\u001b[43mmf_params_\u001b[49m\u001b[43m,\u001b[49m\u001b[43mnum_series\u001b[49m\u001b[38;5;241;43m=\u001b[39;49m\u001b[43mnum_series\u001b[49m\u001b[43m,\u001b[49m\u001b[43magg_training\u001b[49m\u001b[38;5;241;43m=\u001b[39;49m\u001b[43magg_training\u001b[49m\u001b[43m,\u001b[49m\u001b[43myp_lagged\u001b[49m\u001b[38;5;241;43m=\u001b[39;49m\u001b[43myp_lagged\u001b[49m\u001b[43m,\u001b[49m\u001b[43mh_prev\u001b[49m\u001b[38;5;241;43m=\u001b[39;49m\u001b[43mh_prev\u001b[49m\u001b[43m,\u001b[49m\u001b[43mnot_used_lag\u001b[49m\u001b[38;5;241;43m=\u001b[39;49m\u001b[43mnot_used_lag\u001b[49m\u001b[43m,\u001b[49m\u001b[43mn_attempt\u001b[49m\u001b[38;5;241;43m=\u001b[39;49m\u001b[38;5;124;43m'\u001b[39;49m\u001b[38;5;124;43msubsample_\u001b[39;49m\u001b[38;5;132;43;01m{}\u001b[39;49;00m\u001b[38;5;124;43m'\u001b[39;49m\u001b[38;5;241;43m.\u001b[39;49m\u001b[43mformat\u001b[49m\u001b[43m(\u001b[49m\u001b[43mi\u001b[49m\u001b[43m)\u001b[49m\u001b[43m,\u001b[49m\u001b[43mwd_\u001b[49m\u001b[38;5;241;43m=\u001b[39;49m\u001b[43mwd_\u001b[49m\u001b[43m,\u001b[49m\u001b[43mensemble_antecedents\u001b[49m\u001b[38;5;241;43m=\u001b[39;49m\u001b[43mrules\u001b[49m\u001b[43m,\u001b[49m\u001b[43mensemble_rules\u001b[49m\u001b[38;5;241;43m=\u001b[39;49m\u001b[43mcomplete_rules\u001b[49m\u001b[43m,\u001b[49m\u001b[43mfilepath\u001b[49m\u001b[38;5;241;43m=\u001b[39;49m\u001b[43mfilepath\u001b[49m\u001b[43m,\u001b[49m\u001b[43mlim\u001b[49m\u001b[38;5;241;43m=\u001b[39;49m\u001b[38;5;241;43m3.0\u001b[39;49m\u001b[43m,\u001b[49m\u001b[43mdefuzz_method\u001b[49m\u001b[38;5;241;43m=\u001b[39;49m\u001b[43mdefuzz_method\u001b[49m\u001b[43m,\u001b[49m\u001b[43mfig_axis\u001b[49m\u001b[38;5;241;43m=\u001b[39;49m\u001b[43m[\u001b[49m\u001b[38;5;241;43m2\u001b[39;49m\u001b[43m,\u001b[49m\u001b[38;5;241;43m2\u001b[39;49m\u001b[43m]\u001b[49m\u001b[43m)\u001b[49m\n\u001b[0;32m     55\u001b[0m \u001b[38;5;66;03m#print(errors)\u001b[39;00m\n\u001b[0;32m     56\u001b[0m \u001b[38;5;66;03m#print(complete_rules)\u001b[39;00m\n\u001b[0;32m     57\u001b[0m \u001b[38;5;28;01mif\u001b[39;00m errors[\u001b[38;5;241m0\u001b[39m,\u001b[38;5;241m0\u001b[39m] \u001b[38;5;241m<\u001b[39m \u001b[38;5;241m0.02\u001b[39m:\n",
      "File \u001b[1;32mD:\\Users\\lemos\\Dissertacao\\Exchange_Rate\\predict.py:134\u001b[0m, in \u001b[0;36mpredict\u001b[1;34m(Fuzzyfy, lags_used, num_groups, ndata, data, in_sample, out_sample, lag, mf_params_, num_series, agg_training, yp_lagged, h_prev, n_attempt, wd_, ensemble_antecedents, ensemble_rules, not_used_lag, detrend_series, diff_series, filepath, lim, defuzz_method, fig_axis)\u001b[0m\n\u001b[0;32m    128\u001b[0m     yp_totest \u001b[38;5;241m=\u001b[39m y_temp\n\u001b[0;32m    130\u001b[0m \u001b[38;5;66;03m#Plot training results\u001b[39;00m\n\u001b[0;32m    131\u001b[0m \u001b[38;5;66;03m#plot_training(y_predict_=y_predict_,num_series=num_series,in_sample=in_sample,lag=lag,ndata=ndata,data=data,trends=[],filename='{}/Insample {}'.format(filepath,n_attempt),fig_axis=fig_axis)\u001b[39;00m\n\u001b[0;32m    132\u001b[0m \n\u001b[0;32m    133\u001b[0m \u001b[38;5;66;03m#Plot predicted results and returns error metrics\u001b[39;00m\n\u001b[1;32m--> 134\u001b[0m errors \u001b[38;5;241m=\u001b[39m \u001b[43mplot_predict\u001b[49m\u001b[43m(\u001b[49m\u001b[43mlim\u001b[49m\u001b[38;5;241;43m=\u001b[39;49m\u001b[43mlim\u001b[49m\u001b[43m,\u001b[49m\u001b[43myt_totest\u001b[49m\u001b[38;5;241;43m=\u001b[39;49m\u001b[43myt_totest\u001b[49m\u001b[43m,\u001b[49m\u001b[43mnum_series\u001b[49m\u001b[38;5;241;43m=\u001b[39;49m\u001b[43mnum_series\u001b[49m\u001b[43m,\u001b[49m\u001b[43mdata\u001b[49m\u001b[38;5;241;43m=\u001b[39;49m\u001b[43mdata\u001b[49m\u001b[43m,\u001b[49m\u001b[43min_sample\u001b[49m\u001b[38;5;241;43m=\u001b[39;49m\u001b[43min_sample\u001b[49m\u001b[43m,\u001b[49m\u001b[43mout_sample\u001b[49m\u001b[38;5;241;43m=\u001b[39;49m\u001b[43mout_sample\u001b[49m\u001b[43m,\u001b[49m\u001b[43mtrends\u001b[49m\u001b[38;5;241;43m=\u001b[39;49m\u001b[43m[\u001b[49m\u001b[43m]\u001b[49m\u001b[43m,\u001b[49m\u001b[43mndata\u001b[49m\u001b[38;5;241;43m=\u001b[39;49m\u001b[43mndata\u001b[49m\u001b[43m,\u001b[49m\u001b[43mfilename\u001b[49m\u001b[38;5;241;43m=\u001b[39;49m\u001b[38;5;124;43m'\u001b[39;49m\u001b[38;5;132;43;01m{}\u001b[39;49;00m\u001b[38;5;124;43m/Outsample \u001b[39;49m\u001b[38;5;132;43;01m{}\u001b[39;49;00m\u001b[38;5;124;43m'\u001b[39;49m\u001b[38;5;241;43m.\u001b[39;49m\u001b[43mformat\u001b[49m\u001b[43m(\u001b[49m\u001b[43mfilepath\u001b[49m\u001b[43m,\u001b[49m\u001b[43mn_attempt\u001b[49m\u001b[43m)\u001b[49m\u001b[43m,\u001b[49m\u001b[43m \u001b[49m\u001b[43mfig_axis\u001b[49m\u001b[38;5;241;43m=\u001b[39;49m\u001b[43mfig_axis\u001b[49m\u001b[43m)\u001b[49m\n\u001b[0;32m    136\u001b[0m \u001b[38;5;28;01mreturn\u001b[39;00m errors\n",
      "File \u001b[1;32mD:\\Users\\lemos\\Dissertacao\\Exchange_Rate\\predict.py:218\u001b[0m, in \u001b[0;36mplot_predict\u001b[1;34m(lim, yt_totest, num_series, data, in_sample, out_sample, trends, ndata, filename, diff_series, detrend_series, fig_axis)\u001b[0m\n\u001b[0;32m    216\u001b[0m errors[\u001b[38;5;241m1\u001b[39m,\u001b[38;5;241m0\u001b[39m] \u001b[38;5;241m=\u001b[39m mae\n\u001b[0;32m    217\u001b[0m \u001b[38;5;28;01mif\u001b[39;00m rmse \u001b[38;5;241m<\u001b[39m lim:\n\u001b[1;32m--> 218\u001b[0m     \u001b[38;5;28;01mwith\u001b[39;00m \u001b[38;5;28;43mopen\u001b[39;49m\u001b[43m(\u001b[49m\u001b[38;5;124;43m'\u001b[39;49m\u001b[38;5;124;43mresults/\u001b[39;49m\u001b[38;5;132;43;01m{}\u001b[39;49;00m\u001b[38;5;124;43m.txt\u001b[39;49m\u001b[38;5;124;43m'\u001b[39;49m\u001b[38;5;241;43m.\u001b[39;49m\u001b[43mformat\u001b[49m\u001b[43m(\u001b[49m\u001b[43mfilename\u001b[49m\u001b[43m)\u001b[49m\u001b[43m,\u001b[49m\u001b[38;5;124;43m'\u001b[39;49m\u001b[38;5;124;43mw\u001b[39;49m\u001b[38;5;124;43m'\u001b[39;49m\u001b[43m)\u001b[49m \u001b[38;5;28;01mas\u001b[39;00m f:\n\u001b[0;32m    219\u001b[0m         \u001b[38;5;28;01mfor\u001b[39;00m i \u001b[38;5;129;01min\u001b[39;00m \u001b[38;5;28mrange\u001b[39m(num_series):\n\u001b[0;32m    220\u001b[0m             rmse \u001b[38;5;241m=\u001b[39m sqrt(mean_squared_error(Y__[:,i], Yt__[:,i]))\n",
      "\u001b[1;31mFileNotFoundError\u001b[0m: [Errno 2] No such file or directory: 'results/exchange-rate/Outsample subsample_0.txt'"
     ]
    }
   ],
   "source": [
    "###############Fuzzificacao\n",
    "\n",
    "Fuzzyfy = Fuzzification(fuzzy_method)\n",
    "\n",
    "#Lembrete: \n",
    "#axis 0 - Registros da série\n",
    "#axis 1 - Valor de pertinência ao conjunto Fuzzy\n",
    "#axis 2 - Numero de séries\n",
    "\n",
    "first_time = True\n",
    "for n in range(num_series):\n",
    "    \n",
    "    _, mf_params = Fuzzyfy.fuzzify(in_sample[:,n],np.array([]),num_groups=num_groups)\n",
    "    mX, _ = Fuzzyfy.fuzzify(yp[:,n],mf_params,num_groups=num_groups)\n",
    "    mY, _ = Fuzzyfy.fuzzify(yt[:,n],mf_params,num_groups=num_groups)\n",
    "    if first_time:\n",
    "        mX_ = np.ndarray([mX.shape[0],mX.shape[1], num_series])\n",
    "        mY_ = np.ndarray([mY.shape[0],mY.shape[1], num_series])\n",
    "        mf_params_ = np.ndarray([mf_params.shape[0],num_series])\n",
    "        first_time = False\n",
    "    mX_[:,:,n] = mX\n",
    "    mY_[:,:,n] = mY\n",
    "    mf_params_[:,n] = mf_params.ravel()\n",
    "    #print(mf_params)\n",
    "    #print(mX.shape)\n",
    "\n",
    "\n",
    "mX_lagged_ = np.ndarray([mX_.shape[0],mX_.shape[1],yp_lagged.shape[1]])\n",
    "for i in range(num_series):\n",
    "    mf_params = mf_params_[:,i]\n",
    "    for j in range(lag):\n",
    "        mX, _ = Fuzzyfy.fuzzify(yp_lagged[:,i*lag+j],mf_params,num_groups=num_groups)\n",
    "        mX_lagged_[:,:,i*lag+j] = mX\n",
    "        #print(i*lag+j)\n",
    "\n",
    "\n",
    "#mX_lagged_[:,:,not_select_subsample] = 0\n",
    "\n",
    "#print(mX_lagged_[:,:,not_select_subsample])\n",
    "############## Formulacao\n",
    "if not_used_lag:\n",
    "    new_mX, lags_used = remove_lags(mX_lagged_,lag_notused,num_series,lag)\n",
    "else:\n",
    "    new_mX = mX_lagged_\n",
    "\n",
    "\n",
    "#Concatenate rules\n",
    "for i in range(num_predictors):\n",
    "    not_select_subsample = np.random.choice(total_number,total_number-num_input,replace=False)\n",
    "    #try:\n",
    "    complete_rules, prem_terms, rules, agg_training, wd_ = autoMFIS(data,lag=lag, lag_notused=lag_notused, not_used_lag=not_used_lag,not_select_subsample=not_select_subsample, h_prev = h_prev, diff_series=diff_series, detrend_series=detrend_series, num_series=num_series, max_rulesize=max_rulesize, min_activation=min_activation, fuzzy_method=fuzzy_method, num_groups=num_groups,solve_method='mqr',defuzz_method=defuzz_method,yt=yt,yp=yp,yp_lagged=yp_lagged,in_sample=in_sample,out_sample=out_sample)\n",
    "    print('Predict number {}'.format(i))\n",
    "    #Prediction of a single subset\n",
    "    errors = predict(Fuzzyfy, lags_used = [], num_groups=num_groups, ndata=dataset, data=data,in_sample=in_sample,out_sample=out_sample, lag = lag, mf_params_=mf_params_,num_series=num_series,agg_training=agg_training,yp_lagged=yp_lagged,h_prev=h_prev,not_used_lag=not_used_lag,n_attempt='subsample_{}'.format(i),wd_=wd_,ensemble_antecedents=rules,ensemble_rules=complete_rules,filepath=filepath,lim=3.0,defuzz_method=defuzz_method,fig_axis=[2,2])\n",
    "    #print(errors)\n",
    "    #print(complete_rules)\n",
    "    if errors[0,0] < 0.02:\n",
    "        if ensemble_rules is None:\n",
    "            ensemble_rules = complete_rules\n",
    "            ensemble_prem_terms = prem_terms\n",
    "            ensemble_antecedents = rules\n",
    "            #print(ensemble_rules.shape)\n",
    "        else:\n",
    "            ensemble_rules = np.concatenate((ensemble_rules, complete_rules))\n",
    "            \n",
    "            ensemble_prem_terms = np.concatenate((ensemble_prem_terms,prem_terms))\n",
    "            ensemble_antecedents = np.concatenate((ensemble_antecedents,rules))\n",
    "            print(ensemble_rules.shape)\n",
    "            print(ensemble_prem_terms.shape)\n",
    "        #print(ensemble_rules[:,0])\n",
    "    print('RMSE Errors = {}'.format(errors[0,:]))\n",
    "    print('RRSE Errors = {}'.format(errors[1,:]))\n",
    "    print('Mean RRSE Error = {}'.format(np.mean(errors[1,:])))\n",
    "\n",
    "    #except Exception as e:\n",
    "    #    print(e)\n",
    "    #    pass\n",
    "\n",
    "new_ensemble_rules = correct_bug(ensemble_rules,max_rulesize=max_rulesize)\n",
    "\n",
    "new_rules, new_prem_terms, new_antecedents = remove_duplicates(new_ensemble_rules,ensemble_prem_terms, ensemble_antecedents)\n",
    "\n",
    "rw = Reweight(mY_,new_rules,new_prem_terms)\n",
    "wd_, agg_training = rw.run('mqr',debug=False)\n",
    "\n",
    "predict(Fuzzyfy, lags_used = [], num_groups=num_groups, ndata=dataset, data=data,in_sample=in_sample,out_sample=out_sample, lag = lag, mf_params_=mf_params_,num_series=num_series,agg_training=agg_training,yp_lagged=yp_lagged,h_prev=h_prev,not_used_lag=not_used_lag,n_attempt='_{}'.format(i),wd_=wd_,ensemble_antecedents=new_antecedents,ensemble_rules=new_rules,filepath=filepath,lim=3.0,defuzz_method=defuzz_method,fig_axis=[2,2])"
   ]
  },
  {
   "cell_type": "code",
   "execution_count": null,
   "metadata": {},
   "outputs": [],
   "source": [
    "#rw = Reweight(mY_,complete_rules,prem_terms)\n",
    "#wd_, agg_training = rw.run('mqr',debug=False)\n",
    "#defuzz = Defuzzification(mf_params_,num_series)\n",
    "#y_predict_ = defuzz.run('mom',agg_training,show=True)"
   ]
  },
  {
   "cell_type": "code",
   "execution_count": null,
   "metadata": {},
   "outputs": [],
   "source": [
    "plt.plot(y_predict_[:,0])\n",
    "plt.plot(in_sample[:,0])\n",
    "plt.yticks(np.arange(0,0.5,0.03))"
   ]
  },
  {
   "cell_type": "code",
   "execution_count": null,
   "metadata": {
    "tags": []
   },
   "outputs": [],
   "source": [
    "m = max(a)\n",
    "mom = [i for i,j in enumerate(a) if j==m]\n",
    "print('MoM = {}'.format(0.5*(mom[0]+mom[-1])))"
   ]
  },
  {
   "cell_type": "code",
   "execution_count": null,
   "metadata": {},
   "outputs": [],
   "source": [
    "plt.plot(data)"
   ]
  },
  {
   "cell_type": "code",
   "execution_count": null,
   "metadata": {},
   "outputs": [],
   "source": [
    "data2 = dataset.values"
   ]
  },
  {
   "cell_type": "code",
   "execution_count": null,
   "metadata": {},
   "outputs": [],
   "source": []
  },
  {
   "cell_type": "code",
   "execution_count": null,
   "metadata": {},
   "outputs": [],
   "source": [
    "plt.plot(data2[timestamps,0])"
   ]
  },
  {
   "cell_type": "code",
   "execution_count": null,
   "metadata": {},
   "outputs": [],
   "source": [
    "for i in range(30,40):\n",
    "    plt.figure()\n",
    "    for t in timestamps:\n",
    "        plt.plot(data2[t,i])"
   ]
  },
  {
   "cell_type": "code",
   "execution_count": null,
   "metadata": {},
   "outputs": [],
   "source": []
  }
 ],
 "metadata": {
  "kernelspec": {
   "display_name": "Python 3 (ipykernel)",
   "language": "python",
   "name": "python3"
  },
  "language_info": {
   "codemirror_mode": {
    "name": "ipython",
    "version": 3
   },
   "file_extension": ".py",
   "mimetype": "text/x-python",
   "name": "python",
   "nbconvert_exporter": "python",
   "pygments_lexer": "ipython3",
   "version": "3.10.4"
  }
 },
 "nbformat": 4,
 "nbformat_minor": 4
}
